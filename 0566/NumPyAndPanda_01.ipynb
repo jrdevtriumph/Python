{
 "cells": [
  {
   "cell_type": "code",
   "execution_count": 1,
   "id": "285af5a0-44df-4c16-ad1c-2431ae610a08",
   "metadata": {
    "scrolled": true
   },
   "outputs": [
    {
     "name": "stdout",
     "output_type": "stream",
     "text": [
      "Names: ['Alice', 'Bob', 'Charlie', 'David', 'Eve']\n",
      "Subjects: ['Math', 'Science', 'English', 'Bangla']\n",
      "Scores (raw data):\n",
      " [[88 78 64 92]\n",
      " [57 70 88 68]\n",
      " [72 60 60 73]\n",
      " [85 89 73 52]\n",
      " [71 51 73 93]]\n"
     ]
    }
   ],
   "source": [
    "# Importing required libraries\n",
    "import numpy as np\n",
    "import pandas as pd\n",
    "\n",
    "# Step 1: Create synthetic data using NumPy\n",
    "np.random.seed(42)  # Setting a seed ensures reproducibility; results will always be the same.\n",
    "\n",
    "# Defining names of students and subjects\n",
    "names = ['Alice', 'Bob', 'Charlie', 'David', 'Eve']  # List of student names\n",
    "subjects = ['Math', 'Science', 'English', 'Bangla']  # List of subjects\n",
    "\n",
    "# Generating random scores for students in each subject\n",
    "# Scores will be integers between 50 and 100 for a 5x4 matrix (5 students, 4 subjects)\n",
    "scores = np.random.randint(50, 100, size=(5, 4))\n",
    "\n",
    "# Displaying the generated data\n",
    "print('Names:', names)\n",
    "print('Subjects:', subjects)\n",
    "print('Scores (raw data):\\n', scores)"
   ]
  },
  {
   "cell_type": "code",
   "execution_count": 2,
   "id": "3c48751d-9130-4683-8218-4f5d30b683c9",
   "metadata": {},
   "outputs": [
    {
     "name": "stdout",
     "output_type": "stream",
     "text": [
      "\n",
      "Initial DataFrame:\n",
      "          Math  Science  English  Bangla\n",
      "Alice      88       78       64      92\n",
      "Bob        57       70       88      68\n",
      "Charlie    72       60       60      73\n",
      "David      85       89       73      52\n",
      "Eve        71       51       73      93\n"
     ]
    }
   ],
   "source": [
    "# Step 2: Create a DataFrame with Pandas\n",
    "# Create a DataFrame where rows represent students and columns represent subjects\n",
    "df = pd.DataFrame(scores, index=names, columns=subjects)\n",
    "print(\"\\nInitial DataFrame:\\n\", df)"
   ]
  },
  {
   "cell_type": "code",
   "execution_count": 3,
   "id": "6bbb4611-67fc-47e8-a411-063f118428dd",
   "metadata": {},
   "outputs": [
    {
     "name": "stdout",
     "output_type": "stream",
     "text": [
      "\n",
      "DataFrame with Average Scores:\n",
      "          Math  Science  English  Bangla  Average\n",
      "Alice      88       78       64      92    80.50\n",
      "Bob        57       70       88      68    70.75\n",
      "Charlie    72       60       60      73    66.25\n",
      "David      85       89       73      52    74.75\n",
      "Eve        71       51       73      93    72.00\n"
     ]
    }
   ],
   "source": [
    "# Step 3: Calculate statistics\n",
    "# Calculate the average score for each student\n",
    "# axis=1 means the operation (mean) is performed across columns (i.e., per row/student)\n",
    "average_scores = df.mean(axis=1)\n",
    "\n",
    "# Add a new column 'Average' to the DataFrame to store the average scores\n",
    "df['Average'] = average_scores\n",
    "print(\"\\nDataFrame with Average Scores:\\n\", df)"
   ]
  },
  {
   "cell_type": "code",
   "execution_count": 4,
   "id": "d232d76a-de25-4f2f-9671-ed018539420a",
   "metadata": {},
   "outputs": [
    {
     "name": "stdout",
     "output_type": "stream",
     "text": [
      "\n",
      "Top Performer: Alice\n"
     ]
    }
   ],
   "source": [
    "# Step 4: Identify top performers\n",
    "# Find the name of the student with the highest average score\n",
    "# idxmax() returns the index (student name) of the maximum value in the 'Average' column\n",
    "top_performer = df['Average'].idxmax()\n",
    "print(\"\\nTop Performer:\", top_performer)"
   ]
  },
  {
   "cell_type": "code",
   "execution_count": 5,
   "id": "972a0003-4194-4615-8e7d-f8b4d41980a8",
   "metadata": {},
   "outputs": [
    {
     "name": "stdout",
     "output_type": "stream",
     "text": [
      "\n",
      "Normalized DataFrame (scores scaled to 0-1):\n",
      "              Math   Science   English    Bangla\n",
      "Alice    0.880952  0.642857  0.309524  0.976190\n",
      "Bob      0.142857  0.452381  0.880952  0.404762\n",
      "Charlie  0.500000  0.214286  0.214286  0.523810\n",
      "David    0.809524  0.904762  0.523810  0.023810\n",
      "Eve      0.476190  0.000000  0.523810  1.000000\n"
     ]
    }
   ],
   "source": [
    "# Step 5: Normalize scores\n",
    "# Normalization rescales data to a range of 0 to 1\n",
    "# Formula: normalized_value = (value - min_value) / (max_value - min_value)\n",
    "normalized_scores = (scores - scores.min()) / (scores.max() - scores.min())\n",
    "\n",
    "# Create a new DataFrame to store normalized scores, keeping the same structure as the original\n",
    "df_normalized = pd.DataFrame(normalized_scores, index=names, columns=subjects)\n",
    "print(\"\\nNormalized DataFrame (scores scaled to 0-1):\\n\", df_normalized)"
   ]
  },
  {
   "cell_type": "code",
   "execution_count": 6,
   "id": "5960b809-e735-401d-bc1c-890891489829",
   "metadata": {},
   "outputs": [
    {
     "name": "stdout",
     "output_type": "stream",
     "text": [
      "\n",
      "DataFrame with Subjects as Index:\n",
      "          Alice  Bob  Charlie  David  Eve\n",
      "Math        88   57       72     85   71\n",
      "Science     78   70       60     89   51\n",
      "English     64   88       60     73   73\n",
      "Bangla      92   68       73     52   93\n"
     ]
    }
   ],
   "source": [
    "# Step 6: Save processed data to a CSV file\n",
    "# Save the DataFrame (including averages) to a CSV file\n",
    "# df.to_csv('student_scores.csv', index=True)  # index=True includes the student names\n",
    "# print(\"\\nProcessed data saved to 'student_scores.csv'.\")\n",
    "\n",
    "# Advanced Step: Transpose DataFrame (swap rows and columns)\n",
    "# Transpose the DataFrame so that subjects become the index and students become the columns\n",
    "df_transposed = pd.DataFrame(scores.T, index=subjects, columns=names)\n",
    "print(\"\\nDataFrame with Subjects as Index:\\n\", df_transposed)"
   ]
  },
  {
   "cell_type": "code",
   "execution_count": 7,
   "id": "b93e3180-3eaa-473b-8375-505cfaa80a79",
   "metadata": {},
   "outputs": [
    {
     "name": "stdout",
     "output_type": "stream",
     "text": [
      "\n",
      "Scores for Bob:\n",
      " Math       57\n",
      "Science    70\n",
      "English    88\n",
      "Bangla     68\n",
      "Name: Bob, dtype: int32\n"
     ]
    }
   ],
   "source": [
    "# Accessing specific data in the transposed DataFrame\n",
    "# Example 1: Get all scores for Bob (a single column from the transposed DataFrame)\n",
    "print(\"\\nScores for Bob:\\n\", df_transposed['Bob'])"
   ]
  },
  {
   "cell_type": "code",
   "execution_count": 8,
   "id": "baee67e6-aabb-4f98-8b57-3d2d8029b78f",
   "metadata": {},
   "outputs": [
    {
     "name": "stdout",
     "output_type": "stream",
     "text": [
      "\n",
      "Scores in Math:\n",
      " Alice      88\n",
      "Bob        57\n",
      "Charlie    72\n",
      "David      85\n",
      "Eve        71\n",
      "Name: Math, dtype: int32\n"
     ]
    }
   ],
   "source": [
    "# Example 2: Get all students' scores in Math (a single row from the transposed DataFrame)\n",
    "print(\"\\nScores in Math:\\n\", df_transposed.loc['Math'])"
   ]
  },
  {
   "cell_type": "code",
   "execution_count": 9,
   "id": "d629ce05-c6eb-471c-8f8e-5beaffc176fd",
   "metadata": {},
   "outputs": [
    {
     "name": "stdout",
     "output_type": "stream",
     "text": [
      "\n",
      "DataFrame with Subject Averages:\n",
      "          Alice  Bob  Charlie  David  Eve  Subject Average\n",
      "Math        88   57       72     85   71             74.6\n",
      "Science     78   70       60     89   51             69.6\n",
      "English     64   88       60     73   73             71.6\n",
      "Bangla      92   68       73     52   93             75.6\n"
     ]
    }
   ],
   "source": [
    "# Adding new statistics: Average score per subject\n",
    "# axis=1 calculates averages for each subject (across students in this layout)\n",
    "df_transposed['Subject Average'] = df_transposed.mean(axis=1)\n",
    "print(\"\\nDataFrame with Subject Averages:\\n\", df_transposed)"
   ]
  },
  {
   "cell_type": "code",
   "execution_count": 10,
   "id": "9da1a2be-79f9-4043-92da-e8240e349ff6",
   "metadata": {},
   "outputs": [
    {
     "name": "stdout",
     "output_type": "stream",
     "text": [
      "\n",
      "Students scoring above 80 in Science:\n",
      "        Math  Science  English  Bangla  Average\n",
      "David    85       89       73      52    74.75\n"
     ]
    }
   ],
   "source": [
    "# Advanced Example: Conditional Filtering, Grouping, and Custom Functions\n",
    "# Advanced 2.1: Conditional filtering\n",
    "# Find all students who scored above 80 in Science\n",
    "high_scorers_science = df[df['Science'] > 80]\n",
    "print(\"\\nStudents scoring above 80 in Science:\\n\", high_scorers_science)"
   ]
  },
  {
   "cell_type": "code",
   "execution_count": 11,
   "id": "1f2fd08b-247d-41d9-b1b1-b51d57f1549c",
   "metadata": {},
   "outputs": [
    {
     "name": "stdout",
     "output_type": "stream",
     "text": [
      "\n",
      "DataFrame with Performance Categories:\n",
      "          Math  Science  English  Bangla  Average        Performance\n",
      "Alice      88       78       64      92    80.50               Good\n",
      "Bob        57       70       88      68    70.75               Good\n",
      "Charlie    72       60       60      73    66.25  Needs Improvement\n",
      "David      85       89       73      52    74.75               Good\n",
      "Eve        71       51       73      93    72.00               Good\n"
     ]
    }
   ],
   "source": [
    "# Advanced 2.2: Adding a performance\n",
    "# Define a function to categorize students based on their average score\n",
    "def performance(avg):\n",
    "    if avg >= 85:\n",
    "        return 'Outstanding'\n",
    "    elif avg >= 70:\n",
    "        return 'Good'\n",
    "    else:\n",
    "        return 'Needs Improvement'\n",
    "\n",
    "# Apply the function to the 'Average' column and create a new column\n",
    "df['Performance'] = df['Average'].apply(performance)\n",
    "print(\"\\nDataFrame with Performance Categories:\\n\", df)"
   ]
  },
  {
   "cell_type": "code",
   "execution_count": 12,
   "id": "9ce8812c-83cd-4f8d-b206-c365f7794ea9",
   "metadata": {},
   "outputs": [
    {
     "name": "stdout",
     "output_type": "stream",
     "text": [
      "\n",
      "Performance Summary by Category:\n",
      "                    Average_Score  Max_Score  Min_Score  Count\n",
      "Performance                                                  \n",
      "Good                       74.50      80.50      70.75      4\n",
      "Needs Improvement          66.25      66.25      66.25      1\n"
     ]
    }
   ],
   "source": [
    "# Advanced 2.3: Grouping and aggregation\n",
    "# Group by performance category and calculate statistics for each group\n",
    "performance_summary = df.groupby('Performance').agg(\n",
    "    Average_Score=('Average', 'mean'),\n",
    "    Max_Score=('Average', 'max'),\n",
    "    Min_Score=('Average', 'min'),\n",
    "    Count=('Average', 'count')\n",
    ")\n",
    "print(\"\\nPerformance Summary by Category:\\n\", performance_summary)"
   ]
  },
  {
   "cell_type": "code",
   "execution_count": 13,
   "id": "495c43d5-bde4-4a46-a220-e63194b0436c",
   "metadata": {},
   "outputs": [
    {
     "name": "stdout",
     "output_type": "stream",
     "text": [
      "\n",
      "Top Student in Each Subject:\n",
      " Math       Alice\n",
      "Science    David\n",
      "English      Bob\n",
      "Bangla       Eve\n",
      "dtype: object\n"
     ]
    }
   ],
   "source": [
    "# Advanced 2.4: Identify the student with the highest score in each subject\n",
    "top_in_each_subject = df[subjects].idxmax()\n",
    "print(\"\\nTop Student in Each Subject:\\n\", top_in_each_subject)"
   ]
  }
 ],
 "metadata": {
  "kernelspec": {
   "display_name": "Python 3 (ipykernel)",
   "language": "python",
   "name": "python3"
  },
  "language_info": {
   "codemirror_mode": {
    "name": "ipython",
    "version": 3
   },
   "file_extension": ".py",
   "mimetype": "text/x-python",
   "name": "python",
   "nbconvert_exporter": "python",
   "pygments_lexer": "ipython3",
   "version": "3.12.7"
  }
 },
 "nbformat": 4,
 "nbformat_minor": 5
}
