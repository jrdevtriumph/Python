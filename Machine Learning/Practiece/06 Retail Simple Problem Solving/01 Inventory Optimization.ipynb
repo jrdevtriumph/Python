{
 "cells": [
  {
   "cell_type": "code",
   "execution_count": null,
   "id": "517f34d7-76ef-4bee-bf23-9e120a49cc57",
   "metadata": {},
   "outputs": [],
   "source": [
    "# Import necessary libraries\n",
    "import pandas as pd\n",
    "import numpy as np\n",
    "import matplotlib.pyplot as plt\n",
    "from statsmodels.tsa.holtwinters import ExponentialSmoothing\n",
    "\n",
    "# Generate synthetic sales data (simulating daily sales of winter jackets)\n",
    "# np.random.seed is used to make the random numbers reproducible\n",
    "np.random.seed(42)\n",
    "dates = pd.date_range('2024-01-01', '2025-12-31', freq='D')  # Generate a daily date range\n",
    "sales_data = np.random.poisson(lam=30, size=len(dates)) + np.sin(np.linspace(0, 3 * np.pi, len(dates))) * 10 + 20\n",
    "\n",
    "# Create a DataFrame with the generated data\n",
    "df_sales = pd.DataFrame({'Date': dates, 'Sales': sales_data})\n",
    "df_sales.set_index('Date', inplace=True)  # Set Date as the index for time series\n",
    "\n",
    "# Visualize the sales data\n",
    "plt.figure(figsize=(10, 5))\n",
    "plt.plot(df_sales.index, df_sales['Sales'], label='Sales')\n",
    "plt.title('Daily Sales of Winter Jackets')\n",
    "plt.xlabel('Date')\n",
    "plt.ylabel('Sales')\n",
    "plt.legend()\n",
    "plt.show()"
   ]
  },
  {
   "cell_type": "code",
   "execution_count": null,
   "id": "0d943177-9c91-48b3-bb95-6af03fbe46ee",
   "metadata": {},
   "outputs": [],
   "source": [
    "# Forecasting future sales (next 30 days) using Holt-Winters method\n",
    "# ExponentialSmoothing includes trend and seasonal components for better forecasting\n",
    "model = ExponentialSmoothing(df_sales['Sales'], trend='add', seasonal='add', seasonal_periods=365)\n",
    "model_fit = model.fit()\n",
    "\n",
    "# Make predictions for the next 30 days\n",
    "forecast = model_fit.forecast(steps=30)\n",
    "\n",
    "# Plotting the forecast\n",
    "plt.figure(figsize=(10, 5))\n",
    "plt.plot(df_sales.index, df_sales['Sales'], label='Historical Sales')\n",
    "plt.plot(pd.date_range(df_sales.index[-1], periods=31, freq='D')[1:], forecast, label='Forecasted Sales', color='red')\n",
    "plt.title('Sales Forecast for Winter Jackets (Next 30 Days)')\n",
    "plt.xlabel('Date')\n",
    "plt.ylabel('Sales')\n",
    "plt.legend()\n",
    "plt.show()"
   ]
  }
 ],
 "metadata": {
  "kernelspec": {
   "display_name": "base",
   "language": "python",
   "name": "python3"
  },
  "language_info": {
   "codemirror_mode": {
    "name": "ipython",
    "version": 3
   },
   "file_extension": ".py",
   "mimetype": "text/x-python",
   "name": "python",
   "nbconvert_exporter": "python",
   "pygments_lexer": "ipython3",
   "version": "3.12.7"
  }
 },
 "nbformat": 4,
 "nbformat_minor": 5
}
