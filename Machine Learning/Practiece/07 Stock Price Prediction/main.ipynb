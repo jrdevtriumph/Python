{
 "cells": [
  {
   "cell_type": "code",
   "execution_count": 15,
   "metadata": {},
   "outputs": [
    {
     "name": "stdout",
     "output_type": "stream",
     "text": [
      "  OrderDate  OrderID                                        ProductName  \\\n",
      "0  1/4/2024   103800  Message Book, Wirebound, Four 5 1/2 X 4 Forms/...   \n",
      "1  1/5/2024   112326                                          Avery 508   \n",
      "2  1/5/2024   112326         GBC Standard Plastic Binding Systems Combs   \n",
      "3  1/5/2024   112326                      SAFCO Boltless Steel Shelving   \n",
      "4  1/6/2024   141817  Avery Hi-Liter EverBold Pen Style Fluorescent ...   \n",
      "\n",
      "   Profit  Quantity  Sales  SalesperCustomer  ProfitRatio  \n",
      "0       6         2     16             16.45         33.8  \n",
      "1       4         3     12             11.78         36.3  \n",
      "2      -5         2      4              3.54       -155.0  \n",
      "3     -65         3    273            272.74        -23.8  \n",
      "4       5         3     20             19.54         25.0  \n"
     ]
    }
   ],
   "source": [
    "import pandas as pd\n",
    "from sklearn.model_selection import train_test_split\n",
    "from sklearn.tree import DecisionTreeClassifier\n",
    "from sklearn.metrics import classification_report\n",
    "from sklearn.preprocessing import StandardScaler\n",
    "\n",
    "# Load the dataset\n",
    "df = pd.read_csv('sales-data.csv')\n",
    "\n",
    "print(df.head())"
   ]
  },
  {
   "cell_type": "code",
   "execution_count": 16,
   "metadata": {},
   "outputs": [
    {
     "name": "stdout",
     "output_type": "stream",
     "text": [
      "Data types:\n",
      " OrderDate            object\n",
      "OrderID               int64\n",
      "ProductName          object\n",
      "Profit                int64\n",
      "Quantity              int64\n",
      "Sales                 int64\n",
      "SalesperCustomer    float64\n",
      "ProfitRatio         float64\n",
      "dtype: object\n"
     ]
    }
   ],
   "source": [
    "# Check the data types of the columns\n",
    "print(\"Data types:\\n\", df.dtypes)"
   ]
  },
  {
   "cell_type": "code",
   "execution_count": 17,
   "metadata": {},
   "outputs": [
    {
     "name": "stdout",
     "output_type": "stream",
     "text": [
      "Missing values:\n",
      " OrderDate           0\n",
      "OrderID             0\n",
      "ProductName         0\n",
      "Profit              0\n",
      "Quantity            0\n",
      "Sales               0\n",
      "SalesperCustomer    0\n",
      "ProfitRatio         0\n",
      "dtype: int64\n"
     ]
    }
   ],
   "source": [
    "# Convert columns to numeric where necessary (if any are object type)\n",
    "df['Profit'] = pd.to_numeric(df['Profit'], errors='coerce')\n",
    "df['Quantity'] = pd.to_numeric(df['Quantity'], errors='coerce')\n",
    "df['Sales'] = pd.to_numeric(df['Sales'], errors='coerce')\n",
    "df['SalesperCustomer'] = pd.to_numeric(df['SalesperCustomer'], errors='coerce')\n",
    "df['ProfitRatio'] = pd.to_numeric(df['ProfitRatio'], errors='coerce')\n",
    "\n",
    "# Check for missing values\n",
    "print(\"Missing values:\\n\", df.isnull().sum())"
   ]
  },
  {
   "cell_type": "code",
   "execution_count": 18,
   "metadata": {},
   "outputs": [
    {
     "name": "stdout",
     "output_type": "stream",
     "text": [
      "Model Evaluation:\n",
      "               precision    recall  f1-score   support\n",
      "\n",
      "           0       1.00      1.00      1.00       414\n",
      "           1       1.00      1.00      1.00      1585\n",
      "\n",
      "    accuracy                           1.00      1999\n",
      "   macro avg       1.00      1.00      1.00      1999\n",
      "weighted avg       1.00      1.00      1.00      1999\n",
      "\n"
     ]
    }
   ],
   "source": [
    "# Fill missing values only for numeric columns\n",
    "numeric_cols = df.select_dtypes(include='number').columns\n",
    "df[numeric_cols] = df[numeric_cols].fillna(df[numeric_cols].mean())\n",
    "\n",
    "# Feature Engineering - Create a binary label for profitability\n",
    "df['IsProfitable'] = df['Profit'].apply(lambda x: 1 if x > 0 else 0)\n",
    "\n",
    "# Select features and target variable\n",
    "features = ['Profit', 'Quantity', 'Sales', 'SalesperCustomer', 'ProfitRatio']\n",
    "X = df[features]  # Features\n",
    "y = df['IsProfitable']  # Target\n",
    "\n",
    "# Feature Scaling\n",
    "scaler = StandardScaler()\n",
    "X_scaled = scaler.fit_transform(X)\n",
    "\n",
    "# Split the data into training and test sets\n",
    "X_train, X_test, y_train, y_test = train_test_split(X_scaled, y, test_size=0.2, random_state=42)\n",
    "\n",
    "# Initialize and train the Decision Tree model\n",
    "clf = DecisionTreeClassifier(random_state=42)\n",
    "clf.fit(X_train, y_train)\n",
    "\n",
    "# Make predictions and evaluate the model\n",
    "y_pred = clf.predict(X_test)\n",
    "print(\"Model Evaluation:\\n\", classification_report(y_test, y_pred))\n"
   ]
  },
  {
   "cell_type": "code",
   "execution_count": 19,
   "metadata": {},
   "outputs": [
    {
     "name": "stdout",
     "output_type": "stream",
     "text": [
      "Predicted profitability for new products: [1 0 1]\n"
     ]
    }
   ],
   "source": [
    "# Predict profitability for new data\n",
    "new_data = pd.DataFrame({\n",
    "    'Profit': [8, -2, 5],\n",
    "    'Quantity': [10, 5, 8],\n",
    "    'Sales': [50, 20, 40],\n",
    "    'SalesperCustomer': [15, 8, 12],\n",
    "    'ProfitRatio': [20, -100, 30]\n",
    "})\n",
    "new_data_scaled = scaler.transform(new_data)\n",
    "\n",
    "new_predictions = clf.predict(new_data_scaled)\n",
    "print(\"Predicted profitability for new products:\", new_predictions)"
   ]
  }
 ],
 "metadata": {
  "kernelspec": {
   "display_name": "base",
   "language": "python",
   "name": "python3"
  },
  "language_info": {
   "codemirror_mode": {
    "name": "ipython",
    "version": 3
   },
   "file_extension": ".py",
   "mimetype": "text/x-python",
   "name": "python",
   "nbconvert_exporter": "python",
   "pygments_lexer": "ipython3",
   "version": "3.12.7"
  }
 },
 "nbformat": 4,
 "nbformat_minor": 2
}
