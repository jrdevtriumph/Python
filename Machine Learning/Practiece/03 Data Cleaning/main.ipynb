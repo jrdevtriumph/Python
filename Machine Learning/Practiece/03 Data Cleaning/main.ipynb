{
 "cells": [
  {
   "cell_type": "code",
   "execution_count": 7,
   "id": "7b4b6b99-f7fc-451c-ba49-7abb8b686fa9",
   "metadata": {},
   "outputs": [
    {
     "name": "stdout",
     "output_type": "stream",
     "text": [
      "Original DataFrame:\n",
      "       Name   Age  Subject  Score\n",
      "0    Alice  24.0     Math   88.0\n",
      "1      Bob   NaN  Science   76.0\n",
      "2  Charlie  35.0     Math    NaN\n",
      "3    David  29.0  English   94.0\n",
      "4      NaN  22.0  Science   70.0\n"
     ]
    }
   ],
   "source": [
    "import pandas as pd\n",
    "import numpy as np\n",
    "\n",
    "# Sample data\n",
    "data = {\n",
    "    'Name': ['Alice', 'Bob', 'Charlie', 'David', np.nan],\n",
    "    'Age': [24, np.nan, 35, 29, 22],\n",
    "    'Subject': ['Math', 'Science', 'Math', 'English', 'Science'],\n",
    "    'Score': [88, 76, np.nan, 94, 70]\n",
    "}\n",
    "df = pd.DataFrame(data)\n",
    "\n",
    "print(\"Original DataFrame:\\n\", df)"
   ]
  },
  {
   "cell_type": "code",
   "execution_count": null,
   "id": "db18f363-2a83-47b0-a9d2-5e7a4840b443",
   "metadata": {},
   "outputs": [],
   "source": [
    "# Handling missing data\n",
    "# Fill missing ages with the mean\n",
    "if 'Age' in df.columns:\n",
    "    df['Age'] = df['Age'].fillna(df['Age'].mean())\n",
    "\n",
    "# Fill scores with the median\n",
    "if 'Score' in df.columns:\n",
    "    df['Score'] = df['Score'].fillna(df['Score'].median())\n",
    "\n",
    "# Drop rows where Name is missing\n",
    "if 'Name' in df.columns:\n",
    "    df = df.dropna(subset=['Name'])\n",
    "\n",
    "# Encoding categorical data\n",
    "if 'Subject' in df.columns:\n",
    "    df['Subject_Encoded'] = pd.Categorical(df['Subject']).codes\n",
    "\n",
    "# Normalize the score column\n",
    "if 'Score' in df.columns:\n",
    "    df['Score_Normalized'] = (df['Score'] - df['Score'].min()) / (df['Score'].max() - df['Score'].min())\n",
    "\n",
    "print(\"\\nProcessed DataFrame:\\n\", df)"
   ]
  }
 ],
 "metadata": {
  "kernelspec": {
   "display_name": "Python 3 (ipykernel)",
   "language": "python",
   "name": "python3"
  },
  "language_info": {
   "codemirror_mode": {
    "name": "ipython",
    "version": 3
   },
   "file_extension": ".py",
   "mimetype": "text/x-python",
   "name": "python",
   "nbconvert_exporter": "python",
   "pygments_lexer": "ipython3",
   "version": "3.12.7"
  }
 },
 "nbformat": 4,
 "nbformat_minor": 5
}
