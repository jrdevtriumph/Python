{
 "cells": [
  {
   "cell_type": "markdown",
   "id": "252b9f42-8736-411b-9f93-9bc716118349",
   "metadata": {},
   "source": [
    "# Scikit-Learn Permutation Importance with Categorical Features"
   ]
  },
  {
   "cell_type": "markdown",
   "id": "f3136cce-b15f-4764-a9a2-82739d6e6670",
   "metadata": {},
   "source": [
    "Suppose you have a categorical variable with many unique entries. One-hot encoding breaks up categorical features into new, binary features. However, for certain analyses such as permutation importance, it is often desirable to look at the importance of the original categorical feature rather than the newly created binary features.\n",
    "\n",
    "In this notebook, we are looking at an example to see how we can deal with categorical features in a permutation importance context.\n",
    "\n",
    "In particular, we will see that pandas DataFrames and scikit-learn's [make_column_selector](https://scikit-learn.org/stable/modules/generated/sklearn.compose.make_column_selector.html) are a nice combo that allows us to analyze categorical features just the way we want -- without breaking it up into individual one-hot encoded variables."
   ]
  },
  {
   "cell_type": "markdown",
   "id": "ae932a15-6d18-4381-9e39-426ec88efbe6",
   "metadata": {},
   "source": [
    "## Dataset"
   ]
  },
  {
   "cell_type": "markdown",
   "id": "0664201d-ff49-46a8-97b9-fcfc8a717b94",
   "metadata": {},
   "source": [
    "Suppose we have the following dataset with 2 numerical features and 1 categorical features:"
   ]
  },
  {
   "cell_type": "code",
   "execution_count": 1,
   "id": "04599cc8-af93-4cfa-933d-ac0e97164b0c",
   "metadata": {},
   "outputs": [
    {
     "data": {
      "text/html": [
       "<div>\n",
       "<style scoped>\n",
       "    .dataframe tbody tr th:only-of-type {\n",
       "        vertical-align: middle;\n",
       "    }\n",
       "\n",
       "    .dataframe tbody tr th {\n",
       "        vertical-align: top;\n",
       "    }\n",
       "\n",
       "    .dataframe thead th {\n",
       "        text-align: right;\n",
       "    }\n",
       "</style>\n",
       "<table border=\"1\" class=\"dataframe\">\n",
       "  <thead>\n",
       "    <tr style=\"text-align: right;\">\n",
       "      <th></th>\n",
       "      <th>feat1</th>\n",
       "      <th>feat2</th>\n",
       "      <th>feat3</th>\n",
       "    </tr>\n",
       "  </thead>\n",
       "  <tbody>\n",
       "    <tr>\n",
       "      <th>0</th>\n",
       "      <td>0.0</td>\n",
       "      <td>5.0</td>\n",
       "      <td>A</td>\n",
       "    </tr>\n",
       "    <tr>\n",
       "      <th>1</th>\n",
       "      <td>1.0</td>\n",
       "      <td>6.0</td>\n",
       "      <td>B</td>\n",
       "    </tr>\n",
       "    <tr>\n",
       "      <th>2</th>\n",
       "      <td>2.0</td>\n",
       "      <td>7.0</td>\n",
       "      <td>B</td>\n",
       "    </tr>\n",
       "    <tr>\n",
       "      <th>3</th>\n",
       "      <td>3.0</td>\n",
       "      <td>8.0</td>\n",
       "      <td>C</td>\n",
       "    </tr>\n",
       "    <tr>\n",
       "      <th>4</th>\n",
       "      <td>4.0</td>\n",
       "      <td>9.0</td>\n",
       "      <td>A</td>\n",
       "    </tr>\n",
       "  </tbody>\n",
       "</table>\n",
       "</div>"
      ],
      "text/plain": [
       "   feat1  feat2 feat3\n",
       "0    0.0    5.0     A\n",
       "1    1.0    6.0     B\n",
       "2    2.0    7.0     B\n",
       "3    3.0    8.0     C\n",
       "4    4.0    9.0     A"
      ]
     },
     "execution_count": 1,
     "metadata": {},
     "output_type": "execute_result"
    }
   ],
   "source": [
    "import pandas as pd\n",
    "import numpy as np\n",
    "\n",
    "\n",
    "d = {'feat1': np.arange(5.), \n",
    "     'feat2': np.arange(5., 10.), \n",
    "     'feat3': ['A', 'B', 'B', 'C', 'A']}\n",
    "\n",
    "y_train = np.arange(5)\n",
    "X_train = pd.DataFrame(d)\n",
    "X_train['feat3'] = X_train['feat3'].astype('category')\n",
    "\n",
    "\n",
    "X_train"
   ]
  },
  {
   "cell_type": "markdown",
   "id": "2c848a97-e3e6-4401-a726-06dd67305bf4",
   "metadata": {},
   "source": [
    "Let's use pandas' new `category` type for the categorical features. In the next section, you will see why ;)."
   ]
  },
  {
   "cell_type": "code",
   "execution_count": 2,
   "id": "90933b57-dfb2-44b4-b6e0-b444af370545",
   "metadata": {},
   "outputs": [
    {
     "data": {
      "text/plain": [
       "feat1     float64\n",
       "feat2     float64\n",
       "feat3    category\n",
       "dtype: object"
      ]
     },
     "execution_count": 2,
     "metadata": {},
     "output_type": "execute_result"
    }
   ],
   "source": [
    "X_train.dtypes"
   ]
  },
  {
   "cell_type": "markdown",
   "id": "c1f5da2a-d975-4282-badd-8c2db9e43923",
   "metadata": {},
   "source": [
    "Also, let's create a test set partition for the permutation analysis later:"
   ]
  },
  {
   "cell_type": "code",
   "execution_count": 3,
   "id": "8ebbb95a-4296-4537-a333-ef8c5234debb",
   "metadata": {},
   "outputs": [
    {
     "data": {
      "text/html": [
       "<div>\n",
       "<style scoped>\n",
       "    .dataframe tbody tr th:only-of-type {\n",
       "        vertical-align: middle;\n",
       "    }\n",
       "\n",
       "    .dataframe tbody tr th {\n",
       "        vertical-align: top;\n",
       "    }\n",
       "\n",
       "    .dataframe thead th {\n",
       "        text-align: right;\n",
       "    }\n",
       "</style>\n",
       "<table border=\"1\" class=\"dataframe\">\n",
       "  <thead>\n",
       "    <tr style=\"text-align: right;\">\n",
       "      <th></th>\n",
       "      <th>feat1</th>\n",
       "      <th>feat2</th>\n",
       "      <th>feat3</th>\n",
       "    </tr>\n",
       "  </thead>\n",
       "  <tbody>\n",
       "    <tr>\n",
       "      <th>0</th>\n",
       "      <td>0.0</td>\n",
       "      <td>4.0</td>\n",
       "      <td>A</td>\n",
       "    </tr>\n",
       "    <tr>\n",
       "      <th>1</th>\n",
       "      <td>1.0</td>\n",
       "      <td>5.0</td>\n",
       "      <td>B</td>\n",
       "    </tr>\n",
       "    <tr>\n",
       "      <th>2</th>\n",
       "      <td>2.0</td>\n",
       "      <td>6.0</td>\n",
       "      <td>B</td>\n",
       "    </tr>\n",
       "    <tr>\n",
       "      <th>3</th>\n",
       "      <td>3.0</td>\n",
       "      <td>7.0</td>\n",
       "      <td>C</td>\n",
       "    </tr>\n",
       "  </tbody>\n",
       "</table>\n",
       "</div>"
      ],
      "text/plain": [
       "   feat1  feat2 feat3\n",
       "0    0.0    4.0     A\n",
       "1    1.0    5.0     B\n",
       "2    2.0    6.0     B\n",
       "3    3.0    7.0     C"
      ]
     },
     "execution_count": 3,
     "metadata": {},
     "output_type": "execute_result"
    }
   ],
   "source": [
    "d2 = {'feat1': np.arange(4.), \n",
    "      'feat2': np.arange(4., 8.), \n",
    "      'feat3': ['A', 'B', 'B', 'C']}\n",
    "\n",
    "y_test = np.arange(4)\n",
    "X_test = pd.DataFrame(d2)\n",
    "X_test['feat3'] = X_test['feat3'].astype('category')\n",
    "\n",
    "\n",
    "X_test"
   ]
  },
  {
   "cell_type": "markdown",
   "id": "6fce0d70-0d5e-4e37-8669-5c3986726697",
   "metadata": {},
   "source": [
    "## Independent One-Hot Encoded Features"
   ]
  },
  {
   "cell_type": "markdown",
   "id": "9a2afbc7-3b83-40ce-bc1e-85ea14c26f28",
   "metadata": {},
   "source": [
    "In this section, we are looking at the standard approach at first, where the categorical feature gets broken into several binary features.\n",
    "\n"
   ]
  },
  {
   "cell_type": "markdown",
   "id": "c6037bb9-179e-4318-a504-71df9d4fb47e",
   "metadata": {},
   "source": [
    "First, we define a data transformer that scales the numerical features (a standard procedure recommended for most ML algorithms) and one-hot encode the categorical feature:"
   ]
  },
  {
   "cell_type": "code",
   "execution_count": 9,
   "id": "5978a163-3316-497c-af1c-7765b1af5e18",
   "metadata": {},
   "outputs": [],
   "source": [
    "from sklearn.compose import make_column_transformer, make_column_selector\n",
    "from sklearn.preprocessing import OneHotEncoder, StandardScaler\n",
    "\n",
    "\n",
    "ct = make_column_transformer(\n",
    "       (StandardScaler(), # scale numerical data\n",
    "        make_column_selector(dtype_include=np.number)),\n",
    "       (OneHotEncoder(), # one-hot encode categorical data\n",
    "        make_column_selector(dtype_include=\"category\")))\n",
    "\n",
    "X_train_t = ct.fit_transform(X_train)\n",
    "X_test_t = ct.transform(X_test)"
   ]
  },
  {
   "cell_type": "markdown",
   "id": "108df113-75a7-474b-8904-66cff2a50920",
   "metadata": {},
   "source": [
    "Looking at the code above, that's where pandas DataFrames come in handy. Using the `make_column_selector` with specific column types, we can choose which features we pass to which preprocessor. Neat!\n",
    "\n",
    "(Note that NumPy arrays don't support mixed types, so the column transformer approach above would not work with NumPy arrays.)"
   ]
  },
  {
   "cell_type": "markdown",
   "id": "b56e6c9d-6743-4257-a71d-487094acea3a",
   "metadata": {},
   "source": [
    "Next, let's fit out predictive model based on the transformed data:"
   ]
  },
  {
   "cell_type": "code",
   "execution_count": 10,
   "id": "56ef796f-f9bc-4ace-9ab8-8bb4f315cef8",
   "metadata": {},
   "outputs": [],
   "source": [
    "from sklearn.linear_model import LogisticRegression\n",
    "\n",
    "model = LogisticRegression(random_state=0)\n",
    "model.fit(X_train_t, y_train);"
   ]
  },
  {
   "cell_type": "markdown",
   "id": "ba3f4de1-9206-4f93-b4ad-968aaf7d76e1",
   "metadata": {},
   "source": [
    "Finally, let's compute the feature importance and visualize it in a bar plot:"
   ]
  },
  {
   "cell_type": "code",
   "execution_count": 11,
   "id": "d23ef8de-573e-475f-8c5d-4abb445ea292",
   "metadata": {},
   "outputs": [],
   "source": [
    "from sklearn.inspection import permutation_importance\n",
    "\n",
    "r = permutation_importance(model, X_test_t, y_test,\n",
    "                           n_repeats=200,\n",
    "                           random_state=0)"
   ]
  },
  {
   "cell_type": "code",
   "execution_count": 12,
   "id": "b114cb25-00b6-4c42-bf73-6954c1748f08",
   "metadata": {},
   "outputs": [
    {
     "data": {
      "image/png": "[encoded data removed]",
      "text/plain": [
       "<Figure size 432x288 with 1 Axes>"
      ]
     },
     "metadata": {
      "needs_background": "light"
     },
     "output_type": "display_data"
    }
   ],
   "source": [
    "%matplotlib inline\n",
    "import matplotlib.pyplot as plt\n",
    "\n",
    "plt.bar(range(r['importances_mean'].shape[0]), r['importances_mean'],\n",
    "        yerr=r['importances_std'], align=\"center\")\n",
    "\n",
    "plt.ylabel('Feature importance')\n",
    "\n",
    "plt.xticks(range(5),\n",
    "           ['feat1', 'feat2', 'feat3_A', 'feat3_B', 'feat3_C'], rotation=45)\n",
    "\n",
    "plt.ylim([0, 1.])\n",
    "plt.show()"
   ]
  },
  {
   "cell_type": "markdown",
   "id": "278b0b9a-6e24-4a7f-8e53-52cd3f3dcbc9",
   "metadata": {},
   "source": [
    "As we can see above, each categorical feature is its own variable. However, for several real-world problems (let's say you have a biological dataset and want to know how important it is to include information about the amino acid type -- a categorical variable with 20 unique values), it would be more useful to know the overall importance of the categorical feature. Let's look at this in the next section."
   ]
  },
  {
   "cell_type": "markdown",
   "id": "e774687f-6d35-432e-8b5c-fbdccd6a4b00",
   "metadata": {},
   "source": [
    "## Grouped One-hot Encoded Features"
   ]
  },
  {
   "cell_type": "markdown",
   "id": "a96f2ad3-3479-493a-97fa-7a07463641bd",
   "metadata": {},
   "source": [
    "instead of breaking up the categorical feature into individual binary features prior to the permutation importance analysis, let's see how we can analyze the categorical feature as a whole.\n",
    "\n",
    "Here, all we have to do is to combine our column transformer and predictive model into a pipeline and use that pipeline in the `permutation_importance` function and pass it the untransformed test set:"
   ]
  },
  {
   "cell_type": "code",
   "execution_count": 19,
   "id": "d0483fd0-78ab-4a83-8217-bb37d1d38729",
   "metadata": {},
   "outputs": [],
   "source": [
    "from sklearn.pipeline import make_pipeline \n",
    "\n",
    "model_pipe = make_pipeline(ct, model)\n",
    "\n",
    "r = permutation_importance(model_pipe, X_test, y_test,\n",
    "                           n_repeats=200,\n",
    "                           random_state=0)"
   ]
  },
  {
   "cell_type": "code",
   "execution_count": 20,
   "id": "c288abb0-403a-48e2-bdb3-9c4cd365dd9d",
   "metadata": {},
   "outputs": [
    {
     "data": {
      "image/png": "[encoded data removed]",
      "text/plain": [
       "<Figure size 432x288 with 1 Axes>"
      ]
     },
     "metadata": {
      "needs_background": "light"
     },
     "output_type": "display_data"
    }
   ],
   "source": [
    "%matplotlib inline\n",
    "import matplotlib.pyplot as plt\n",
    "\n",
    "plt.bar(range(r['importances_mean'].shape[0]), r['importances_mean'],\n",
    "        yerr=r['importances_std'], align=\"center\")\n",
    "\n",
    "plt.xticks(range(len(X_train.columns)),\n",
    "           np.array(X_train.columns), rotation=45)\n",
    "plt.ylabel('Feature importance')\n",
    "\n",
    "plt.xlim([-1, X_train.shape[1]])\n",
    "plt.ylim([0, 1.])\n",
    "plt.show()"
   ]
  },
  {
   "cell_type": "markdown",
   "id": "74b8a1b1-994e-4410-b3d4-9f9433c00a87",
   "metadata": {},
   "source": [
    "As we can see, the categorical feature is now treated as a single feature.\n",
    "\n",
    "So, what happened and how did this work? The permutation importance function permutes features before passing it to the `model_pipe`. So, the `model_pipe` performs the one-hot encoding after we permuted it rather then before."
   ]
  },
  {
   "cell_type": "code",
   "execution_count": null,
   "id": "9ed13aea-0a44-49ba-b936-55b239f4dae5",
   "metadata": {},
   "outputs": [],
   "source": []
  }
 ],
 "metadata": {
  "kernelspec": {
   "display_name": "Python 3 (ipykernel)",
   "language": "python",
   "name": "python3"
  },
  "language_info": {
   "codemirror_mode": {
    "name": "ipython",
    "version": 3
   },
   "file_extension": ".py",
   "mimetype": "text/x-python",
   "name": "python",
   "nbconvert_exporter": "python",
   "pygments_lexer": "ipython3",
   "version": "3.9.7"
  }
 },
 "nbformat": 4,
 "nbformat_minor": 5
}
