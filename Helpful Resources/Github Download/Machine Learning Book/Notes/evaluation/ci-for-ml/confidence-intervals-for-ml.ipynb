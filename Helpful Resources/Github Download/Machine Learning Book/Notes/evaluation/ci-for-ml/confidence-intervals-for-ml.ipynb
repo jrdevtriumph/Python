{
 "cells": [
  {
   "cell_type": "markdown",
   "metadata": {},
   "source": [
    "# Creating Confidence Intervals for Machine Learning Classifiers"
   ]
  },
  {
   "cell_type": "code",
   "execution_count": 1,
   "metadata": {},
   "outputs": [
    {
     "name": "stdout",
     "output_type": "stream",
     "text": [
      "Author: Sebastian Raschka\n",
      "\n",
      "Last updated: 2022-04-24\n",
      "\n",
      "Python implementation: CPython\n",
      "Python version       : 3.9.7\n",
      "IPython version      : 8.0.1\n",
      "\n",
      "numpy     : 1.22.1\n",
      "mlxtend   : 0.19.0\n",
      "matplotlib: 3.5.1\n",
      "sklearn   : 1.0.2\n",
      "\n"
     ]
    }
   ],
   "source": [
    "%load_ext watermark\n",
    "%watermark -a 'Sebastian Raschka' -u -d -v -p numpy,mlxtend,matplotlib,sklearn"
   ]
  },
  {
   "cell_type": "markdown",
   "metadata": {},
   "source": [
    "- This notebook provides an outline of different methods for creating confidence intervals for machine learning models. Note that these methods also apply to deep learning. \n",
    "- The text in this notebook is purposefully short so that we can focus on the technical execution without getting bogged down in details; there are many links to all the relevant conceptual explanations throughout this notebook."
   ]
  },
  {
   "cell_type": "code",
   "execution_count": 2,
   "metadata": {},
   "outputs": [],
   "source": [
    "%matplotlib inline\n",
    "import matplotlib.pyplot as plt\n",
    "import numpy as np"
   ]
  },
  {
   "cell_type": "markdown",
   "metadata": {},
   "source": [
    "## Confidence Intervals in a Nutshell"
   ]
  },
  {
   "cell_type": "markdown",
   "metadata": {},
   "source": [
    "- In a nutshell, what is a 95% confidence interval anyway? Imagine that you have a statistic (a measurement of some sort) that you calculated from a sample drawn from a population. Our goal is to estimate a population parameter with this statistic, for example, we could estimate the population mean with the sample mean. Most of the time, the estimated value and the true value are not the same, and we can use the confidence interval to quantify the uncertainty of that estimate.\n",
    "\n",
    "- But how do we interpret confidence interval? A 95% confidence interval is essentially a method that computes an upper and lower bound around that estimate. The true parameter is either insider or outside these bounds. \n",
    "\n",
    "\n",
    "\n",
    "- In practice, this is not feasible, but let's assume for a moment that we had access to the population. If we drew a very large number of samples from the distribution and applied our confidence interval method to these samples, 95% of the confidence intervals would contain the true value.\n",
    "\n",
    "- In a machine learning context, what we are usually interested in is the performance of our model. So, here the population parameter we want to estimate could be the generalization accuracy of our model. Then, the test set accuracy represents our estimated generalization accuracy. The 95% confidence interval gives us an uncertainty measure of how accurate this estimate is.\n",
    "\n",
    "- As a side-note, we can say that the difference of two measurements is statistically significant if confidence intervals *do not* overlap. However we *cannot* say that results are *not* statistically significant if confidence intervals overlap. (The [Error bars](https://www.nature.com/articles/nmeth.2659) article in the Points of Significance series illustrates this nicely.) If we want to check whether the difference is not statistical significant, we would have to take a look at the distribution of the differences and check whether its confidence interval contains 0 or not. \n",
    "\n"
   ]
  },
  {
   "cell_type": "markdown",
   "metadata": {},
   "source": [
    "## Defining a Dataset and Model for Hands-on Examples"
   ]
  },
  {
   "cell_type": "markdown",
   "metadata": {},
   "source": [
    "- We just use the [Iris dataset](https://archive.ics.uci.edu/ml/datasets/iris) and a [Decision tree classifier](https://scikit-learn.org/stable/modules/generated/sklearn.tree.DecisionTreeClassifier.html) for the sake of simplicity.\n"
   ]
  },
  {
   "cell_type": "code",
   "execution_count": 3,
   "metadata": {},
   "outputs": [],
   "source": [
    "from mlxtend.data import iris_data\n",
    "from sklearn.model_selection import train_test_split\n",
    "from sklearn.tree import DecisionTreeClassifier\n",
    "\n",
    "X, y = iris_data()\n",
    "\n",
    "X_train, X_test, y_train, y_test = train_test_split(\n",
    "    X, y, test_size=0.15, random_state=123, stratify=y\n",
    ")\n",
    "\n",
    "clf = DecisionTreeClassifier(random_state=123)"
   ]
  },
  {
   "cell_type": "markdown",
   "metadata": {},
   "source": [
    "## 1) Normal Approximation Interval Based on the Test Set"
   ]
  },
  {
   "cell_type": "markdown",
   "metadata": {},
   "source": [
    "- This is maybe the easiest and classic way for creating confidence intervals.\n",
    "\n",
    "- Using this method, we compute the confidence interval from a single training-test split. This is particularly attractive in deep learning where model training is expensive.\n",
    "\n",
    "- It's also attractive (usually in a deep learning context) when we are interested in a very particular model (vs. models fit on different training folds like in k-fold cross-validation).\n",
    "\n",
    "- You can find a description of these method i section *1.7 Confidence Intervals via Normal Approximation* of my \"[Model Evaluation, Model Selection, and Algorithm Selection in Machine Learning](https://arxiv.org/abs/1811.12808)\" article."
   ]
  },
  {
   "cell_type": "markdown",
   "metadata": {},
   "source": [
    "- In a nutshell, the equation for computing the confidence interval for an estimated parameter (let's say the the sample mean $\\bar{x}$) assuming a normal distribution is computed as follows:\n",
    "\n",
    "$$\n",
    "\\bar{x} \\pm z \\times \\text{SE}\n",
    "$$\n",
    "\n",
    "- where\n",
    "    - $z$ is the $z$ value (the number of standard deviations that a value lies from the mean of a standard normal distribution)\n",
    "    - $SE$ is the standard error of the estimated parameter (here: sample mean\n",
    "    \n",
    "    \n",
    "- In our case, the sample mean $\\bar{x}$ is test set accuracy $\\text{ACC}_{\\text{test}}$, a proportion of success (in the context of a [Binomial proportion confidence interval](https://en.wikipedia.org/wiki/Binomial_proportion_confidence_interval)). \n",
    "- The standard error, under a normal approximation can be computed as \n",
    "\n",
    "\n",
    "$$\n",
    "\\text{SE} = \\sqrt{ \\frac{1}{n} \\text{ACC}_{\\text{test}}\\left(1- \\text{ACC}_{\\text{test}}\\right)},\n",
    "$$\n",
    "\n",
    "where $n$ is the test set size.\n",
    "\n",
    "- So, plugging the SE back into the formula above, we get\n",
    "\n",
    "$$\n",
    "\\text{ACC}_{\\text{test}} \\pm z \\sqrt{\\frac{1}{n} \\text{ACC}_{\\text{test}}\\left(1- \\text{ACC}_{\\text{test}}\\right)}.\n",
    "$$\n",
    "\n",
    "\n"
   ]
  },
  {
   "cell_type": "markdown",
   "metadata": {},
   "source": [
    "- Let's start with computing the z-value, which can obtain from `scipy.stats.norm.ppf` rather than looking it up from a $z$ table in one of our old statistics textbook."
   ]
  },
  {
   "cell_type": "code",
   "execution_count": 4,
   "metadata": {},
   "outputs": [
    {
     "name": "stdout",
     "output_type": "stream",
     "text": [
      "1.959963984540054\n"
     ]
    }
   ],
   "source": [
    "import scipy.stats\n",
    "\n",
    "confidence = 0.95  # Change to your desired confidence level\n",
    "z_value = scipy.stats.norm.ppf((1 + confidence) / 2.0)\n",
    "print(z_value)"
   ]
  },
  {
   "cell_type": "markdown",
   "metadata": {},
   "source": [
    "- Next, let's compute the test accuracy of the classifier, and plug in the values into the formula above; the Python code for this is as follows:"
   ]
  },
  {
   "cell_type": "code",
   "execution_count": 5,
   "metadata": {},
   "outputs": [
    {
     "name": "stdout",
     "output_type": "stream",
     "text": [
      "0.873179017733963 1.0398644605269067\n"
     ]
    }
   ],
   "source": [
    "import numpy as np\n",
    "\n",
    "clf.fit(X_train, y_train)\n",
    "\n",
    "acc_test = clf.score(X_test, y_test)\n",
    "ci_length = z_value * np.sqrt((acc_test * (1 - acc_test)) / y_test.shape[0])\n",
    "\n",
    "ci_lower = acc_test - ci_length\n",
    "ci_upper = acc_test + ci_length\n",
    "\n",
    "print(ci_lower, ci_upper)"
   ]
  },
  {
   "cell_type": "markdown",
   "metadata": {},
   "source": [
    "- Let's visualize the confidence interval using the following code:"
   ]
  },
  {
   "cell_type": "code",
   "execution_count": 6,
   "metadata": {},
   "outputs": [
    {
     "data": {
      "image/png": "[encoded data removed]",
      "text/plain": [
       "<Figure size 504x216 with 1 Axes>"
      ]
     },
     "metadata": {
      "needs_background": "light"
     },
     "output_type": "display_data"
    }
   ],
   "source": [
    "%matplotlib inline\n",
    "import matplotlib.pyplot as plt\n",
    "\n",
    "fig, ax = plt.subplots(figsize=(7, 3))\n",
    "\n",
    "ax.errorbar(acc_test, 0, xerr=ci_length, fmt=\"o\")\n",
    "\n",
    "ax.set_xlim([0.8, 1.0])\n",
    "\n",
    "ax.set_yticks(np.arange(1))\n",
    "ax.set_yticklabels([\"Normal approximation interval\"])\n",
    "ax.set_xlabel(\"Prediction accuracy\")\n",
    "\n",
    "plt.tight_layout()\n",
    "plt.grid(axis=\"x\")\n",
    "plt.savefig(\"matplotlib-figures/normal-approx.pdf\")\n",
    "plt.show()"
   ]
  },
  {
   "cell_type": "markdown",
   "metadata": {},
   "source": [
    "- Lastly, let's store our confidence interval in a Python dictionary so that we can retrieve it later when we compare it to other confidence intervals:"
   ]
  },
  {
   "cell_type": "code",
   "execution_count": 7,
   "metadata": {},
   "outputs": [],
   "source": [
    "results = {\n",
    "    \"Method 1: Normal approximation\": {\n",
    "        \"Test accuracy\": acc_test,\n",
    "        \"Lower 95% CI\": ci_lower,\n",
    "        \"Upper 95% CI\": ci_upper,\n",
    "    }\n",
    "}"
   ]
  },
  {
   "cell_type": "markdown",
   "metadata": {},
   "source": [
    "### 2) Bootstrapping Training Sets -- Setup Step"
   ]
  },
  {
   "cell_type": "markdown",
   "metadata": {},
   "source": [
    "- Confidence intervals are used to estimate unknown parameters. If we only have one measurement, like the accuracy from a single test set, we need to make assumptions about the distribution that this accuracy values comes from. E.g., we can assume it's from a normal distribution. \n",
    "\n",
    "- In an ideal world, we have access to the distribution that this sample comes from, so that we can e.g., look at the range of values that 95% of the samples accuracy values fall into. This is desirable but not practical since we don't have an infinite pool of test sets.   \n",
    "\n",
    "- Now, a workaround is bootstrapping, which estimates the sampling distribution. This is done by taking multiple samples with replacement from a single random sample.\n",
    "\n",
    "- The method we are using here is also often referred to as out-of-bag bootstrap where we are training the model on training folds and evaluate it on held-out data points from each round. For more detail, please see section 2, *Bootstrapping and Uncertainties* of \"[Model Evaluation, Model Selection, and Algorithm Selection in Machine Learning](https://arxiv.org/abs/1811.12808).\"\n",
    "\n",
    "- The equation is as follows:\n",
    "\n",
    "$$\n",
    "\\text{ACC}_{\\text{bootavg}}=\\frac{1}{b} \\sum_{j=1}^{b} \\text{ACC}_{\\text{boot}, j}\n",
    "$$\n",
    "\n",
    "- There are different flavors of bootstrapping. Below, we create multiple bootstrap samples for re-use in the upcoming sections.\n",
    "\n",
    "- Note that a minimum of bootstrap rounds of 200 is the typical recommendation as per the \"[Introduction to the Bootstrap](https://scholar.google.com/scholar_lookup?title=An%20introduction%20to%20the%20bootstrap&author=&publication_year=1993)\" book. "
   ]
  },
  {
   "cell_type": "code",
   "execution_count": 8,
   "metadata": {},
   "outputs": [
    {
     "data": {
      "text/plain": [
       "0.9463377985233019"
      ]
     },
     "execution_count": 8,
     "metadata": {},
     "output_type": "execute_result"
    }
   ],
   "source": [
    "import numpy as np\n",
    "\n",
    "rng = np.random.RandomState(seed=12345)\n",
    "idx = np.arange(y_train.shape[0])\n",
    "\n",
    "bootstrap_train_accuracies = []\n",
    "bootstrap_rounds = 200\n",
    "\n",
    "\n",
    "for i in range(bootstrap_rounds):\n",
    "\n",
    "    train_idx = rng.choice(idx, size=idx.shape[0], replace=True)\n",
    "    valid_idx = np.setdiff1d(idx, train_idx, assume_unique=False)\n",
    "\n",
    "    boot_train_X, boot_train_y = X_train[train_idx], y_train[train_idx]\n",
    "    boot_valid_X, boot_valid_y = X_train[valid_idx], y_train[valid_idx]\n",
    "\n",
    "    clf.fit(boot_train_X, boot_train_y)\n",
    "    acc = clf.score(boot_valid_X, boot_valid_y)\n",
    "    bootstrap_train_accuracies.append(acc)\n",
    "\n",
    "bootstrap_train_mean = np.mean(bootstrap_train_accuracies)\n",
    "bootstrap_train_mean"
   ]
  },
  {
   "cell_type": "markdown",
   "metadata": {},
   "source": [
    "- We can visualize the test accuracies from bootstrapping ($ \\text{ACC}_{\\text{boot}, j}$) along with their sample mean ($\\text{ACC}_{\\text{bootavg}}$) in a historgram:"
   ]
  },
  {
   "cell_type": "code",
   "execution_count": 9,
   "metadata": {},
   "outputs": [
    {
     "data": {
      "image/png": "[encoded data removed]",
      "text/plain": [
       "<Figure size 576x288 with 1 Axes>"
      ]
     },
     "metadata": {
      "needs_background": "light"
     },
     "output_type": "display_data"
    }
   ],
   "source": [
    "fig, ax = plt.subplots(figsize=(8, 4))\n",
    "\n",
    "ax.vlines(bootstrap_train_mean, [0], 80, lw=2.5, linestyle=\"-\", label=\"Mean\")\n",
    "\n",
    "ax.hist(\n",
    "    bootstrap_train_accuracies, bins=7, color=\"#0080ff\", edgecolor=\"none\", alpha=0.3\n",
    ")\n",
    "plt.legend(loc=\"upper left\")\n",
    "\n",
    "plt.xlim([0.8, 1.1])\n",
    "\n",
    "plt.xlabel('Accuracy')\n",
    "plt.ylabel('Count')\n",
    "\n",
    "plt.tight_layout()\n",
    "plt.grid()\n",
    "plt.savefig(\"matplotlib-figures/bootstrap-hist.pdf\")\n",
    "plt.show()"
   ]
  },
  {
   "cell_type": "markdown",
   "metadata": {},
   "source": [
    "- Useful tidbit: Here, we are creating validation sets from the training set. However, if you don't tune your model on the training set, you could use the whole dataset for this since actually don't need a test set for evaluation then. Or in other words, the bootstrap methods can serve can take the place of a test set for model evaluation. This is particularly attractive for small datasets."
   ]
  },
  {
   "cell_type": "markdown",
   "metadata": {},
   "source": [
    "### 2.1) A *t* Confidence Interval Interval from Bootstrap Samples"
   ]
  },
  {
   "cell_type": "markdown",
   "metadata": {},
   "source": [
    "- Assuming that the sample means are normal distributed we could compute the confidence interval formula as before, as follows:\n",
    "\n",
    "$$\n",
    "\\text{ACC}_{\\text{test}} \\pm z \\times \\text{SE}.\n",
    "$$\n",
    "\n",
    "- But since we are dealing with a relatively small sample where we also estimate the population standard deviation via the sample standard deviation (this is used t calculate the standard error), we replace the $z$ value with a $t$ value from a t-distribution:\n",
    "\n",
    "$$\n",
    "\\text{ACC}_{\\text{test}} \\pm t \\times \\text{SE}.\n",
    "$$\n"
   ]
  },
  {
   "cell_type": "markdown",
   "metadata": {},
   "source": [
    "- We can then compute the standard error (SE) by the as the standard deviation of this distribution:\n",
    "\n",
    "$$\n",
    "\\text{SE}=\\sqrt{\\frac{1}{b-1} \\sum_{j=1}^{b}\\left(\\text{ACC}_{\\text{boot},j}-{\\text{ACC}_\\text{bootavg}}\\right)^{2}}.\n",
    "$$\n",
    "\n",
    "\n",
    "- Note that we usually divide the standard deviation (SD) by $\\sqrt{n}$ to obtain the standard error (SE) where $n = b$:\n",
    "\n",
    "$$ \\text{SE} = \\frac{\\text{SD}}{\\sqrt{n}}.$$\n",
    "\n",
    "- However, this is not necessary here since the bootstrap distribution is a distribution of means (as opposed to single data points), and $\\text{ACC}_{\\text{bootavg}}$ is the mean of these means.\n",
    "\n",
    "- (As an optional exercise, you can try to modify the code below to include the division by $\\sqrt{n}$ (where $\\sqrt{n} = \\sqrt{b}$), and you will probably find that this shrinks the confidence interval to an unrealistic degree, which also doesn't match the percentile method results anymore that we will introduce shortly.)\n"
   ]
  },
  {
   "cell_type": "markdown",
   "metadata": {},
   "source": [
    "- Again, instead of using a t-table in our old statistics textbook, let's use SciPy to obtain the t-value for a 95% confidence interval and $b-1$ degrees of freedom:"
   ]
  },
  {
   "cell_type": "code",
   "execution_count": 10,
   "metadata": {},
   "outputs": [
    {
     "name": "stdout",
     "output_type": "stream",
     "text": [
      "1.971956544249395\n"
     ]
    }
   ],
   "source": [
    "confidence = 0.95  # Change to your desired confidence level\n",
    "t_value = scipy.stats.t.ppf((1 + confidence) / 2.0, df=bootstrap_rounds - 1)\n",
    "print(t_value)"
   ]
  },
  {
   "cell_type": "code",
   "execution_count": 11,
   "metadata": {},
   "outputs": [
    {
     "name": "stdout",
     "output_type": "stream",
     "text": [
      "0.879470830164037 1.0132047668825668\n"
     ]
    }
   ],
   "source": [
    "se = 0.0\n",
    "for acc in bootstrap_train_accuracies:\n",
    "    se += (acc - bootstrap_train_mean) ** 2\n",
    "se = np.sqrt((1.0 / (bootstrap_rounds - 1)) * se)\n",
    "\n",
    "ci_length = t_value * se\n",
    "\n",
    "ci_lower = bootstrap_train_mean - ci_length\n",
    "ci_upper = bootstrap_train_mean + ci_length\n",
    "\n",
    "print(ci_lower, ci_upper)"
   ]
  },
  {
   "cell_type": "markdown",
   "metadata": {},
   "source": [
    "- Now, let's add the CI to our histogram plot:"
   ]
  },
  {
   "cell_type": "code",
   "execution_count": 12,
   "metadata": {},
   "outputs": [
    {
     "data": {
      "image/png": "[encoded data removed]",
      "text/plain": [
       "<Figure size 576x288 with 1 Axes>"
      ]
     },
     "metadata": {
      "needs_background": "light"
     },
     "output_type": "display_data"
    }
   ],
   "source": [
    "fig, ax = plt.subplots(figsize=(8, 4))\n",
    "ax.vlines(bootstrap_train_mean, [0], 80, lw=2.5, linestyle=\"-\", label=\"Mean\")\n",
    "\n",
    "ax.vlines(ci_lower, [0], 15, lw=2.5, linestyle=\"dotted\", label=\"95% CI\", color=\"C2\")\n",
    "ax.vlines(ci_upper, [0], 15, lw=2.5, linestyle=\"dotted\", color=\"C2\")\n",
    "\n",
    "ax.hist(\n",
    "    bootstrap_train_accuracies, bins=7, color=\"#0080ff\", edgecolor=\"none\", alpha=0.3\n",
    ")\n",
    "plt.legend(loc=\"upper left\")\n",
    "\n",
    "plt.xlim([0.8, 1.1])\n",
    "plt.xlabel('Accuracy')\n",
    "plt.ylabel('Count')\n",
    "\n",
    "plt.tight_layout()\n",
    "plt.grid()\n",
    "plt.savefig(\"matplotlib-figures/bootstrap-hist-oob-t.pdf\")\n",
    "\n",
    "plt.show()"
   ]
  },
  {
   "cell_type": "markdown",
   "metadata": {},
   "source": [
    "- (We will compare the interval to the normal approximation interval in a later section.)\n",
    "- Again, let's add our CI values to the Python dictionary for a comparison study later."
   ]
  },
  {
   "cell_type": "code",
   "execution_count": 13,
   "metadata": {},
   "outputs": [],
   "source": [
    "results[\"Method 2.1: Bootstrap, 1-sample CI\"] = {\n",
    "    \"Test accuracy\": bootstrap_train_mean,\n",
    "    \"Lower 95% CI\": ci_lower,\n",
    "    \"Upper 95% CI\": ci_upper,\n",
    "}"
   ]
  },
  {
   "cell_type": "markdown",
   "metadata": {},
   "source": [
    "### 2.2) Bootstrap Confidence Intervals Using the Percentile Method"
   ]
  },
  {
   "cell_type": "markdown",
   "metadata": {},
   "source": [
    "- Now, while the approach outlined in the previous section seems pretty straightforward if our samples follow a normal distribution, there is a more robust and general approach for utilizing the bootstrap samples, namely, the percentile method (section 2, *Bootstrapping and Uncertainties* of my \"[Model Evaluation, Model Selection, and Algorithm Selection in Machine Learning\"](https://arxiv.org/abs/1811.12808) article).\n",
    "- Here, we pick our lower and upper confidence bounds as follows:\n",
    "\n",
    "  - $\\text{ACC}_{lower} = \\alpha_{1}th$ percentile of the $\\text{ACC}_\\text{boot}$ distribution\n",
    "  - $\\text{ACC}_{upper} = \\alpha_{2}th$ percentile of the $\\text{ACC}_{boot}$ distribution,\n",
    "\n",
    "- Here, $\\alpha_1 = \\alpha$ and $\\alpha_2 = 1 - \\alpha$, and $\\alpha$ is our degree of confidence to compute the $100 \\times (1 - 2 \\times \\alpha)$ confidence interval. For instance, to compute a 95% confidence interval, we pick $\\alpha = 0.025$ to obtain the 2.5th and 97.5th percentiles of the *b* bootstrap samples distribution as our upper and lower confidence bounds."
   ]
  },
  {
   "cell_type": "code",
   "execution_count": 14,
   "metadata": {},
   "outputs": [
    {
     "name": "stdout",
     "output_type": "stream",
     "text": [
      "0.8695652173913043 1.0\n"
     ]
    }
   ],
   "source": [
    "ci_lower = np.percentile(bootstrap_train_accuracies, 2.5)\n",
    "ci_upper = np.percentile(bootstrap_train_accuracies, 97.5)\n",
    "\n",
    "print(ci_lower, ci_upper)"
   ]
  },
  {
   "cell_type": "markdown",
   "metadata": {},
   "source": [
    "- Let's have a look how it looks like in the context of our "
   ]
  },
  {
   "cell_type": "code",
   "execution_count": 15,
   "metadata": {},
   "outputs": [
    {
     "data": {
      "image/png": "[encoded data removed]",
      "text/plain": [
       "<Figure size 576x288 with 1 Axes>"
      ]
     },
     "metadata": {
      "needs_background": "light"
     },
     "output_type": "display_data"
    }
   ],
   "source": [
    "fig, ax = plt.subplots(figsize=(8, 4))\n",
    "ax.vlines(bootstrap_train_mean, [0], 80, lw=2.5, linestyle=\"-\", label=\"Mean\")\n",
    "\n",
    "ax.vlines(ci_lower, [0], 15, lw=2.5, linestyle=\"dotted\", label=\"95% CI\", color=\"C2\")\n",
    "ax.vlines(ci_upper, [0], 15, lw=2.5, linestyle=\"dotted\", color=\"C2\")\n",
    "\n",
    "ax.hist(\n",
    "    bootstrap_train_accuracies, bins=7, color=\"#0080ff\", edgecolor=\"none\", alpha=0.3\n",
    ")\n",
    "plt.legend(loc=\"upper left\")\n",
    "\n",
    "plt.xlim([0.8, 1.1])\n",
    "plt.xlabel('Accuracy')\n",
    "plt.ylabel('Count')\n",
    "\n",
    "plt.tight_layout()\n",
    "plt.grid()\n",
    "plt.savefig(\"matplotlib-figures/bootstrap-hist-oob-percentile.pdf\")\n",
    "\n",
    "plt.show()"
   ]
  },
  {
   "cell_type": "code",
   "execution_count": 16,
   "metadata": {},
   "outputs": [],
   "source": [
    "results[\"Method 2.2: Bootstrap, percentile\"] = {\n",
    "    \"Test accuracy\": bootstrap_train_mean,\n",
    "    \"Lower 95% CI\": ci_lower,\n",
    "    \"Upper 95% CI\": ci_upper,\n",
    "}"
   ]
  },
  {
   "cell_type": "markdown",
   "metadata": {},
   "source": [
    "### 2.3) Reweighting the Boostrap Samples via the .632 Bootstrap"
   ]
  },
  {
   "cell_type": "markdown",
   "metadata": {},
   "source": [
    "- Building on the previously introduced bootstrap percentile method, a slightly improved version is the [.632 Bootstrap](https://scholar.google.com/scholar?hl=en&as_sdt=0%2C50&q=Estimating+the+error+rate+of+a+prediction+rule%3A+improvement+on+cross-validation&btnG=).\n",
    "\n",
    "- Skipping over the technical details the previously introduced bootstrap method has a small pessimistic bias, which means that it reports a test accuracy that is slightly worse than the true generalization accuracy of the model; the so-called .632 bootstrap aims to address that.\n",
    "\n",
    "- For a more detailed discussion please see section 2, *Bootstrapping and Uncertainties* of my \"[Model Evaluation, Model Selection, and Algorithm Selection in Machine Learning\"](https://arxiv.org/abs/1811.12808) article).\n",
    "\n",
    "- We are skipping the formulas and jump directly into the code implementation (in practice, I recommend using my implementation in [mlxtend](http://rasbt.github.io/mlxtend/user_guide/evaluate/bootstrap_point632_score/)).\n",
    "\n",
    "- In a nutshell, you can think of it as a reweighted version of the bootstrap method we used earlier:"
   ]
  },
  {
   "cell_type": "code",
   "execution_count": 17,
   "metadata": {},
   "outputs": [
    {
     "data": {
      "text/plain": [
       "0.9677367193053941"
      ]
     },
     "execution_count": 17,
     "metadata": {},
     "output_type": "execute_result"
    }
   ],
   "source": [
    "rng = np.random.RandomState(seed=12345)\n",
    "idx = np.arange(y_train.shape[0])\n",
    "\n",
    "bootstrap_train_accuracies = []\n",
    "bootstrap_rounds = 200\n",
    "weight = 0.632\n",
    "\n",
    "for i in range(bootstrap_rounds):\n",
    "\n",
    "    train_idx = rng.choice(idx, size=idx.shape[0], replace=True)\n",
    "    valid_idx = np.setdiff1d(idx, train_idx, assume_unique=False)\n",
    "\n",
    "    boot_train_X, boot_train_y = X_train[train_idx], y_train[train_idx]\n",
    "    boot_valid_X, boot_valid_y = X_train[valid_idx], y_train[valid_idx]\n",
    "\n",
    "    clf.fit(boot_train_X, boot_train_y)\n",
    "    valid_acc = clf.score(boot_valid_X, boot_valid_y)\n",
    "    # predict training accuracy on the whole training set\n",
    "    # as ib the original .632 boostrap paper\n",
    "    # in Eq (6.12) in\n",
    "    #    \"Estimating the Error Rate of a Prediction Rule: Improvement\n",
    "    #     on Cross-Validation\"\n",
    "    #     by B. Efron, 1983, https://doi.org/10.2307/2288636\n",
    "    train_acc = clf.score(X_train, y_train)\n",
    "\n",
    "    acc = weight * train_acc + (1.0 - weight) * valid_acc\n",
    "\n",
    "    bootstrap_train_accuracies.append(acc)\n",
    "\n",
    "bootstrap_train_mean = np.mean(bootstrap_train_accuracies)\n",
    "bootstrap_train_mean"
   ]
  },
  {
   "cell_type": "code",
   "execution_count": 18,
   "metadata": {},
   "outputs": [
    {
     "name": "stdout",
     "output_type": "stream",
     "text": [
      "0.9221417322834646 1.0\n"
     ]
    }
   ],
   "source": [
    "ci_lower = np.percentile(bootstrap_train_accuracies, 2.5)\n",
    "ci_upper = np.percentile(bootstrap_train_accuracies, 97.5)\n",
    "\n",
    "print(ci_lower, ci_upper)"
   ]
  },
  {
   "cell_type": "code",
   "execution_count": 19,
   "metadata": {},
   "outputs": [],
   "source": [
    "results[\"Method 2.3: Bootstrap, .632\"] = {\n",
    "    \"Test accuracy\": bootstrap_train_mean,\n",
    "    \"Lower 95% CI\": ci_lower,\n",
    "    \"Upper 95% CI\": ci_upper,\n",
    "}"
   ]
  },
  {
   "cell_type": "markdown",
   "metadata": {},
   "source": [
    "### 2.4) Taking the Reweighting One Step Further: The .632+ Bootstrap "
   ]
  },
  {
   "cell_type": "markdown",
   "metadata": {},
   "source": [
    "The [.632+ Bootstrap](https://scholar.google.com/scholar_lookup?&title=Improvements%20on%20Cross-Validation%3A%20The%20.632%2B%20Bootstrap%20Method&journal=J%20Am%20Stat%20Assoc&doi=10.1080%2F01621459.1997.10474007&volume=92&issue=438&pages=548-560&publication_year=1997&author=Efron%2CB&author=Tibshirani%2CR) is an improvement over the .632 Bootstrap we implemented above. In a nutshell, the main difference is that the weighting terms are computed from the so-called no-information rate rather than being fixed.\n",
    "\n",
    "- Again, we are skipping the formulas and jump directly into the code implementation (in practice, I recommend using my implementation in [mlxtend](http://rasbt.github.io/mlxtend/user_guide/evaluate/bootstrap_point632_score/)):"
   ]
  },
  {
   "cell_type": "code",
   "execution_count": 20,
   "metadata": {},
   "outputs": [
    {
     "data": {
      "text/plain": [
       "0.9683445668115584"
      ]
     },
     "execution_count": 20,
     "metadata": {},
     "output_type": "execute_result"
    }
   ],
   "source": [
    "from itertools import product\n",
    "\n",
    "from sklearn.metrics import accuracy_score\n",
    "\n",
    "\n",
    "def no_information_rate(targets, predictions, loss_fn):\n",
    "    combinations = np.array(list(product(targets, predictions)))\n",
    "    return loss_fn(combinations[:, 0], combinations[:, 1])\n",
    "\n",
    "\n",
    "rng = np.random.RandomState(seed=12345)\n",
    "idx = np.arange(y_train.shape[0])\n",
    "\n",
    "bootstrap_train_accuracies = []\n",
    "bootstrap_rounds = 200\n",
    "weight = 0.632\n",
    "\n",
    "\n",
    "for i in range(bootstrap_rounds):\n",
    "\n",
    "    train_idx = rng.choice(idx, size=idx.shape[0], replace=True)\n",
    "    valid_idx = np.setdiff1d(idx, train_idx, assume_unique=False)\n",
    "\n",
    "    boot_train_X, boot_train_y = X_train[train_idx], y_train[train_idx]\n",
    "    boot_valid_X, boot_valid_y = X_train[valid_idx], y_train[valid_idx]\n",
    "\n",
    "    clf.fit(boot_train_X, boot_train_y)\n",
    "    train_acc = clf.score(X_train, y_train)\n",
    "    valid_acc = clf.score(boot_valid_X, boot_valid_y)\n",
    "\n",
    "    gamma = no_information_rate(y, clf.predict(X), accuracy_score)\n",
    "    R = (valid_acc - train_acc) / (gamma - train_acc)\n",
    "\n",
    "    weight = 0.632 / (1 - 0.368 * R)\n",
    "\n",
    "    acc = weight * train_acc + (1.0 - weight) * valid_acc\n",
    "\n",
    "    bootstrap_train_accuracies.append(acc)\n",
    "\n",
    "bootstrap_train_mean = np.mean(bootstrap_train_accuracies)\n",
    "bootstrap_train_mean"
   ]
  },
  {
   "cell_type": "code",
   "execution_count": 21,
   "metadata": {},
   "outputs": [
    {
     "name": "stdout",
     "output_type": "stream",
     "text": [
      "0.9248753660725227 1.0\n"
     ]
    }
   ],
   "source": [
    "ci_lower = np.percentile(bootstrap_train_accuracies, 2.5)\n",
    "ci_upper = np.percentile(bootstrap_train_accuracies, 97.5)\n",
    "\n",
    "print(ci_lower, ci_upper)"
   ]
  },
  {
   "cell_type": "code",
   "execution_count": 22,
   "metadata": {},
   "outputs": [],
   "source": [
    "results[\"Method 2.4: Bootstrap, .632+\"] = {\n",
    "    \"Test accuracy\": bootstrap_train_mean,\n",
    "    \"Lower 95% CI\": ci_lower,\n",
    "    \"Upper 95% CI\": ci_upper,\n",
    "}"
   ]
  },
  {
   "cell_type": "markdown",
   "metadata": {},
   "source": [
    "## 3) Bootstrapping the Test Set Predictions"
   ]
  },
  {
   "cell_type": "markdown",
   "metadata": {},
   "source": [
    "- Next, let's look at another way we can construct confidence intervals involving bootstrapping, namely, bootstrapping the test set.\n",
    "- I saw this method being used in the article [Machine Learning for Scent: Learning Generalizable Perceptual Representations of Small Molecules](https://arxiv.org/abs/1910.10685).\n",
    "- Here, in contrast to the other bootstrap methods we covered previously, we keep the model fixed and just resample the test set (instead of the training set). In a nutshell, this method avoid retraining the model:"
   ]
  },
  {
   "cell_type": "code",
   "execution_count": 23,
   "metadata": {},
   "outputs": [
    {
     "data": {
      "text/plain": [
       "0.9597826086956522"
      ]
     },
     "execution_count": 23,
     "metadata": {},
     "output_type": "execute_result"
    }
   ],
   "source": [
    "clf.fit(X_train, y_train)\n",
    "\n",
    "predictions_test = clf.predict(X_test)\n",
    "acc_test = np.mean(predictions_test == y_test)\n",
    "\n",
    "rng = np.random.RandomState(seed=12345)\n",
    "idx = np.arange(y_test.shape[0])\n",
    "\n",
    "test_accuracies = []\n",
    "\n",
    "for i in range(200):\n",
    "\n",
    "    pred_idx = rng.choice(idx, size=idx.shape[0], replace=True)\n",
    "    acc_test_boot = np.mean(predictions_test[pred_idx] == y_test[pred_idx])\n",
    "    test_accuracies.append(acc_test_boot)\n",
    "\n",
    "bootstrap_train_mean = np.mean(test_accuracies)\n",
    "bootstrap_train_mean"
   ]
  },
  {
   "cell_type": "markdown",
   "metadata": {},
   "source": [
    "- We can then use the familiar percentile approach to get the confidence interval:"
   ]
  },
  {
   "cell_type": "code",
   "execution_count": 24,
   "metadata": {},
   "outputs": [
    {
     "name": "stdout",
     "output_type": "stream",
     "text": [
      "0.8260869565217391 1.0\n"
     ]
    }
   ],
   "source": [
    "ci_lower = np.percentile(test_accuracies, 2.5)\n",
    "ci_upper = np.percentile(test_accuracies, 97.5)\n",
    "\n",
    "print(ci_lower, ci_upper)"
   ]
  },
  {
   "cell_type": "code",
   "execution_count": 25,
   "metadata": {},
   "outputs": [],
   "source": [
    "results[\"Method 3: Bootstrap test set\"] = {\n",
    "    \"Test accuracy\": bootstrap_train_mean,\n",
    "    \"Lower 95% CI\": ci_lower,\n",
    "    \"Upper 95% CI\": ci_upper,\n",
    "}"
   ]
  },
  {
   "cell_type": "markdown",
   "metadata": {},
   "source": [
    "## 4) Confidence Intervals from Retraining Models with Different Random Seeds"
   ]
  },
  {
   "cell_type": "markdown",
   "metadata": {},
   "source": [
    "- In deep learning, it is quite common to retrain a model with different random seeds. How can we construct confidence interval from these experiments?\n",
    "\n",
    "- Assuming that the sample means are normal distributed, we can adopt the approach from earlier:\n",
    "\n",
    "$$\n",
    "\\bar{x} \\pm z \\times \\text{SE}.\n",
    "$$\n",
    "\n",
    "- And since we usually deal with a smaller dataset size, a t-distribution is more appropriate, similar to what we used in the first bootstrap section (before we introduced the percentile method)\n",
    "\n",
    "- Also, if we are interested in the average accruacy, $\\overline{ACC}_{\\text{test}}$, we can technically make the argument that each $\\text{ACC}_{\\text{test}}$ corresponding to a different random seed is a sample, and the number of random seeds we evaluate would be the sample size $n$ so that we compute\n",
    "\n",
    "$$\n",
    "\\overline{ACC}_{\\text{test}} \\pm t \\times \\text{SE},\n",
    "$$\n",
    "\n",
    "with\n",
    "\n",
    "$$\n",
    "\\text{SE} = \\frac{\\text{SD}}{\\sqrt{n}}.\n",
    "$$\n",
    "\n",
    "\n",
    "\n"
   ]
  },
  {
   "cell_type": "markdown",
   "metadata": {},
   "source": [
    "- Note that for a decision tree classifier, the random seed usually doesn't really make difference in practice, so the following experiment is not very interesting. However, I am including the code just for the sake of completeness so that you can get an idea of how it works:"
   ]
  },
  {
   "cell_type": "code",
   "execution_count": 26,
   "metadata": {},
   "outputs": [
    {
     "data": {
      "text/plain": [
       "0.9565217391304348"
      ]
     },
     "execution_count": 26,
     "metadata": {},
     "output_type": "execute_result"
    }
   ],
   "source": [
    "test_accuracies = []\n",
    "rounds = 5\n",
    "\n",
    "\n",
    "for i in range(rounds):\n",
    "\n",
    "    clf = DecisionTreeClassifier(random_state=i)\n",
    "\n",
    "    clf.fit(X_train, y_train)\n",
    "    acc = clf.score(X_test, y_test)\n",
    "    test_accuracies.append(acc)\n",
    "\n",
    "test_mean = np.mean(test_accuracies)\n",
    "test_mean"
   ]
  },
  {
   "cell_type": "code",
   "execution_count": 27,
   "metadata": {},
   "outputs": [
    {
     "name": "stdout",
     "output_type": "stream",
     "text": [
      "0.9565217391304348 0.9565217391304348\n"
     ]
    }
   ],
   "source": [
    "confidence = 0.95  # Change to your desired confidence level\n",
    "t_value = scipy.stats.t.ppf((1 + confidence) / 2.0, df=rounds - 1)\n",
    "\n",
    "sd = np.std(test_accuracies, ddof=1)\n",
    "se = sd / np.sqrt(rounds)\n",
    "\n",
    "ci_length = t_value * se\n",
    "\n",
    "ci_lower = test_mean - ci_length\n",
    "ci_upper = test_mean + ci_length\n",
    "\n",
    "print(ci_lower, ci_upper)"
   ]
  },
  {
   "cell_type": "markdown",
   "metadata": {},
   "source": [
    "- As suspected, the test accuracies are all identical. However, in the context of training deep neural networks, this is another viable method."
   ]
  },
  {
   "cell_type": "markdown",
   "metadata": {},
   "source": [
    "<br>\n",
    "<br>\n",
    "<br>"
   ]
  },
  {
   "cell_type": "markdown",
   "metadata": {
    "tags": []
   },
   "source": [
    "## Comparing the Different Confidence Interval Methods"
   ]
  },
  {
   "cell_type": "markdown",
   "metadata": {},
   "source": [
    "- Given that there are so many methods out there, which one should we use? \n",
    "\n",
    "- It's a tricky to give a general recommendation since there are two aspects to it: practicality and accuracy.\n",
    "\n",
    "- Let's look at the practicality first.\n",
    "\n",
    "**Practicality**\n",
    "\n",
    "- The normal approximation approach is great if we want a computationally cheap method for confidence intervals that avoids retraining the model in contrast to the bootstrap methods.\n",
    "\n",
    "- Similar to the normal approximation approach, the \"bootstrapping the test set\" method also avoid retraining the model, however, it requires that we have access to the model's test set predictions. In contrast, the normal approximation intervals can be computed just from the tabulated test set scores (and sizes) listed in a paper without rerunning additional experiments.\n",
    "\n",
    "- The other bootstrap methods are much more expensive because they involve retraining models on the training folds. Since a minimum of 200 bootstrap rounds is commonly recommended, this can be very expensive for bigger dataset and deep neural networks. Also, we do not get a single model in the end that we evaluate; to circumvent that, we could train the model on the training set and then evaluate it's performance by fitting 200 models on the bootsrap samples and computing the average performance. This works well for most machine learning classifiers, but we have to take care in case of deep learning models as they may not always converge, and the non-converging models can then produce misleading accuracy estimates.\n",
    "\n",
    "- The .632+ bootstrap might be the most accurate bootstrap method but it is computationally very expensive for large datasets. In the current implementation, it is likely not feasible for more than a few hundred training examples. Hence, if bootstrapping is used, the next best approach, the .632 bootstrap, might be a better alternative.\n",
    "\n",
    "- Computing the confidence intervals from different random seeds is another great option, however, it is only really useful for deep learning models. It's more expensive than Normal approximation and bootstrapping the test set, since it involves retraining the model. On the other hand, the results from different random seeds give us a good idea of the stability of the model. In fact, this is great for model comparisons if you do this for two different types of models. In this case, you can apply the following formula assuming unequal variances:\n",
    "\n",
    "\n",
    "$$\n",
    "\\left(\\overline{ACC}_{\\text{m1}} -\\overline{ACC}_{\\text{m2}} \\right) \\pm t \\sqrt{\\frac{\\text{SD}_{\\text{m1}}^{2}}{n_{\\text{m1}}}+\\frac{\\text{SD}_{\\text{m2}}^{2}}{n_{\\text{m2}}}},\n",
    "$$\n",
    "\n",
    "where $\\text{m1}$ and $\\text{m2}$ refer to model 1 and model 2, respectively. If the confidence interval does not contain 0, then the performance of the models is statistically significant.\n",
    "\n",
    "- So, from a practicality standpoint, we can rank the methods as follows, from most to least practical\n",
    "\n",
    "1. Normal approximation;\n",
    "2. Bootstrapping the test set;\n",
    "3. Confidence intervals for different random seeds (deep learning only);\n",
    "4. Bootstrapping training sets with the percentile method;\n",
    "5. Bootstrapping training sets with the t-interval (tied with 4.);\n",
    "6. .632 bootstrap (tied with 4.);\n",
    "7. .632+ bootstrap."
   ]
  },
  {
   "cell_type": "markdown",
   "metadata": {},
   "source": [
    "- Next, let's look at the methods side by side:"
   ]
  },
  {
   "cell_type": "code",
   "execution_count": 28,
   "metadata": {},
   "outputs": [
    {
     "data": {
      "text/plain": [
       "dict_keys(['Method 1: Normal approximation', 'Method 2.1: Bootstrap, 1-sample CI', 'Method 2.2: Bootstrap, percentile', 'Method 2.3: Bootstrap, .632', 'Method 2.4: Bootstrap, .632+', 'Method 3: Bootstrap test set'])"
      ]
     },
     "execution_count": 28,
     "metadata": {},
     "output_type": "execute_result"
    }
   ],
   "source": [
    "results.keys()"
   ]
  },
  {
   "cell_type": "code",
   "execution_count": 29,
   "metadata": {},
   "outputs": [
    {
     "data": {
      "image/png": "[encoded data removed]",
      "text/plain": [
       "<Figure size 504x216 with 1 Axes>"
      ]
     },
     "metadata": {
      "needs_background": "light"
     },
     "output_type": "display_data"
    }
   ],
   "source": [
    "labels = list(results.keys())\n",
    "\n",
    "means = np.array([results[k][\"Test accuracy\"] for k in labels])\n",
    "lower_error = np.array([results[k][\"Lower 95% CI\"] for k in labels])\n",
    "upper_error = np.array([results[k][\"Upper 95% CI\"] for k in labels])\n",
    "\n",
    "asymmetric_error = [means - lower_error, upper_error - means]\n",
    "\n",
    "\n",
    "fig, ax = plt.subplots(figsize=(7, 3))\n",
    "ax.errorbar(means, np.arange(len(means)), xerr=asymmetric_error, fmt=\"o\")\n",
    "ax.set_xlim([0.75, 1.0])\n",
    "ax.set_yticks(np.arange(len(means)))\n",
    "ax.set_yticklabels(labels)\n",
    "ax.set_xlabel(\"Prediction accuracy\")\n",
    "ax.set_title(\"95% confidence intervals\")\n",
    "\n",
    "plt.grid()\n",
    "plt.tight_layout()\n",
    "plt.savefig(\"matplotlib-figures/comparison.pdf\")\n",
    "plt.show()"
   ]
  },
  {
   "cell_type": "markdown",
   "metadata": {},
   "source": [
    "- We can see that bootstrapping the test set results in the widest confidence intervals, and the .632 estimates results in the smallest confidence intervals. If the .632 confidence intervals are correct (contain the true parameter 95% of the time), then these would be most desirable. \n",
    "- However, which confidence interval method is most indeed correct is tricky to answer. There is a quick attempt in the notebook linked in the next section.\n",
    "- Note that the normal approximation and the bootstrap test set methods have slightly different test accuracy means (dots) because the bootstrap test set one is from averaging the bootstrap test set accuracies; however, we could use the original test set accuracy as the center."
   ]
  },
  {
   "cell_type": "markdown",
   "metadata": {},
   "source": [
    "## Confidence Intervals and the True Model Performance"
   ]
  },
  {
   "cell_type": "markdown",
   "metadata": {},
   "source": [
    "- Have a look at the supplementary [./ci-simulation.ipynb](./ci-simulation.ipynb) notebook for a quick simulation study."
   ]
  },
  {
   "cell_type": "markdown",
   "metadata": {},
   "source": [
    "## Bonus: Creating Confidence Intervals with TorchMetrics"
   ]
  },
  {
   "cell_type": "markdown",
   "metadata": {},
   "source": [
    "- In the context of deep learning and PyTorch, I recently wrote about [TorchMetrics](https://sebastianraschka.com/blog/2022/torchmetrics.html), which is an awesome tool for evaluating models in cases where the dataset is too big to fit into memory.\n",
    "- We can also use TorchMetrics for bootstrapping. In this case, bootstrapping the test set.\n",
    "- For comparison, the code for bootstrapping the test set we used earlier was as follows:"
   ]
  },
  {
   "cell_type": "code",
   "execution_count": 30,
   "metadata": {},
   "outputs": [
    {
     "data": {
      "text/plain": [
       "0.956304347826087"
      ]
     },
     "execution_count": 30,
     "metadata": {},
     "output_type": "execute_result"
    }
   ],
   "source": [
    "clf.fit(X_train, y_train)\n",
    "\n",
    "predictions_test = clf.predict(X_test)\n",
    "acc_test = np.mean(predictions_test == y_test)\n",
    "\n",
    "rng = np.random.RandomState(seed=123)\n",
    "idx = np.arange(y_test.shape[0])\n",
    "\n",
    "test_accuracies = []\n",
    "\n",
    "for i in range(200):\n",
    "\n",
    "    pred_idx = rng.choice(idx, size=idx.shape[0], replace=True)\n",
    "    acc_test_boot = np.mean(predictions_test[pred_idx] == y_test[pred_idx])\n",
    "    test_accuracies.append(acc_test_boot)\n",
    "\n",
    "bootstrap_train_mean = np.mean(test_accuracies)\n",
    "bootstrap_train_mean"
   ]
  },
  {
   "cell_type": "code",
   "execution_count": 31,
   "metadata": {},
   "outputs": [
    {
     "name": "stdout",
     "output_type": "stream",
     "text": [
      "0.8695652173913043 1.0\n"
     ]
    }
   ],
   "source": [
    "ci_lower = np.percentile(test_accuracies, 2.5)\n",
    "ci_upper = np.percentile(test_accuracies, 97.5)\n",
    "\n",
    "print(ci_lower, ci_upper)"
   ]
  },
  {
   "cell_type": "markdown",
   "metadata": {},
   "source": [
    "- Using the [`Bootstrapper`](https://torchmetrics.readthedocs.io/en/stable/references/wrappers.html#bootstrapper from TorchMetrics, we can we can replicate the results from above as follows:"
   ]
  },
  {
   "cell_type": "code",
   "execution_count": 32,
   "metadata": {},
   "outputs": [
    {
     "name": "stdout",
     "output_type": "stream",
     "text": [
      "{'mean': tensor(0.9602), 'std': tensor(0.0408), 'quantile': tensor([0.8696, 1.0000])}\n"
     ]
    }
   ],
   "source": [
    "import torch\n",
    "from torchmetrics import Accuracy, BootStrapper\n",
    "\n",
    "torch.manual_seed(123)\n",
    "\n",
    "quantiles = torch.tensor([0.05, 0.95])\n",
    "base_metric = Accuracy()\n",
    "bootstrap = BootStrapper(\n",
    "    base_metric, num_bootstraps=200, sampling_strategy=\"multinomial\", quantile=quantiles\n",
    ")\n",
    "\n",
    "bootstrap.update(torch.from_numpy(predictions_test), torch.from_numpy(y_test))\n",
    "output = bootstrap.compute()\n",
    "\n",
    "print(output)"
   ]
  },
  {
   "cell_type": "markdown",
   "metadata": {},
   "source": [
    "- Note that in practice this can come really handy if we want to compute things incrementally (e.g., if the test set is too big for memory).\n",
    "- E.g., let's assume the predictions come in multiple chunks:"
   ]
  },
  {
   "cell_type": "code",
   "execution_count": 33,
   "metadata": {},
   "outputs": [],
   "source": [
    "idx = np.arange(predictions_test.shape[0])\n",
    "groups = np.array_split(idx, 3)"
   ]
  },
  {
   "cell_type": "code",
   "execution_count": 34,
   "metadata": {},
   "outputs": [
    {
     "name": "stdout",
     "output_type": "stream",
     "text": [
      "{'mean': tensor(0.9550), 'std': tensor(0.0421), 'quantile': tensor([0.8696, 1.0000])}\n"
     ]
    }
   ],
   "source": [
    "torch.manual_seed(123)\n",
    "\n",
    "quantiles = torch.tensor([0.05, 0.95])\n",
    "base_metric = Accuracy()\n",
    "bootstrap = BootStrapper(\n",
    "    base_metric, num_bootstraps=200, sampling_strategy=\"multinomial\", quantile=quantiles\n",
    ")\n",
    "\n",
    "for group in groups:\n",
    "\n",
    "    pred_chunk = torch.from_numpy(predictions_test[group])\n",
    "    label_chunk = torch.from_numpy(y_test[group])\n",
    "\n",
    "    bootstrap.update(pred_chunk, label_chunk)\n",
    "\n",
    "output = bootstrap.compute()\n",
    "print(output)"
   ]
  },
  {
   "cell_type": "code",
   "execution_count": null,
   "metadata": {},
   "outputs": [],
   "source": []
  }
 ],
 "metadata": {
  "kernelspec": {
   "display_name": "Python 3 (ipykernel)",
   "language": "python",
   "name": "python3"
  },
  "language_info": {
   "codemirror_mode": {
    "name": "ipython",
    "version": 3
   },
   "file_extension": ".py",
   "mimetype": "text/x-python",
   "name": "python",
   "nbconvert_exporter": "python",
   "pygments_lexer": "ipython3",
   "version": "3.9.7"
  }
 },
 "nbformat": 4,
 "nbformat_minor": 4
}
