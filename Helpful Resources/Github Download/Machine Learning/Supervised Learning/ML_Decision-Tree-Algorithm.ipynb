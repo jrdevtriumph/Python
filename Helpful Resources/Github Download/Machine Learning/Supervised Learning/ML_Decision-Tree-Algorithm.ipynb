{
 "cells": [
  {
   "cell_type": "markdown",
   "metadata": {},
   "source": [
    "Decision Tree Algorithm<br>\n",
    "Used when we have options or decisions for each condition<br>\n",
    "It work Like a tree methodology<br>\n",
    "We have a root node and then child nodes and leaf nodes"
   ]
  },
  {
   "cell_type": "markdown",
   "metadata": {},
   "source": [
    "To read csv file"
   ]
  },
  {
   "cell_type": "code",
   "execution_count": 43,
   "metadata": {},
   "outputs": [],
   "source": [
    "import pandas as pd\n",
    "# For splitting between training and testing\n",
    "from sklearn.model_selection import train_test_split\n",
    "# Importing Algorithm\n",
    "from sklearn.tree import DecisionTreeClassifier\n",
    "# For checking/Evaluating accuracy of model and printing the confusion matrix\n",
    "from sklearn.metrics import accuracy_score,confusion_matrix\n",
    "# For Plotting\n",
    "import matplotlib.pyplot as plt\n",
    "# For dimension reduction\n",
    "from sklearn.decomposition import PCA"
   ]
  },
  {
   "cell_type": "markdown",
   "metadata": {},
   "source": [
    "Data Gathering<br>\n",
    "Importing data<br>\n",
    "Dataset contains various parameters and we need to print wine quality based on this"
   ]
  },
  {
   "cell_type": "code",
   "execution_count": 44,
   "metadata": {},
   "outputs": [
    {
     "name": "stdout",
     "output_type": "stream",
     "text": [
      "Dataframe is:\n",
      "       fixed acidity  volatile acidity  citric acid  residual sugar  chlorides  \\\n",
      "0               7.4             0.700         0.00             1.9      0.076   \n",
      "1               7.8             0.880         0.00             2.6      0.098   \n",
      "2               7.8             0.760         0.04             2.3      0.092   \n",
      "3              11.2             0.280         0.56             1.9      0.075   \n",
      "4               7.4             0.700         0.00             1.9      0.076   \n",
      "...             ...               ...          ...             ...        ...   \n",
      "1594            6.2             0.600         0.08             2.0      0.090   \n",
      "1595            5.9             0.550         0.10             2.2      0.062   \n",
      "1596            6.3             0.510         0.13             2.3      0.076   \n",
      "1597            5.9             0.645         0.12             2.0      0.075   \n",
      "1598            6.0             0.310         0.47             3.6      0.067   \n",
      "\n",
      "      free sulfur dioxide  total sulfur dioxide  density    pH  sulphates  \\\n",
      "0                    11.0                  34.0  0.99780  3.51       0.56   \n",
      "1                    25.0                  67.0  0.99680  3.20       0.68   \n",
      "2                    15.0                  54.0  0.99700  3.26       0.65   \n",
      "3                    17.0                  60.0  0.99800  3.16       0.58   \n",
      "4                    11.0                  34.0  0.99780  3.51       0.56   \n",
      "...                   ...                   ...      ...   ...        ...   \n",
      "1594                 32.0                  44.0  0.99490  3.45       0.58   \n",
      "1595                 39.0                  51.0  0.99512  3.52       0.76   \n",
      "1596                 29.0                  40.0  0.99574  3.42       0.75   \n",
      "1597                 32.0                  44.0  0.99547  3.57       0.71   \n",
      "1598                 18.0                  42.0  0.99549  3.39       0.66   \n",
      "\n",
      "      alcohol  quality  \n",
      "0         9.4        5  \n",
      "1         9.8        5  \n",
      "2         9.8        5  \n",
      "3         9.8        6  \n",
      "4         9.4        5  \n",
      "...       ...      ...  \n",
      "1594     10.5        5  \n",
      "1595     11.2        6  \n",
      "1596     11.0        6  \n",
      "1597     10.2        5  \n",
      "1598     11.0        6  \n",
      "\n",
      "[1599 rows x 12 columns]\n",
      "\n",
      "\n",
      "Columns in dataframe are: Index(['fixed acidity', 'volatile acidity', 'citric acid', 'residual sugar',\n",
      "       'chlorides', 'free sulfur dioxide', 'total sulfur dioxide', 'density',\n",
      "       'pH', 'sulphates', 'alcohol', 'quality'],\n",
      "      dtype='object')\n",
      "\n",
      "\n",
      "Information about Dataframe is:\n",
      " <bound method DataFrame.info of       fixed acidity  volatile acidity  citric acid  residual sugar  chlorides  \\\n",
      "0               7.4             0.700         0.00             1.9      0.076   \n",
      "1               7.8             0.880         0.00             2.6      0.098   \n",
      "2               7.8             0.760         0.04             2.3      0.092   \n",
      "3              11.2             0.280         0.56             1.9      0.075   \n",
      "4               7.4             0.700         0.00             1.9      0.076   \n",
      "...             ...               ...          ...             ...        ...   \n",
      "1594            6.2             0.600         0.08             2.0      0.090   \n",
      "1595            5.9             0.550         0.10             2.2      0.062   \n",
      "1596            6.3             0.510         0.13             2.3      0.076   \n",
      "1597            5.9             0.645         0.12             2.0      0.075   \n",
      "1598            6.0             0.310         0.47             3.6      0.067   \n",
      "\n",
      "      free sulfur dioxide  total sulfur dioxide  density    pH  sulphates  \\\n",
      "0                    11.0                  34.0  0.99780  3.51       0.56   \n",
      "1                    25.0                  67.0  0.99680  3.20       0.68   \n",
      "2                    15.0                  54.0  0.99700  3.26       0.65   \n",
      "3                    17.0                  60.0  0.99800  3.16       0.58   \n",
      "4                    11.0                  34.0  0.99780  3.51       0.56   \n",
      "...                   ...                   ...      ...   ...        ...   \n",
      "1594                 32.0                  44.0  0.99490  3.45       0.58   \n",
      "1595                 39.0                  51.0  0.99512  3.52       0.76   \n",
      "1596                 29.0                  40.0  0.99574  3.42       0.75   \n",
      "1597                 32.0                  44.0  0.99547  3.57       0.71   \n",
      "1598                 18.0                  42.0  0.99549  3.39       0.66   \n",
      "\n",
      "      alcohol  quality  \n",
      "0         9.4        5  \n",
      "1         9.8        5  \n",
      "2         9.8        5  \n",
      "3         9.8        6  \n",
      "4         9.4        5  \n",
      "...       ...      ...  \n",
      "1594     10.5        5  \n",
      "1595     11.2        6  \n",
      "1596     11.0        6  \n",
      "1597     10.2        5  \n",
      "1598     11.0        6  \n",
      "\n",
      "[1599 rows x 12 columns]>\n"
     ]
    }
   ],
   "source": [
    "wine_data=pd.read_csv(\"winequality-red.csv\")\n",
    "print(\"Dataframe is:\\n\",wine_data)\n",
    "print(\"\\n\\nColumns in dataframe are:\",wine_data.columns)\n",
    "print(\"\\n\\nInformation about Dataframe is:\\n\",wine_data.info)"
   ]
  },
  {
   "cell_type": "markdown",
   "metadata": {},
   "source": [
    "Input and Output data"
   ]
  },
  {
   "cell_type": "code",
   "execution_count": 45,
   "metadata": {},
   "outputs": [
    {
     "name": "stdout",
     "output_type": "stream",
     "text": [
      "Shape of training test data: (320, 11) \n",
      "Shape of training test data: (320,) \n",
      "\n"
     ]
    }
   ],
   "source": [
    "X,Y=wine_data.drop([\"quality\"],axis=1),wine_data['quality']\n",
    "# Splitting into training and testing data\n",
    "x_train,x_test,y_train,y_test=train_test_split(X,Y,train_size=0.8)\n",
    "print(\"Shape of training test data:\",x_test.shape,\"\\nShape of training test data:\",y_test.shape,\"\\n\")"
   ]
  },
  {
   "cell_type": "markdown",
   "metadata": {},
   "source": [
    "Choosing algorithm<br>\n",
    "Model is not good enough(not giving accuracy for by default parameters), so we need to change pararmeters"
   ]
  },
  {
   "cell_type": "code",
   "execution_count": 46,
   "metadata": {},
   "outputs": [
    {
     "data": {
      "text/plain": [
       "DecisionTreeClassifier(criterion='entropy')"
      ]
     },
     "execution_count": 46,
     "metadata": {},
     "output_type": "execute_result"
    }
   ],
   "source": [
    "dt=DecisionTreeClassifier(criterion=\"entropy\")\n",
    "# Training Data\n",
    "dt.fit(x_train,y_train)"
   ]
  },
  {
   "cell_type": "markdown",
   "metadata": {},
   "source": [
    "Evaluating/Testing the model"
   ]
  },
  {
   "cell_type": "code",
   "execution_count": 47,
   "metadata": {},
   "outputs": [
    {
     "name": "stdout",
     "output_type": "stream",
     "text": [
      "Training Accuracy is: 100.0\n",
      "\n",
      "Predicted Data is:\n",
      " [6 5 5 6 6 7 7 7 6 5 5 6 5 6 6 5 5 6 5 5 6 5 5 5 5 6 6 5 6 5 6 6 5 6 6 5 5\n",
      " 5 5 5 5 5 5 7 7 4 7 5 6 5 5 5 5 5 5 6 5 6 5 5 5 6 5 6 5 8 5 6 6 6 5 6 5 6\n",
      " 6 5 5 5 6 7 5 5 7 5 7 6 4 5 5 6 7 5 7 7 4 5 6 6 5 5 6 5 5 6 7 6 6 6 6 6 5\n",
      " 8 6 5 5 5 5 5 5 5 4 5 7 5 7 5 6 7 6 5 6 5 6 4 5 6 7 6 7 6 7 5 6 6 6 5 6 6\n",
      " 5 6 6 7 6 5 6 7 6 6 5 6 6 7 5 6 6 6 7 6 5 6 6 4 5 8 6 6 5 5 6 5 6 5 5 5 6\n",
      " 6 5 6 5 5 7 5 6 6 5 5 7 7 5 5 5 6 5 6 5 5 5 6 6 5 7 5 6 6 5 5 5 6 6 7 5 7\n",
      " 5 5 5 5 5 6 5 6 6 6 6 6 5 5 5 7 5 6 5 6 6 5 6 8 6 6 5 6 5 7 5 5 5 6 5 5 6\n",
      " 5 6 5 4 5 5 6 4 7 7 7 6 5 5 5 5 5 6 5 7 6 6 6 5 5 7 6 5 6 7 5 5 6 6 5 6 5\n",
      " 6 5 7 8 5 6 7 5 6 6 5 6 5 5 6 5 5 7 6 5 7 6 6 5]\n",
      "\n",
      "Testing Accuracy is: 63.4375\n",
      "\n",
      "Confusion Matrix is:\n",
      " [[  0   2   0   0   1   0]\n",
      " [  0   1   9   0   1   0]\n",
      " [  0   3 105  24   6   0]\n",
      " [  0   2  30  82  14   2]\n",
      " [  0   0   3  13  15   3]\n",
      " [  0   0   0   0   4   0]]\n"
     ]
    }
   ],
   "source": [
    "print(\"Training Accuracy is:\",dt.score(x_train,y_train)*100)\n",
    "predict=dt.predict(x_test)\n",
    "print(\"\\nPredicted Data is:\\n\",predict)\n",
    "print(\"\\nTesting Accuracy is:\",accuracy_score(y_test,predict)*100)\n",
    "print(\"\\nConfusion Matrix is:\\n\",confusion_matrix(y_test,predict))"
   ]
  },
  {
   "cell_type": "markdown",
   "metadata": {},
   "source": [
    "Plotting graph for complete dataset<br>\n",
    "PCA (Principle component analysis)- For Dimension reduction of data<br>\n",
    "As we cannot plot with multiple dimensions<br>\n",
    "Dimensions will be reduced to 2"
   ]
  },
  {
   "cell_type": "code",
   "execution_count": 48,
   "metadata": {},
   "outputs": [
    {
     "name": "stdout",
     "output_type": "stream",
     "text": [
      "Transforming data\n",
      " [[-13.22490501  -2.02389981]\n",
      " [ 22.03772361   4.40832155]\n",
      " [  7.16267333  -2.50146086]\n",
      " ...\n",
      " [ -3.43135351  14.27124349]\n",
      " [  1.13287834  16.31616732]\n",
      " [ -3.8743766    3.12634754]]\n",
      "\n",
      "Shape of Transformed data is: (1599, 2)\n",
      "\n",
      "Transformed Data is: [[-13.22490501  -2.02389981]\n",
      " [ 22.03772361   4.40832155]\n",
      " [  7.16267333  -2.50146086]\n",
      " ...\n",
      " [ -3.43135351  14.27124349]\n",
      " [  1.13287834  16.31616732]\n",
      " [ -3.8743766    3.12634754]]\n"
     ]
    }
   ],
   "source": [
    "x=PCA(n_components=2)\n",
    "# Transforming data\n",
    "pca_data=x.fit_transform(X)\n",
    "print(\"Transforming data\\n\",x.fit_transform(X))\n",
    "print(\"\\nShape of Transformed data is:\",pca_data.shape)\n",
    "print(\"\\nTransformed Data is:\",pca_data)"
   ]
  },
  {
   "cell_type": "markdown",
   "metadata": {},
   "source": [
    "Plotting"
   ]
  },
  {
   "cell_type": "code",
   "execution_count": 49,
   "metadata": {},
   "outputs": [
    {
     "data": {
      "image/png": "[encoded data removed]",
      "text/plain": [
       "<Figure size 432x288 with 1 Axes>"
      ]
     },
     "metadata": {
      "needs_background": "light"
     },
     "output_type": "display_data"
    }
   ],
   "source": [
    "plt.scatter(pca_data[:,0],pca_data[:,1])\n",
    "plt.title(\"Graph for wine data\")\n",
    "plt.show()"
   ]
  }
 ],
 "metadata": {
  "kernelspec": {
   "display_name": "Python 3 (ipykernel)",
   "language": "python",
   "name": "python3"
  },
  "language_info": {
   "codemirror_mode": {
    "name": "ipython",
    "version": 3
   },
   "file_extension": ".py",
   "mimetype": "text/x-python",
   "name": "python",
   "nbconvert_exporter": "python",
   "pygments_lexer": "ipython3",
   "version": "3.9.12"
  }
 },
 "nbformat": 4,
 "nbformat_minor": 2
}
