{
 "cells": [
  {
   "cell_type": "markdown",
   "metadata": {},
   "source": [
    "Overfitting is disadvantage of decision tree<br>\n",
    "We use random forest to overcome this<br>\n",
    "Random forest is like a combination of decision trees<br>\n",
    "Seeing Accuracy of model for various datasets"
   ]
  },
  {
   "cell_type": "markdown",
   "metadata": {},
   "source": [
    "To read csv file"
   ]
  },
  {
   "cell_type": "code",
   "execution_count": 19,
   "metadata": {},
   "outputs": [],
   "source": [
    "import pandas as pd\n",
    "# For splitting between training and testing\n",
    "from sklearn.model_selection import train_test_split\n",
    "# Importing Algorithm\n",
    "from sklearn.ensemble import RandomForestClassifier\n",
    "# For checking/Evaluating accuracy of model and printing the confusion matrix\n",
    "from sklearn.metrics import accuracy_score,confusion_matrix\n",
    "# For Plotting\n",
    "import matplotlib.pyplot as plt\n",
    "# For dimension reduction\n",
    "from sklearn.decomposition import PCA\n",
    "# For converting string to int\n",
    "from sklearn.preprocessing import LabelEncoder"
   ]
  },
  {
   "cell_type": "markdown",
   "metadata": {},
   "source": [
    "Importing data<br>\n",
    "Data Gathering<br>\n",
    "Dataset contains various parameters and we need to print wine quality based on this"
   ]
  },
  {
   "cell_type": "code",
   "execution_count": 20,
   "metadata": {},
   "outputs": [
    {
     "name": "stdout",
     "output_type": "stream",
     "text": [
      "Columns in dataframe are: Index(['fixed acidity', 'volatile acidity', 'citric acid', 'residual sugar',\n",
      "       'chlorides', 'free sulfur dioxide', 'total sulfur dioxide', 'density',\n",
      "       'pH', 'sulphates', 'alcohol', 'quality'],\n",
      "      dtype='object')\n",
      "Information about Dataframe is:\n",
      " <bound method DataFrame.info of       fixed acidity  volatile acidity  citric acid  residual sugar  chlorides  \\\n",
      "0               7.4             0.700         0.00             1.9      0.076   \n",
      "1               7.8             0.880         0.00             2.6      0.098   \n",
      "2               7.8             0.760         0.04             2.3      0.092   \n",
      "3              11.2             0.280         0.56             1.9      0.075   \n",
      "4               7.4             0.700         0.00             1.9      0.076   \n",
      "...             ...               ...          ...             ...        ...   \n",
      "1594            6.2             0.600         0.08             2.0      0.090   \n",
      "1595            5.9             0.550         0.10             2.2      0.062   \n",
      "1596            6.3             0.510         0.13             2.3      0.076   \n",
      "1597            5.9             0.645         0.12             2.0      0.075   \n",
      "1598            6.0             0.310         0.47             3.6      0.067   \n",
      "\n",
      "      free sulfur dioxide  total sulfur dioxide  density    pH  sulphates  \\\n",
      "0                    11.0                  34.0  0.99780  3.51       0.56   \n",
      "1                    25.0                  67.0  0.99680  3.20       0.68   \n",
      "2                    15.0                  54.0  0.99700  3.26       0.65   \n",
      "3                    17.0                  60.0  0.99800  3.16       0.58   \n",
      "4                    11.0                  34.0  0.99780  3.51       0.56   \n",
      "...                   ...                   ...      ...   ...        ...   \n",
      "1594                 32.0                  44.0  0.99490  3.45       0.58   \n",
      "1595                 39.0                  51.0  0.99512  3.52       0.76   \n",
      "1596                 29.0                  40.0  0.99574  3.42       0.75   \n",
      "1597                 32.0                  44.0  0.99547  3.57       0.71   \n",
      "1598                 18.0                  42.0  0.99549  3.39       0.66   \n",
      "\n",
      "      alcohol  quality  \n",
      "0         9.4        5  \n",
      "1         9.8        5  \n",
      "2         9.8        5  \n",
      "3         9.8        6  \n",
      "4         9.4        5  \n",
      "...       ...      ...  \n",
      "1594     10.5        5  \n",
      "1595     11.2        6  \n",
      "1596     11.0        6  \n",
      "1597     10.2        5  \n",
      "1598     11.0        6  \n",
      "\n",
      "[1599 rows x 12 columns]>\n"
     ]
    }
   ],
   "source": [
    "wine_data=pd.read_csv(\"winequality-red.csv\")\n",
    "print(\"Columns in dataframe are:\",wine_data.columns)\n",
    "print(\"Information about Dataframe is:\\n\",wine_data.info)"
   ]
  },
  {
   "cell_type": "markdown",
   "metadata": {},
   "source": [
    "Input and Output data"
   ]
  },
  {
   "cell_type": "code",
   "execution_count": 21,
   "metadata": {},
   "outputs": [
    {
     "name": "stdout",
     "output_type": "stream",
     "text": [
      "Shape of training test data: (320, 11) \n",
      "Shape of training test data: (320,) \n",
      "\n"
     ]
    }
   ],
   "source": [
    "X,Y=wine_data.drop([\"quality\"],axis=1),wine_data['quality']\n",
    "# Splitting into training and testing data\n",
    "x_train,x_test,y_train,y_test=train_test_split(X,Y,train_size=0.8,shuffle=False)\n",
    "print(\"Shape of training test data:\",x_test.shape,\"\\nShape of training test data:\",y_test.shape,\"\\n\")"
   ]
  },
  {
   "cell_type": "markdown",
   "metadata": {},
   "source": [
    "Choosing algorithm<br>\n",
    "Model is not good enough(not giving accuracy for by default parameters), so we need to change pararmeters"
   ]
  },
  {
   "cell_type": "code",
   "execution_count": 22,
   "metadata": {},
   "outputs": [
    {
     "data": {
      "text/plain": [
       "RandomForestClassifier(criterion='entropy', max_depth=10, n_estimators=1000)"
      ]
     },
     "execution_count": 22,
     "metadata": {},
     "output_type": "execute_result"
    }
   ],
   "source": [
    "dt=RandomForestClassifier(1000,criterion=\"entropy\",max_depth=10)\n",
    "# Training Data\n",
    "dt.fit(x_train,y_train)"
   ]
  },
  {
   "cell_type": "markdown",
   "metadata": {},
   "source": [
    "Evaluating/Testing the model"
   ]
  },
  {
   "cell_type": "code",
   "execution_count": 23,
   "metadata": {},
   "outputs": [
    {
     "name": "stdout",
     "output_type": "stream",
     "text": [
      "Training Accuracy is: 97.34167318217357\n",
      "Predicted Data is:\n",
      " [7 6 6 6 6 6 6 6 6 5 5 6 6 6 5 6 5 5 6 6 5 6 6 6 6 5 5 5 6 5 5 5 6 5 5 5 5\n",
      " 6 6 5 5 5 6 7 6 6 6 6 6 5 5 5 5 5 5 5 6 5 5 5 6 6 6 5 6 5 5 6 5 5 6 5 6 5\n",
      " 5 5 6 5 6 5 6 6 5 6 5 6 5 5 5 5 5 5 7 5 5 5 5 5 6 5 6 6 5 5 5 5 5 5 5 5 5\n",
      " 6 6 5 5 5 5 5 5 5 6 5 5 7 6 6 6 7 6 7 6 6 6 7 5 6 5 6 7 5 5 5 5 6 6 6 6 6\n",
      " 6 6 6 6 5 7 6 5 5 5 5 5 6 6 5 5 6 6 5 5 5 5 6 6 6 6 5 6 5 5 5 6 7 5 5 6 6\n",
      " 5 5 5 5 5 5 5 6 6 6 5 7 5 7 5 6 5 6 6 6 5 5 6 6 5 6 6 5 6 5 6 6 5 6 5 6 5\n",
      " 5 5 6 6 5 6 6 6 6 6 5 5 6 5 5 6 6 6 5 6 5 6 6 6 6 5 6 6 5 6 5 6 6 6 5 6 6\n",
      " 6 6 6 6 6 6 7 6 6 6 6 6 5 5 6 5 6 6 5 6 5 5 5 5 5 5 5 6 6 5 5 6 7 6 5 6 5\n",
      " 6 6 6 6 6 6 6 6 5 7 6 6 6 6 5 6 6 6 5 6 6 6 5 6]\n",
      "Testing Accuracy is: 64.6875\n",
      "Confusion Matrix is:\n",
      " [[  0   0   5   0   0   0]\n",
      " [  0   0   8   3   0   0]\n",
      " [  0   0 100  42   1   0]\n",
      " [  0   0  31  99   6   0]\n",
      " [  0   0   3  11   8   0]\n",
      " [  0   0   0   3   0   0]]\n"
     ]
    }
   ],
   "source": [
    "print(\"Training Accuracy is:\",dt.score(x_train,y_train)*100)\n",
    "predict=dt.predict(x_test)\n",
    "print(\"Predicted Data is:\\n\",predict)\n",
    "print(\"Testing Accuracy is:\",accuracy_score(y_test,predict)*100)\n",
    "print(\"Confusion Matrix is:\\n\",confusion_matrix(y_test,predict))"
   ]
  },
  {
   "cell_type": "markdown",
   "metadata": {},
   "source": [
    "Trying for another dataset<br>\n",
    "Car dataset<br>\n",
    "Six input attributes: buying, maint, doors, persons, lug_boot, safety.<br>\n",
    "Output Class Values:<br>\n",
    "unacc, acc, good, vgood"
   ]
  },
  {
   "cell_type": "code",
   "execution_count": 24,
   "metadata": {},
   "outputs": [
    {
     "name": "stdout",
     "output_type": "stream",
     "text": [
      "Dataframe is:\n",
      "       vhigh vhigh.1      2   2.1  small   low  unacc\n",
      "0     vhigh   vhigh      2     2  small   med  unacc\n",
      "1     vhigh   vhigh      2     2  small  high  unacc\n",
      "2     vhigh   vhigh      2     2    med   low  unacc\n",
      "3     vhigh   vhigh      2     2    med   med  unacc\n",
      "4     vhigh   vhigh      2     2    med  high  unacc\n",
      "...     ...     ...    ...   ...    ...   ...    ...\n",
      "1722    low     low  5more  more    med   med   good\n",
      "1723    low     low  5more  more    med  high  vgood\n",
      "1724    low     low  5more  more    big   low  unacc\n",
      "1725    low     low  5more  more    big   med   good\n",
      "1726    low     low  5more  more    big  high  vgood\n",
      "\n",
      "[1727 rows x 7 columns]\n",
      "Columns in dataframe are: Index(['vhigh', 'vhigh.1', '2', '2.1', 'small', 'low', 'unacc'], dtype='object')\n",
      "Information about Dataframe is:\n",
      " <bound method DataFrame.info of       vhigh vhigh.1      2   2.1  small   low  unacc\n",
      "0     vhigh   vhigh      2     2  small   med  unacc\n",
      "1     vhigh   vhigh      2     2  small  high  unacc\n",
      "2     vhigh   vhigh      2     2    med   low  unacc\n",
      "3     vhigh   vhigh      2     2    med   med  unacc\n",
      "4     vhigh   vhigh      2     2    med  high  unacc\n",
      "...     ...     ...    ...   ...    ...   ...    ...\n",
      "1722    low     low  5more  more    med   med   good\n",
      "1723    low     low  5more  more    med  high  vgood\n",
      "1724    low     low  5more  more    big   low  unacc\n",
      "1725    low     low  5more  more    big   med   good\n",
      "1726    low     low  5more  more    big  high  vgood\n",
      "\n",
      "[1727 rows x 7 columns]>\n"
     ]
    }
   ],
   "source": [
    "df=pd.read_csv(\"car_evaluation.csv\")\n",
    "print(\"Dataframe is:\\n\",df)\n",
    "print(\"Columns in dataframe are:\",df.columns)\n",
    "print(\"Information about Dataframe is:\\n\",df.info)"
   ]
  },
  {
   "cell_type": "markdown",
   "metadata": {},
   "source": [
    "For converting string columns to numeric values"
   ]
  },
  {
   "cell_type": "code",
   "execution_count": 25,
   "metadata": {},
   "outputs": [],
   "source": [
    "le= LabelEncoder()"
   ]
  },
  {
   "cell_type": "markdown",
   "metadata": {},
   "source": [
    "Function to convert string values to numeric values"
   ]
  },
  {
   "cell_type": "code",
   "execution_count": 26,
   "metadata": {},
   "outputs": [],
   "source": [
    "func = lambda i:le.fit(df[i]).transform(df[i])\n",
    "for i in df.columns:\n",
    "    df[i]=func(i)"
   ]
  },
  {
   "cell_type": "markdown",
   "metadata": {},
   "source": [
    "Printing Updated Dataframe"
   ]
  },
  {
   "cell_type": "code",
   "execution_count": 27,
   "metadata": {},
   "outputs": [
    {
     "name": "stdout",
     "output_type": "stream",
     "text": [
      "Updated Dataframe is:       vhigh  vhigh.1  2  2.1  small  low  unacc\n",
      "0         3        3  0    0      2    2      2\n",
      "1         3        3  0    0      2    0      2\n",
      "2         3        3  0    0      1    1      2\n",
      "3         3        3  0    0      1    2      2\n",
      "4         3        3  0    0      1    0      2\n",
      "...     ...      ... ..  ...    ...  ...    ...\n",
      "1722      1        1  3    2      1    2      1\n",
      "1723      1        1  3    2      1    0      3\n",
      "1724      1        1  3    2      0    1      2\n",
      "1725      1        1  3    2      0    2      1\n",
      "1726      1        1  3    2      0    0      3\n",
      "\n",
      "[1727 rows x 7 columns]\n"
     ]
    }
   ],
   "source": [
    "print(\"Updated Dataframe is:\",df)"
   ]
  },
  {
   "cell_type": "markdown",
   "metadata": {},
   "source": [
    "Input and Output data"
   ]
  },
  {
   "cell_type": "code",
   "execution_count": 28,
   "metadata": {},
   "outputs": [],
   "source": [
    "X,Y=df.drop(['unacc'],axis=1),df['unacc']"
   ]
  },
  {
   "cell_type": "code",
   "execution_count": 29,
   "metadata": {},
   "outputs": [
    {
     "name": "stdout",
     "output_type": "stream",
     "text": [
      "Shape of training test data: (346, 6) \n",
      "Shape of training test data: (346,) \n",
      "\n"
     ]
    }
   ],
   "source": [
    "x_train,x_test,y_train,y_test=train_test_split(X,Y,train_size=0.8,shuffle=False)\n",
    "print(\"Shape of training test data:\",x_test.shape,\"\\nShape of training test data:\",y_test.shape,\"\\n\")"
   ]
  },
  {
   "cell_type": "markdown",
   "metadata": {},
   "source": [
    "Choosing algorithm<br>\n",
    "Model is not good enough(not giving accuracy for by default parameters), so we need to change pararmeters"
   ]
  },
  {
   "cell_type": "code",
   "execution_count": 30,
   "metadata": {},
   "outputs": [
    {
     "data": {
      "text/plain": [
       "RandomForestClassifier(criterion='entropy', max_depth=10, n_estimators=1000)"
      ]
     },
     "execution_count": 30,
     "metadata": {},
     "output_type": "execute_result"
    }
   ],
   "source": [
    "dt=RandomForestClassifier(1000,criterion=\"entropy\",max_depth=10)\n",
    "# Training Model\n",
    "dt.fit(x_train,y_train)"
   ]
  },
  {
   "cell_type": "markdown",
   "metadata": {},
   "source": [
    "Evaluating/Testing the model"
   ]
  },
  {
   "cell_type": "code",
   "execution_count": 31,
   "metadata": {},
   "outputs": [
    {
     "name": "stdout",
     "output_type": "stream",
     "text": [
      "Training Accuracy is: 99.9275887038378\n",
      "Predicted Data is:\n",
      " [2 2 2 2 2 2 0 2 0 0 2 0 0 2 2 0 2 0 0 2 0 0 2 2 2 2 2 2 2 2 2 2 2 0 2 2 0\n",
      " 2 0 0 2 2 2 2 2 0 2 0 0 2 2 2 2 2 2 2 2 2 2 2 0 2 2 0 2 0 0 2 2 0 2 0 0 2\n",
      " 0 0 2 2 2 2 2 2 2 2 2 2 2 0 2 0 0 2 0 0 2 2 0 2 0 0 2 0 0 2 2 2 2 2 2 2 2\n",
      " 2 2 2 0 2 0 0 2 0 0 2 2 0 2 0 0 2 0 0 2 2 2 2 2 2 2 2 2 2 2 0 2 2 0 2 0 0\n",
      " 2 2 2 2 2 0 2 0 0 2 2 2 2 2 2 2 2 2 2 2 0 2 2 0 2 0 0 2 2 0 2 0 0 2 0 0 2\n",
      " 2 2 2 2 2 2 2 2 2 2 0 2 0 0 2 0 0 2 2 0 2 0 0 2 0 0 2 2 2 2 2 2 2 2 2 2 2\n",
      " 0 2 0 0 2 0 0 2 2 0 2 0 0 2 0 0 2 2 2 2 2 2 2 2 2 2 2 0 2 2 0 2 0 0 2 2 2\n",
      " 2 2 0 2 0 0 2 2 2 2 2 2 2 2 2 2 2 0 2 2 0 2 0 0 2 2 0 2 0 0 2 0 0 2 2 2 2\n",
      " 2 2 2 2 2 2 2 0 2 0 0 2 0 0 2 2 0 2 0 0 2 0 0 2 2 2 2 2 2 2 2 2 2 2 0 2 0\n",
      " 0 2 0 0 2 2 0 2 0 0 2 0 0]\n",
      "Testing Accuracy is: 66.76300578034682\n",
      "Confusion Matrix is:\n",
      " [[ 33   0  30   0]\n",
      " [ 46   0   0   0]\n",
      " [  0   0 198   0]\n",
      " [ 39   0   0   0]]\n"
     ]
    }
   ],
   "source": [
    "print(\"Training Accuracy is:\",dt.score(x_train,y_train)*100)\n",
    "predict=dt.predict(x_test)\n",
    "print(\"Predicted Data is:\\n\",predict)\n",
    "print(\"Testing Accuracy is:\",accuracy_score(y_test,predict)*100)\n",
    "print(\"Confusion Matrix is:\\n\",confusion_matrix(y_test,predict))"
   ]
  },
  {
   "cell_type": "markdown",
   "metadata": {},
   "source": [
    "Doing PCA(Principle component analysis) to reduce dimensions"
   ]
  },
  {
   "cell_type": "code",
   "execution_count": 32,
   "metadata": {},
   "outputs": [
    {
     "name": "stdout",
     "output_type": "stream",
     "text": [
      "Transforming data\n",
      " [[-1.84516408e-13  5.29331045e-13  2.59437792e+00]\n",
      " [-1.93662446e-13  5.20703674e-13  2.59437792e+00]\n",
      " [-2.02731368e-13  5.16528774e-13  2.59696903e+00]\n",
      " ...\n",
      " [ 4.08248290e-01  7.07106781e-01 -1.43668238e+00]\n",
      " [ 4.08248290e-01  7.07106781e-01 -1.43668238e+00]\n",
      " [ 4.08248290e-01  7.07106781e-01 -1.43668238e+00]]\n",
      "Shape of Transformed data is: (1727, 3)\n",
      "Transformed Data is: [[ 9.14726332e-14 -1.46215585e-13  2.59437792e+00]\n",
      " [ 9.67223920e-14 -1.44758726e-13  2.59437792e+00]\n",
      " [ 9.38287609e-14 -1.42351358e-13  2.59696903e+00]\n",
      " ...\n",
      " [ 4.08248290e-01  7.07106781e-01 -1.43668238e+00]\n",
      " [ 4.08248290e-01  7.07106781e-01 -1.43668238e+00]\n",
      " [ 4.08248290e-01  7.07106781e-01 -1.43668238e+00]]\n"
     ]
    }
   ],
   "source": [
    "x=PCA(n_components=3)\n",
    "pca_data=x.fit_transform(X)\n",
    "# Transforming data\n",
    "pca_data=x.fit_transform(X)\n",
    "print(\"Transforming data\\n\",x.fit_transform(X))\n",
    "print(\"Shape of Transformed data is:\",pca_data.shape)\n",
    "print(\"Transformed Data is:\",pca_data)"
   ]
  },
  {
   "cell_type": "markdown",
   "metadata": {},
   "source": [
    "Plotting"
   ]
  },
  {
   "cell_type": "code",
   "execution_count": 33,
   "metadata": {},
   "outputs": [
    {
     "data": {
      "image/png": "[encoded data removed]",
      "text/plain": [
       "<Figure size 432x288 with 1 Axes>"
      ]
     },
     "metadata": {
      "needs_background": "light"
     },
     "output_type": "display_data"
    }
   ],
   "source": [
    "plt.scatter(pca_data[:,0],pca_data[:,2])\n",
    "plt.title(\"Graph for Car data\")\n",
    "plt.show()"
   ]
  }
 ],
 "metadata": {
  "kernelspec": {
   "display_name": "Python 3 (ipykernel)",
   "language": "python",
   "name": "python3"
  },
  "language_info": {
   "codemirror_mode": {
    "name": "ipython",
    "version": 3
   },
   "file_extension": ".py",
   "mimetype": "text/x-python",
   "name": "python",
   "nbconvert_exporter": "python",
   "pygments_lexer": "ipython3",
   "version": "3.9.12"
  }
 },
 "nbformat": 4,
 "nbformat_minor": 2
}
