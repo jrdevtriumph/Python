{
 "cells": [
  {
   "cell_type": "markdown",
   "metadata": {},
   "source": [
    "Logistic Regression will be used for Classification/prediction<br>\n",
    "We need to use Categorical Data<br>\n",
    "3 Types of Logistic Regression are there-Binomial,Multinomial and Ordinal<br>\n",
    "Binomial-True or False ,0 or 1<br>\n",
    "Multinomial- Multiple Categories-cat,dog,sheep<br>\n",
    "Ordinal-  Independent and Dependent Variable High,Low ,Medium"
   ]
  },
  {
   "cell_type": "markdown",
   "metadata": {},
   "source": [
    "Implementing Binomial Logistic Regression<br>\n",
    "To read CSV file"
   ]
  },
  {
   "cell_type": "code",
   "execution_count": 10,
   "metadata": {},
   "outputs": [],
   "source": [
    "import pandas as pd\n",
    "# For importing algorithm\n",
    "from sklearn.linear_model import LogisticRegression\n",
    "# For splitting between training and testing\n",
    "from sklearn.model_selection import train_test_split\n",
    "# Importing accuracy score and mean_squared_error\n",
    "from sklearn.metrics import mean_squared_error, accuracy_score,mean_absolute_error\n",
    "# For plotting\n",
    "import matplotlib.pyplot as plt\n",
    "# For dimension reduction\n",
    "from sklearn.decomposition import PCA"
   ]
  },
  {
   "cell_type": "markdown",
   "metadata": {},
   "source": [
    "Reading csv file<br>\n",
    "Data Gathering<br>\n",
    "When we have a lot of data(Bigger dataset) processing takes time<br>\n",
    "If we run the data in loop for 4 times it will take a lot of time to load<br>\n",
    "We can use nrows(Parameter for number of rows) to select required number of rows as the dataset is very big"
   ]
  },
  {
   "cell_type": "code",
   "execution_count": 11,
   "metadata": {},
   "outputs": [
    {
     "name": "stdout",
     "output_type": "stream",
     "text": [
      "Dataset is:\n",
      "          Time        V1        V2        V3        V4        V5        V6  \\\n",
      "0           0 -1.359807 -0.072781  2.536347  1.378155 -0.338321  0.462388   \n",
      "1           0  1.191857  0.266151  0.166480  0.448154  0.060018 -0.082361   \n",
      "2           1 -1.358354 -1.340163  1.773209  0.379780 -0.503198  1.800499   \n",
      "3           1 -0.966272 -0.185226  1.792993 -0.863291 -0.010309  1.247203   \n",
      "4           2 -1.158233  0.877737  1.548718  0.403034 -0.407193  0.095921   \n",
      "...       ...       ...       ...       ...       ...       ...       ...   \n",
      "149995  92345  1.724254  0.054124  0.625215  4.308400 -0.532295  0.540379   \n",
      "149996  92346 -3.538487  2.921360 -1.298732 -1.035773 -0.030572 -0.441956   \n",
      "149997  92347 -0.019481  1.224302 -0.132075 -0.678606  1.768679 -0.283992   \n",
      "149998  92348 -0.511063  1.277683 -0.174698 -0.101018  0.970555 -1.040956   \n",
      "149999  92348  2.197093 -0.429996 -1.439194 -0.307975 -0.020266 -0.715370   \n",
      "\n",
      "              V7        V8        V9  ...       V21       V22       V23  \\\n",
      "0       0.239599  0.098698  0.363787  ... -0.018307  0.277838 -0.110474   \n",
      "1      -0.078803  0.085102 -0.255425  ... -0.225775 -0.638672  0.101288   \n",
      "2       0.791461  0.247676 -1.514654  ...  0.247998  0.771679  0.909412   \n",
      "3       0.237609  0.377436 -1.387024  ... -0.108300  0.005274 -0.190321   \n",
      "4       0.592941 -0.270533  0.817739  ... -0.009431  0.798278 -0.137458   \n",
      "...          ...       ...       ...  ...       ...       ...       ...   \n",
      "149995 -0.688445  0.156967  1.476695  ... -0.367098 -0.771443  0.364177   \n",
      "149996  0.631323  0.445681  2.495754  ... -0.703023 -0.851606 -0.214636   \n",
      "149997  1.579740 -0.978318  1.874612  ... -0.036681  1.134522 -0.311552   \n",
      "149998  1.563977 -1.449619  0.595721  ...  0.836970  0.470593 -0.314103   \n",
      "149999 -0.165705 -0.432532  0.585860  ... -0.683676 -1.145510  0.310466   \n",
      "\n",
      "             V24       V25       V26       V27       V28  Amount  Class  \n",
      "0       0.066928  0.128539 -0.189115  0.133558 -0.021053  149.62      0  \n",
      "1      -0.339846  0.167170  0.125895 -0.008983  0.014724    2.69      0  \n",
      "2      -0.689281 -0.327642 -0.139097 -0.055353 -0.059752  378.66      0  \n",
      "3      -1.175575  0.647376 -0.221929  0.062723  0.061458  123.50      0  \n",
      "4       0.141267 -0.206010  0.502292  0.219422  0.215153   69.99      0  \n",
      "...          ...       ...       ...       ...       ...     ...    ...  \n",
      "149995 -0.100579 -0.547578 -0.348022 -0.011480 -0.023193   62.91      0  \n",
      "149996 -1.054619  0.305106  0.132541 -1.261532 -1.029257   37.91      0  \n",
      "149997  0.051861 -0.616234 -0.329780  0.220292 -0.232384    3.98      0  \n",
      "149998  0.066781  0.363133 -0.073593  0.183600  0.121156   74.77      0  \n",
      "149999  0.518359 -0.180141  0.415691 -0.099064 -0.062928   16.94      0  \n",
      "\n",
      "[150000 rows x 31 columns]\n",
      "\n",
      "Columns of dataset are:\n",
      " Index(['Time', 'V1', 'V2', 'V3', 'V4', 'V5', 'V6', 'V7', 'V8', 'V9', 'V10',\n",
      "       'V11', 'V12', 'V13', 'V14', 'V15', 'V16', 'V17', 'V18', 'V19', 'V20',\n",
      "       'V21', 'V22', 'V23', 'V24', 'V25', 'V26', 'V27', 'V28', 'Amount',\n",
      "       'Class'],\n",
      "      dtype='object')\n",
      "\n",
      "Information of dataset is::\n",
      " <bound method DataFrame.info of          Time        V1        V2        V3        V4        V5        V6  \\\n",
      "0           0 -1.359807 -0.072781  2.536347  1.378155 -0.338321  0.462388   \n",
      "1           0  1.191857  0.266151  0.166480  0.448154  0.060018 -0.082361   \n",
      "2           1 -1.358354 -1.340163  1.773209  0.379780 -0.503198  1.800499   \n",
      "3           1 -0.966272 -0.185226  1.792993 -0.863291 -0.010309  1.247203   \n",
      "4           2 -1.158233  0.877737  1.548718  0.403034 -0.407193  0.095921   \n",
      "...       ...       ...       ...       ...       ...       ...       ...   \n",
      "149995  92345  1.724254  0.054124  0.625215  4.308400 -0.532295  0.540379   \n",
      "149996  92346 -3.538487  2.921360 -1.298732 -1.035773 -0.030572 -0.441956   \n",
      "149997  92347 -0.019481  1.224302 -0.132075 -0.678606  1.768679 -0.283992   \n",
      "149998  92348 -0.511063  1.277683 -0.174698 -0.101018  0.970555 -1.040956   \n",
      "149999  92348  2.197093 -0.429996 -1.439194 -0.307975 -0.020266 -0.715370   \n",
      "\n",
      "              V7        V8        V9  ...       V21       V22       V23  \\\n",
      "0       0.239599  0.098698  0.363787  ... -0.018307  0.277838 -0.110474   \n",
      "1      -0.078803  0.085102 -0.255425  ... -0.225775 -0.638672  0.101288   \n",
      "2       0.791461  0.247676 -1.514654  ...  0.247998  0.771679  0.909412   \n",
      "3       0.237609  0.377436 -1.387024  ... -0.108300  0.005274 -0.190321   \n",
      "4       0.592941 -0.270533  0.817739  ... -0.009431  0.798278 -0.137458   \n",
      "...          ...       ...       ...  ...       ...       ...       ...   \n",
      "149995 -0.688445  0.156967  1.476695  ... -0.367098 -0.771443  0.364177   \n",
      "149996  0.631323  0.445681  2.495754  ... -0.703023 -0.851606 -0.214636   \n",
      "149997  1.579740 -0.978318  1.874612  ... -0.036681  1.134522 -0.311552   \n",
      "149998  1.563977 -1.449619  0.595721  ...  0.836970  0.470593 -0.314103   \n",
      "149999 -0.165705 -0.432532  0.585860  ... -0.683676 -1.145510  0.310466   \n",
      "\n",
      "             V24       V25       V26       V27       V28  Amount  Class  \n",
      "0       0.066928  0.128539 -0.189115  0.133558 -0.021053  149.62      0  \n",
      "1      -0.339846  0.167170  0.125895 -0.008983  0.014724    2.69      0  \n",
      "2      -0.689281 -0.327642 -0.139097 -0.055353 -0.059752  378.66      0  \n",
      "3      -1.175575  0.647376 -0.221929  0.062723  0.061458  123.50      0  \n",
      "4       0.141267 -0.206010  0.502292  0.219422  0.215153   69.99      0  \n",
      "...          ...       ...       ...       ...       ...     ...    ...  \n",
      "149995 -0.100579 -0.547578 -0.348022 -0.011480 -0.023193   62.91      0  \n",
      "149996 -1.054619  0.305106  0.132541 -1.261532 -1.029257   37.91      0  \n",
      "149997  0.051861 -0.616234 -0.329780  0.220292 -0.232384    3.98      0  \n",
      "149998  0.066781  0.363133 -0.073593  0.183600  0.121156   74.77      0  \n",
      "149999  0.518359 -0.180141  0.415691 -0.099064 -0.062928   16.94      0  \n",
      "\n",
      "[150000 rows x 31 columns]>\n"
     ]
    }
   ],
   "source": [
    "data=pd.read_csv(\"creditcard.csv\",nrows=150000)\n",
    "print(\"Dataset is:\\n\",data)\n",
    "print(\"\\nColumns of dataset are:\\n\",data.columns)\n",
    "print(\"\\nInformation of dataset is::\\n\",data.info)"
   ]
  },
  {
   "cell_type": "markdown",
   "metadata": {},
   "source": [
    "Handling missing data<br>\n",
    "We have to drop the data<br>\n",
    "If we have smaller dataset ,we take mean of that column and update missing value with that<br>\n",
    "Using this we can avoid outliers"
   ]
  },
  {
   "cell_type": "markdown",
   "metadata": {},
   "source": [
    "Separating as input and output"
   ]
  },
  {
   "cell_type": "code",
   "execution_count": 12,
   "metadata": {},
   "outputs": [
    {
     "name": "stdout",
     "output_type": "stream",
     "text": [
      "Input is:\n",
      "          Time        V1        V2        V3        V4        V5        V6  \\\n",
      "0           0 -1.359807 -0.072781  2.536347  1.378155 -0.338321  0.462388   \n",
      "1           0  1.191857  0.266151  0.166480  0.448154  0.060018 -0.082361   \n",
      "2           1 -1.358354 -1.340163  1.773209  0.379780 -0.503198  1.800499   \n",
      "3           1 -0.966272 -0.185226  1.792993 -0.863291 -0.010309  1.247203   \n",
      "4           2 -1.158233  0.877737  1.548718  0.403034 -0.407193  0.095921   \n",
      "...       ...       ...       ...       ...       ...       ...       ...   \n",
      "149995  92345  1.724254  0.054124  0.625215  4.308400 -0.532295  0.540379   \n",
      "149996  92346 -3.538487  2.921360 -1.298732 -1.035773 -0.030572 -0.441956   \n",
      "149997  92347 -0.019481  1.224302 -0.132075 -0.678606  1.768679 -0.283992   \n",
      "149998  92348 -0.511063  1.277683 -0.174698 -0.101018  0.970555 -1.040956   \n",
      "149999  92348  2.197093 -0.429996 -1.439194 -0.307975 -0.020266 -0.715370   \n",
      "\n",
      "              V7        V8        V9  ...       V20       V21       V22  \\\n",
      "0       0.239599  0.098698  0.363787  ...  0.251412 -0.018307  0.277838   \n",
      "1      -0.078803  0.085102 -0.255425  ... -0.069083 -0.225775 -0.638672   \n",
      "2       0.791461  0.247676 -1.514654  ...  0.524980  0.247998  0.771679   \n",
      "3       0.237609  0.377436 -1.387024  ... -0.208038 -0.108300  0.005274   \n",
      "4       0.592941 -0.270533  0.817739  ...  0.408542 -0.009431  0.798278   \n",
      "...          ...       ...       ...  ...       ...       ...       ...   \n",
      "149995 -0.688445  0.156967  1.476695  ... -0.280992 -0.367098 -0.771443   \n",
      "149996  0.631323  0.445681  2.495754  ...  0.510437 -0.703023 -0.851606   \n",
      "149997  1.579740 -0.978318  1.874612  ...  0.552350 -0.036681  1.134522   \n",
      "149998  1.563977 -1.449619  0.595721  ... -0.279702  0.836970  0.470593   \n",
      "149999 -0.165705 -0.432532  0.585860  ... -0.575688 -0.683676 -1.145510   \n",
      "\n",
      "             V23       V24       V25       V26       V27       V28  Amount  \n",
      "0      -0.110474  0.066928  0.128539 -0.189115  0.133558 -0.021053  149.62  \n",
      "1       0.101288 -0.339846  0.167170  0.125895 -0.008983  0.014724    2.69  \n",
      "2       0.909412 -0.689281 -0.327642 -0.139097 -0.055353 -0.059752  378.66  \n",
      "3      -0.190321 -1.175575  0.647376 -0.221929  0.062723  0.061458  123.50  \n",
      "4      -0.137458  0.141267 -0.206010  0.502292  0.219422  0.215153   69.99  \n",
      "...          ...       ...       ...       ...       ...       ...     ...  \n",
      "149995  0.364177 -0.100579 -0.547578 -0.348022 -0.011480 -0.023193   62.91  \n",
      "149996 -0.214636 -1.054619  0.305106  0.132541 -1.261532 -1.029257   37.91  \n",
      "149997 -0.311552  0.051861 -0.616234 -0.329780  0.220292 -0.232384    3.98  \n",
      "149998 -0.314103  0.066781  0.363133 -0.073593  0.183600  0.121156   74.77  \n",
      "149999  0.310466  0.518359 -0.180141  0.415691 -0.099064 -0.062928   16.94  \n",
      "\n",
      "[150000 rows x 30 columns] \n",
      "Output is:\n",
      " 0         0\n",
      "1         0\n",
      "2         0\n",
      "3         0\n",
      "4         0\n",
      "         ..\n",
      "149995    0\n",
      "149996    0\n",
      "149997    0\n",
      "149998    0\n",
      "149999    0\n",
      "Name: Class, Length: 150000, dtype: int64\n",
      "\n",
      "Shape of Input data is: (150000, 30) Shape of Output data is: (150000,)\n"
     ]
    }
   ],
   "source": [
    "X,Y=data.drop(['Class'],axis=1),data['Class']\n",
    "print(\"Input is:\\n\",X,\"\\nOutput is:\\n\",Y)\n",
    "print(\"\\nShape of Input data is:\",X.shape,\"Shape of Output data is:\",Y.shape)"
   ]
  },
  {
   "cell_type": "markdown",
   "metadata": {},
   "source": [
    "Splitting as training and testing data"
   ]
  },
  {
   "cell_type": "code",
   "execution_count": 13,
   "metadata": {},
   "outputs": [
    {
     "name": "stdout",
     "output_type": "stream",
     "text": [
      "Training data is:\n",
      "          Time        V1        V2        V3        V4        V5        V6  \\\n",
      "71789   54443  0.872816 -0.529905 -0.401325  0.062774 -0.263370 -0.791265   \n",
      "105324  69468  0.885606 -0.587944  1.384818  1.756505 -1.072110  0.763968   \n",
      "53136   45829  1.207089 -0.438641  0.762859  0.409962 -0.934716 -0.023117   \n",
      "55587   47021 -0.354134  0.609726  2.340085  0.755874 -0.537448 -0.101369   \n",
      "106335  69927 -2.161465  0.731561  1.142183  2.830884 -0.334402  1.466455   \n",
      "...       ...       ...       ...       ...       ...       ...       ...   \n",
      "130599  79389  1.258454  0.401051  0.319707  0.686937 -0.317124 -1.059343   \n",
      "68891   53181  1.292122 -0.026513 -0.330078 -0.174160  0.222915 -0.175406   \n",
      "48904   43830 -0.430779  1.507154  1.421488  2.218152  0.658670 -0.609666   \n",
      "123983  77139 -1.418896  1.720858  0.936665  0.069946 -0.744892 -0.836783   \n",
      "112292  72598 -0.365316  0.750502  1.062237  0.405442 -0.030072 -0.565215   \n",
      "\n",
      "              V7        V8        V9  ...       V20       V21       V22  \\\n",
      "71789   0.568015 -0.231804 -0.366470  ...  0.373655 -0.223474 -1.216153   \n",
      "105324 -0.748743  0.323017  1.385533  ...  0.010253  0.135865  0.672814   \n",
      "53136  -0.673854  0.040645 -1.120002  ... -0.379310 -0.181616 -0.109741   \n",
      "55587   0.057073  0.179485  0.349269  ... -0.075744  0.011582  0.185808   \n",
      "106335 -0.936644  1.365194 -0.659597  ...  0.136432  0.074086  0.241076   \n",
      "...          ...       ...       ...  ...       ...       ...       ...   \n",
      "130599  0.126531 -0.237910 -0.058793  ... -0.043919 -0.281197 -0.779987   \n",
      "68891   0.163500 -0.147915  0.246576  ... -0.013292 -0.097956 -0.087283   \n",
      "48904   1.167394 -0.202969 -1.827419  ...  0.016741  0.074719  0.175318   \n",
      "123983 -0.020827  0.849998 -0.712369  ...  0.009345 -0.102633 -0.357489   \n",
      "112292  1.080217 -0.085157 -1.081214  ...  0.220956 -0.177817 -0.746056   \n",
      "\n",
      "             V23       V24       V25       V26       V27       V28  Amount  \n",
      "71789  -0.091129  0.044278  0.137474  0.684374 -0.153661  0.023543  223.00  \n",
      "105324 -0.229946  0.137640  0.586234 -0.104056  0.090596  0.046712  106.12  \n",
      "53136  -0.082860 -0.008779  0.409202 -0.303407  0.061646  0.032892   50.00  \n",
      "55587  -0.126017  0.385458 -0.020438 -0.448775  0.095420  0.043894    9.99  \n",
      "106335 -0.542951 -1.300496  0.271828  0.536123  0.435592 -0.186638  110.26  \n",
      "...          ...       ...       ...       ...       ...       ...     ...  \n",
      "130599  0.122921  0.361848  0.236821  0.092476 -0.018958  0.031965    0.89  \n",
      "68891  -0.183433 -0.635656  0.603957  1.199307 -0.078455 -0.015368   19.70  \n",
      "48904  -0.307486  0.387904  0.259672  0.147453  0.058193  0.100072    3.41  \n",
      "123983  0.172795  0.607207 -0.211307  0.074429  0.153073  0.048219    9.72  \n",
      "112292  0.225299  0.308560 -0.553317  0.191834  0.046843  0.130709   84.95  \n",
      "\n",
      "[105000 rows x 30 columns] \n",
      "Testing data is:\n",
      " 121389    0\n",
      "24499     0\n",
      "125074    0\n",
      "110863    0\n",
      "64047     0\n",
      "         ..\n",
      "84893     0\n",
      "104340    0\n",
      "39653     0\n",
      "107521    0\n",
      "3628      0\n",
      "Name: Class, Length: 45000, dtype: int64\n",
      "Shape of Training data is: (105000, 30) shape of Testing Data is: (45000,)\n"
     ]
    }
   ],
   "source": [
    "x_train,x_test,y_train,y_test=train_test_split(X,Y,train_size=0.7)\n",
    "print(\"Training data is:\\n\",x_train,\"\\nTesting data is:\\n\",y_test)\n",
    "print(\"Shape of Training data is:\",x_train.shape,\"shape of Testing Data is:\",y_test.shape)"
   ]
  },
  {
   "cell_type": "markdown",
   "metadata": {},
   "source": [
    "Taking Algorithm<br>\n",
    "Since the dataset is very large it is showing maximum number of iterations reached<br>\n",
    "To avoid this we set max_iter parameter to our requirement"
   ]
  },
  {
   "cell_type": "code",
   "execution_count": 14,
   "metadata": {},
   "outputs": [
    {
     "data": {
      "text/plain": [
       "LogisticRegression(max_iter=150000)"
      ]
     },
     "execution_count": 14,
     "metadata": {},
     "output_type": "execute_result"
    }
   ],
   "source": [
    "log_reg=LogisticRegression(max_iter=150000)\n",
    "# Training Algorithm\n",
    "log_reg.fit(x_train,y_train)"
   ]
  },
  {
   "cell_type": "markdown",
   "metadata": {},
   "source": [
    "Evaluating model"
   ]
  },
  {
   "cell_type": "code",
   "execution_count": 15,
   "metadata": {},
   "outputs": [
    {
     "name": "stdout",
     "output_type": "stream",
     "text": [
      "Predicted Values are:\n",
      " [0 0 0 ... 0 0 0]\n",
      "\n",
      "Length of Predicted values is: 45000\n",
      "\n",
      "Training Accuracy score is: 99.88\n",
      "\n",
      "Testing Accuracy score is: 99.88222222222221\n"
     ]
    }
   ],
   "source": [
    "pred=log_reg.predict(x_test)\n",
    "print(\"Predicted Values are:\\n\",pred)\n",
    "print(\"\\nLength of Predicted values is:\",len(pred))\n",
    "print(\"\\nTraining Accuracy score is:\",log_reg.score(x_train,y_train)*100)\n",
    "# Very good accuracy and also not overfitted\n",
    "print(\"\\nTesting Accuracy score is:\",accuracy_score(y_test,pred)*100)"
   ]
  },
  {
   "cell_type": "markdown",
   "metadata": {},
   "source": [
    "Seeing the count of 0 and 1<br>\n",
    "We do not need to focus on this"
   ]
  },
  {
   "cell_type": "code",
   "execution_count": 16,
   "metadata": {},
   "outputs": [
    {
     "name": "stdout",
     "output_type": "stream",
     "text": [
      "Count of 0 or not fraud cases in dataset is: 149707\n",
      "Count of 1 or fraud cases in dataset is: 293\n"
     ]
    }
   ],
   "source": [
    "print(\"Count of 0 or not fraud cases in dataset is:\",list(Y).count(0))\n",
    "# This is our main focus\n",
    "print(\"Count of 1 or fraud cases in dataset is:\",list(Y).count(1))"
   ]
  },
  {
   "cell_type": "markdown",
   "metadata": {},
   "source": [
    "We have many parameters to decide fraud data<br>\n",
    "More Information about dataset"
   ]
  },
  {
   "cell_type": "markdown",
   "metadata": {},
   "source": [
    "Doing PCA for dimension reduction"
   ]
  },
  {
   "cell_type": "code",
   "execution_count": 17,
   "metadata": {},
   "outputs": [
    {
     "name": "stdout",
     "output_type": "stream",
     "text": [
      "Transformed Data is:\n",
      " [[-21953.73724372    -77.69441972]\n",
      " [ 20959.26515617    -73.95829183]\n",
      " [-23303.65149249    253.52247334]\n",
      " ...\n",
      " [ 14307.26326619    -80.45367468]\n",
      " [-16254.73773411    -80.30874721]\n",
      " [ 51118.38589513    388.22524809]]\n",
      "\n",
      "Shape of Transformed data is: (45000, 2)\n"
     ]
    }
   ],
   "source": [
    "pca=PCA(2)\n",
    "x=pca.fit(x_test).transform(x_test)\n",
    "print(\"Transformed Data is:\\n\",x)\n",
    "print(\"\\nShape of Transformed data is:\",x.shape)"
   ]
  },
  {
   "cell_type": "markdown",
   "metadata": {},
   "source": [
    "Plotting dataset"
   ]
  },
  {
   "cell_type": "code",
   "execution_count": 18,
   "metadata": {},
   "outputs": [
    {
     "data": {
      "image/png": "[encoded data removed]",
      "text/plain": [
       "<Figure size 432x288 with 1 Axes>"
      ]
     },
     "metadata": {
      "needs_background": "light"
     },
     "output_type": "display_data"
    }
   ],
   "source": [
    "plt.scatter(x[:,0],x[:,1],c=pred)\n",
    "plt.legend(['Not Fraud'])\n",
    "plt.xlabel(\"Input columns\")\n",
    "plt.ylabel(\"Output\")\n",
    "plt.title(\"Logistic Regression plot\")\n",
    "plt.show()"
   ]
  }
 ],
 "metadata": {
  "kernelspec": {
   "display_name": "Python 3 (ipykernel)",
   "language": "python",
   "name": "python3"
  },
  "language_info": {
   "codemirror_mode": {
    "name": "ipython",
    "version": 3
   },
   "file_extension": ".py",
   "mimetype": "text/x-python",
   "name": "python",
   "nbconvert_exporter": "python",
   "pygments_lexer": "ipython3",
   "version": "3.9.12"
  }
 },
 "nbformat": 4,
 "nbformat_minor": 2
}
