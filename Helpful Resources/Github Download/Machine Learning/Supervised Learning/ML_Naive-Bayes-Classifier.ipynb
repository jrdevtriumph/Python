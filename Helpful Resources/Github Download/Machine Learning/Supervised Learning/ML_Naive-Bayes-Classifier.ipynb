{
 "cells": [
  {
   "cell_type": "markdown",
   "metadata": {},
   "source": [
    "Naive-Bayes Classifier-Supervised Learning Algorithm<br>\n",
    "Mainly used for text classification<br>\n",
    "Based on Bayes Theorem<br>\n",
    "Seeing Accuracy of model for various datasets"
   ]
  },
  {
   "cell_type": "markdown",
   "metadata": {},
   "source": [
    "To read csv file"
   ]
  },
  {
   "cell_type": "code",
   "execution_count": 113,
   "metadata": {},
   "outputs": [],
   "source": [
    "import pandas as pd\n",
    "# For splitting between training and testing\n",
    "from sklearn.model_selection import train_test_split\n",
    "# Importing Algorithm\n",
    "from sklearn.naive_bayes import GaussianNB\n",
    "# For checking/Evaluating accuracy of model and printing the confusion matrix\n",
    "from sklearn.metrics import accuracy_score,confusion_matrix\n",
    "# For Plotting\n",
    "import matplotlib.pyplot as plt\n",
    "# For dimension reduction\n",
    "from sklearn.decomposition import PCA\n",
    "# For converting string to int\n",
    "from sklearn.preprocessing import LabelEncoder"
   ]
  },
  {
   "cell_type": "markdown",
   "metadata": {},
   "source": [
    "Data Gathering<br>\n",
    "Glucose and blood pressure as input and diabetes as output<br>\n",
    "Model will predict if person is diabetic or not"
   ]
  },
  {
   "cell_type": "code",
   "execution_count": 114,
   "metadata": {},
   "outputs": [
    {
     "name": "stdout",
     "output_type": "stream",
     "text": [
      "Data is:\n",
      "      glucose  bloodpressure  diabetes\n",
      "0         40             85         0\n",
      "1         40             92         0\n",
      "2         45             63         1\n",
      "3         45             80         0\n",
      "4         40             73         1\n",
      "..       ...            ...       ...\n",
      "990       45             87         0\n",
      "991       40             83         0\n",
      "992       40             83         0\n",
      "993       40             60         1\n",
      "994       45             82         0\n",
      "\n",
      "[995 rows x 3 columns]\n",
      "Information about Dataframe is:\n",
      " <bound method DataFrame.info of      glucose  bloodpressure  diabetes\n",
      "0         40             85         0\n",
      "1         40             92         0\n",
      "2         45             63         1\n",
      "3         45             80         0\n",
      "4         40             73         1\n",
      "..       ...            ...       ...\n",
      "990       45             87         0\n",
      "991       40             83         0\n",
      "992       40             83         0\n",
      "993       40             60         1\n",
      "994       45             82         0\n",
      "\n",
      "[995 rows x 3 columns]>\n"
     ]
    }
   ],
   "source": [
    "data=pd.read_csv(\"Naive-Bayes-Classification-Data.csv\")\n",
    "print(\"Data is:\\n\",data)\n",
    "print(\"Information about Dataframe is:\\n\",data.info)"
   ]
  },
  {
   "cell_type": "markdown",
   "metadata": {},
   "source": [
    "Data Preprocessing is not required as data is already cleaned<br>\n",
    "Splitting between Input(X) and Output(Y)"
   ]
  },
  {
   "cell_type": "code",
   "execution_count": 115,
   "metadata": {},
   "outputs": [
    {
     "name": "stdout",
     "output_type": "stream",
     "text": [
      "Input is:\n",
      "      glucose  bloodpressure\n",
      "0         40             85\n",
      "1         40             92\n",
      "2         45             63\n",
      "3         45             80\n",
      "4         40             73\n",
      "..       ...            ...\n",
      "990       45             87\n",
      "991       40             83\n",
      "992       40             83\n",
      "993       40             60\n",
      "994       45             82\n",
      "\n",
      "[995 rows x 2 columns] \n",
      " Output is:\n",
      " 0      0\n",
      "1      0\n",
      "2      1\n",
      "3      0\n",
      "4      1\n",
      "      ..\n",
      "990    0\n",
      "991    0\n",
      "992    0\n",
      "993    1\n",
      "994    0\n",
      "Name: diabetes, Length: 995, dtype: int64\n",
      "Shape of x_train(training data) for dataset is: (796, 2) Shape of y_train(testing data) for dataset is: (796,)\n"
     ]
    }
   ],
   "source": [
    "X,Y=data.drop(\"diabetes\",axis=1),data['diabetes']\n",
    "print(\"Input is:\\n\",X,\"\\n\",\"Output is:\\n\",Y)\n",
    "# Splitting data into training and testing\n",
    "x_train,x_test,y_train,y_test=train_test_split(X,Y,train_size=0.8)\n",
    "print(\"Shape of x_train(training data) for dataset is:\",x_train.shape,\"Shape of y_train(testing data) for dataset is:\",y_train.shape)"
   ]
  },
  {
   "cell_type": "markdown",
   "metadata": {},
   "source": [
    "Choosing algorithm"
   ]
  },
  {
   "cell_type": "code",
   "execution_count": 116,
   "metadata": {},
   "outputs": [
    {
     "data": {
      "text/plain": [
       "GaussianNB()"
      ]
     },
     "execution_count": 116,
     "metadata": {},
     "output_type": "execute_result"
    }
   ],
   "source": [
    "nb=GaussianNB()\n",
    "# Training the model\n",
    "nb.fit(x_train,y_train)"
   ]
  },
  {
   "cell_type": "markdown",
   "metadata": {},
   "source": [
    "Evaluating/Testing the model"
   ]
  },
  {
   "cell_type": "code",
   "execution_count": 117,
   "metadata": {},
   "outputs": [
    {
     "name": "stdout",
     "output_type": "stream",
     "text": [
      "Training Accuracy is: 93.34170854271356\n",
      "Predicted Data is:\n",
      " [1 1 0 0 0 0 0 0 1 0 0 0 1 0 0 1 0 1 1 0 1 1 0 1 0 0 1 1 1 0 0 1 0 1 0 1 1\n",
      " 0 1 1 1 0 0 0 1 1 1 0 0 1 0 1 1 1 1 0 1 1 1 1 0 0 0 0 0 0 1 1 0 1 1 0 0 1\n",
      " 0 1 1 1 0 0 1 1 1 0 1 0 0 0 0 1 0 0 0 1 0 1 1 1 1 0 1 1 0 1 0 0 0 1 1 1 0\n",
      " 0 0 1 1 0 1 0 0 0 1 0 1 1 0 0 0 1 1 0 1 1 0 1 1 1 0 0 1 1 0 1 0 0 0 0 0 0\n",
      " 0 1 1 1 1 1 1 1 0 1 0 1 1 0 1 1 0 1 1 1 0 0 1 1 1 0 1 1 1 0 0 0 1 0 0 1 1\n",
      " 0 0 0 0 1 1 1 0 1 1 1 0 1 1]\n",
      "Testing Accuracy is: 93.46733668341709\n",
      "Confusion Matrix is:\n",
      " [[ 85   3]\n",
      " [ 10 101]]\n"
     ]
    }
   ],
   "source": [
    "print(\"Training Accuracy is:\",nb.score(x_train,y_train)*100)\n",
    "predicted_data=nb.predict(x_test)\n",
    "print(\"Predicted Data is:\\n\",predicted_data)\n",
    "print(\"Testing Accuracy is:\",accuracy_score(y_test,predicted_data)*100)\n",
    "# Printing Confusion Matrix\n",
    "print(\"Confusion Matrix is:\\n\",confusion_matrix(y_test,predicted_data))"
   ]
  },
  {
   "cell_type": "markdown",
   "metadata": {},
   "source": [
    "Plotting according to diabetic or not"
   ]
  },
  {
   "cell_type": "code",
   "execution_count": 118,
   "metadata": {},
   "outputs": [
    {
     "data": {
      "image/png": "[encoded data removed]",
      "text/plain": [
       "<Figure size 432x288 with 1 Axes>"
      ]
     },
     "metadata": {
      "needs_background": "light"
     },
     "output_type": "display_data"
    }
   ],
   "source": [
    "jittered_glucose = X[\"glucose\"] + np.random.normal(0, 0.5, len(X))\n",
    "jittered_bloodpressure = X[\"bloodpressure\"] + np.random.normal(0, 0.5, len(X))\n",
    "# Increase point size to make them more visible\n",
    "point_size = 20  # Adjust the size as needed\n",
    "# Define a mapping for colors based on labels (1 for diabetic, 0 for not diabetic)\n",
    "color_map = {1: 'yellow', 0: 'purple'}\n",
    "# Create a list of colors corresponding to each data point\n",
    "colors = [color_map[label] for label in Y]\n",
    "# Plotting Scatter Plot\n",
    "plt.scatter(jittered_glucose,jittered_bloodpressure,c=Y,alpha=0.8,s=point_size)\n",
    "# Labeling x and y axis\n",
    "plt.xlabel(\"Glucose\")\n",
    "plt.ylabel(\"Blood Pressure\")\n",
    "# Making handles for showing legend for diabetic and not diabetic\n",
    "handles = [plt.Line2D([0], [0], marker='o', color='w', markerfacecolor=color, markersize=10, label=(\"Diabetic\" if label == 1 else \"Not Diabetic\")) for label, color in color_map.items()]\n",
    "# Giving Legend\n",
    "plt.legend(handles=handles, title='Diabetic')\n",
    "# Giving title to plot\n",
    "plt.title(\"Graph showing a patient is diabetic or not\")\n",
    "plt.show()"
   ]
  },
  {
   "cell_type": "markdown",
   "metadata": {},
   "source": [
    "For Another dataset<br>\n",
    "To predict if income is greater than 50K based on several parameters<br>\n",
    "Importing CSV"
   ]
  },
  {
   "cell_type": "code",
   "execution_count": 119,
   "metadata": {},
   "outputs": [
    {
     "name": "stdout",
     "output_type": "stream",
     "text": [
      "Dataframe is:\n",
      "Columns in dataframe are: Index(['39', ' State-gov', ' 77516', ' Bachelors', ' 13', ' Never-married',\n",
      "       ' Adm-clerical', ' Not-in-family', ' White', ' Male', ' 2174', ' 0',\n",
      "       ' 40', ' United-States', ' <=50K'],\n",
      "      dtype='object')\n"
     ]
    }
   ],
   "source": [
    "data= pd.read_csv(\"adult.csv\")\n",
    "print(\"Dataframe is:\")\n",
    "print(\"Columns in dataframe are:\",data.columns)"
   ]
  },
  {
   "cell_type": "markdown",
   "metadata": {},
   "source": [
    "Error as column cannot be converted to int/float<br>\n",
    "X,Y=data.drop([' State-gov',' Bachelors',' Never-married', ' Adm-clerical',' Not-in-family',' White', ' Male',' United-States'],axis=1),data[' <=50K'].astype(float,errors='raise')<br>\n",
    "print(\"Input is:\\n\",X,\"\\n\",\"Output is:\\n\",Y)<br>\n",
    "data=pd.read_csv(\"adult.csv\", usecols=['39', ' 77516', ' 13', ' 2174', ' 0',' 40', ' <=50K']) we can use this as well if we do not want to convert"
   ]
  },
  {
   "cell_type": "markdown",
   "metadata": {},
   "source": [
    "Converting to int to use in model"
   ]
  },
  {
   "cell_type": "code",
   "execution_count": 120,
   "metadata": {},
   "outputs": [
    {
     "name": "stdout",
     "output_type": "stream",
     "text": [
      "{' State-gov', ' Private', ' Without-pay', ' Self-emp-not-inc', ' Self-emp-inc', ' ?', ' Never-worked', ' Local-gov', ' Federal-gov'}\n",
      "Data after converting is: \n",
      " {0, 1, 2, 3, 4, 5, 6, 7, 8}\n",
      "Demonstration of le.fit is:\n",
      "\n",
      "[' ?' ' Federal-gov' ' Local-gov' ' Never-worked' ' Private'\n",
      " ' Self-emp-inc' ' Self-emp-not-inc' ' State-gov' ' Without-pay']\n"
     ]
    }
   ],
   "source": [
    "print(set(data[' State-gov']))\n",
    "le= LabelEncoder()\n",
    "print(\"Data after converting is: \\n\",set(le.fit(data[' State-gov']).transform(data[' State-gov'])))\n",
    "print(\"Demonstration of le.fit is:\\n\")\n",
    "print(le.classes_)"
   ]
  },
  {
   "cell_type": "markdown",
   "metadata": {},
   "source": [
    "Function to convert string values to numeric values"
   ]
  },
  {
   "cell_type": "code",
   "execution_count": 121,
   "metadata": {},
   "outputs": [
    {
     "name": "stdout",
     "output_type": "stream",
     "text": [
      "       39   State-gov   77516   Bachelors   13   Never-married   Adm-clerical  \\\n",
      "0      33           6    2925           9   12               2              4   \n",
      "1      21           4   14085          11    8               0              6   \n",
      "2      36           4   15335           1    6               2              6   \n",
      "3      11           4   19354           9   12               2             10   \n",
      "4      20           4   17699          12   13               2              4   \n",
      "...    ..         ...     ...         ...  ...             ...            ...   \n",
      "32555  10           4   16527           7   11               2             13   \n",
      "32556  23           4    8079          11    8               2              7   \n",
      "32557  41           4    7882          11    8               6              1   \n",
      "32558   5           4   12880          11    8               4              1   \n",
      "32559  35           5   17824          11    8               2              4   \n",
      "\n",
      "        Not-in-family   White   Male   2174   0   40   United-States   <=50K  \n",
      "0                   0       4      1      0   0   12              39       0  \n",
      "1                   1       4      1      0   0   39              39       0  \n",
      "2                   0       2      1      0   0   39              39       0  \n",
      "3                   5       2      0      0   0   39               5       0  \n",
      "4                   5       4      0      0   0   39              39       0  \n",
      "...               ...     ...    ...    ...  ..  ...             ...     ...  \n",
      "32555               5       4      0      0   0   37              39       0  \n",
      "32556               0       4      1      0   0   39              39       1  \n",
      "32557               4       4      0      0   0   39              39       0  \n",
      "32558               3       4      1      0   0   19              39       0  \n",
      "32559               5       4      0    108   0   39              39       1  \n",
      "\n",
      "[32560 rows x 15 columns]\n"
     ]
    }
   ],
   "source": [
    "func = lambda i:le.fit(data[i]).transform(data[i])\n",
    "for i in data.columns:\n",
    "    data[i]=func(i)\n",
    "print(data)"
   ]
  },
  {
   "cell_type": "markdown",
   "metadata": {},
   "source": [
    "Separating Input and Output"
   ]
  },
  {
   "cell_type": "code",
   "execution_count": 122,
   "metadata": {},
   "outputs": [],
   "source": [
    "X,Y=data.drop(' <=50K',axis=1),data[' <=50K']\n",
    "# Splitting data into training and testing\n",
    "x_train,x_test,y_train,y_test=train_test_split(X,Y,train_size=0.8)"
   ]
  },
  {
   "cell_type": "markdown",
   "metadata": {},
   "source": [
    "Choosing algorithm"
   ]
  },
  {
   "cell_type": "code",
   "execution_count": 123,
   "metadata": {},
   "outputs": [
    {
     "data": {
      "text/plain": [
       "GaussianNB()"
      ]
     },
     "execution_count": 123,
     "metadata": {},
     "output_type": "execute_result"
    }
   ],
   "source": [
    "nb=GaussianNB()\n",
    "# Training the model\n",
    "nb.fit(x_train,y_train)"
   ]
  },
  {
   "cell_type": "markdown",
   "metadata": {},
   "source": [
    "Evaluate/Test the model"
   ]
  },
  {
   "cell_type": "code",
   "execution_count": 124,
   "metadata": {},
   "outputs": [
    {
     "name": "stdout",
     "output_type": "stream",
     "text": [
      "Training Accuracy is: 81.99477886977887\n",
      "Predicted Data is:\n",
      " [0 0 0 ... 0 0 0]\n",
      "Testing Accuracy is: 81.58783783783784\n",
      "Confusion Matrix is:\n",
      " [[4571  313]\n",
      " [ 886  742]]\n"
     ]
    }
   ],
   "source": [
    "print(\"Training Accuracy is:\",nb.score(x_train,y_train)*100)\n",
    "predicted_data=nb.predict(x_test)\n",
    "print(\"Predicted Data is:\\n\",predicted_data)\n",
    "print(\"Testing Accuracy is:\",accuracy_score(y_test,predicted_data)*100)\n",
    "print(\"Confusion Matrix is:\\n\",confusion_matrix(y_test,predicted_data))"
   ]
  },
  {
   "cell_type": "markdown",
   "metadata": {},
   "source": [
    "Plotting graph for complete dataset<br>\n",
    "PCA (Principle component analysis)<br>\n",
    "Dimension reduction of data<br>\n",
    "As we cannot plot with multiple dimensions<br>\n",
    "Dimensions will be reduced to 2"
   ]
  },
  {
   "cell_type": "code",
   "execution_count": 125,
   "metadata": {},
   "outputs": [
    {
     "name": "stdout",
     "output_type": "stream",
     "text": [
      "[[-7.57325415e+03 -7.38840726e+00]\n",
      " [ 3.58674676e+03 -6.32616888e+00]\n",
      " [ 4.83674430e+03 -4.72257670e+00]\n",
      " ...\n",
      " [-2.61625662e+03 -4.46236583e+00]\n",
      " [ 2.38175040e+03 -9.67412595e+00]\n",
      " [ 7.32574232e+03  1.02294747e+02]]\n",
      "(32560, 2)\n"
     ]
    }
   ],
   "source": [
    "x=PCA(n_components=2)\n",
    "pca_data=x.fit_transform(X)\n",
    "print(x.fit_transform(X))\n",
    "print(pca_data.shape)"
   ]
  },
  {
   "cell_type": "markdown",
   "metadata": {},
   "source": [
    "Plotting"
   ]
  },
  {
   "cell_type": "code",
   "execution_count": 126,
   "metadata": {},
   "outputs": [
    {
     "data": {
      "image/png": "[encoded data removed]",
      "text/plain": [
       "<Figure size 432x288 with 1 Axes>"
      ]
     },
     "metadata": {
      "needs_background": "light"
     },
     "output_type": "display_data"
    }
   ],
   "source": [
    "plt.scatter(pca_data[:,0],pca_data[:,1])\n",
    "plt.title(\"Graph for Census data\")\n",
    "plt.show()"
   ]
  }
 ],
 "metadata": {
  "kernelspec": {
   "display_name": "Python 3 (ipykernel)",
   "language": "python",
   "name": "python3"
  },
  "language_info": {
   "codemirror_mode": {
    "name": "ipython",
    "version": 3
   },
   "file_extension": ".py",
   "mimetype": "text/x-python",
   "name": "python",
   "nbconvert_exporter": "python",
   "pygments_lexer": "ipython3",
   "version": "3.9.12"
  }
 },
 "nbformat": 4,
 "nbformat_minor": 2
}
