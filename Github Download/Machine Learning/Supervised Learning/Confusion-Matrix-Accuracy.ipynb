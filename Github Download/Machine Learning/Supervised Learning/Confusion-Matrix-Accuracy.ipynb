{
 "cells": [
  {
   "cell_type": "markdown",
   "metadata": {},
   "source": [
    "Finding Accuracy from Confusion Matrix"
   ]
  },
  {
   "cell_type": "markdown",
   "metadata": {},
   "source": [
    "Importing Required Libraries"
   ]
  },
  {
   "cell_type": "code",
   "execution_count": 7,
   "metadata": {},
   "outputs": [],
   "source": [
    "import pandas as pd\n",
    "import numpy as np"
   ]
  },
  {
   "cell_type": "markdown",
   "metadata": {},
   "source": [
    "Confusion Matrix in Dataframe form"
   ]
  },
  {
   "cell_type": "code",
   "execution_count": 8,
   "metadata": {},
   "outputs": [
    {
     "name": "stdout",
     "output_type": "stream",
     "text": [
      "Confusion Matrix in Dataframe form is:\n",
      "\n",
      "            Predicted No  Predicted Yes\n",
      "Actual No            100             10\n",
      "Actual Yes             5             50\n"
     ]
    }
   ],
   "source": [
    "matrix = pd.DataFrame({\"Predicted No\":[100,5],\"Predicted Yes\":[10,50]},index=[\"Actual No\",\"Actual Yes\"])\n",
    "print(\"Confusion Matrix in Dataframe form is:\\n\")\n",
    "print(matrix)"
   ]
  },
  {
   "cell_type": "markdown",
   "metadata": {},
   "source": [
    "Converting to array form"
   ]
  },
  {
   "cell_type": "code",
   "execution_count": 9,
   "metadata": {},
   "outputs": [
    {
     "name": "stdout",
     "output_type": "stream",
     "text": [
      "Confusion Matrix in Array/Matrix form is:\n",
      "[[100  10]\n",
      " [  5  50]]\n"
     ]
    }
   ],
   "source": [
    "matrix=np.array([[100,10],[5,50]])\n",
    "print(\"Confusion Matrix in Array/Matrix form is:\")\n",
    "print(matrix)"
   ]
  },
  {
   "cell_type": "markdown",
   "metadata": {},
   "source": [
    "Calculating Accuracy"
   ]
  },
  {
   "cell_type": "code",
   "execution_count": 10,
   "metadata": {},
   "outputs": [
    {
     "name": "stdout",
     "output_type": "stream",
     "text": [
      "Accuracy of the given Confusion Matrix is: 90.9090909090909\n"
     ]
    }
   ],
   "source": [
    "accuracy=matrix.diagonal()/matrix.sum(axis=1)\n",
    "# Printing Accuracy\n",
    "print(\"Accuracy of the given Confusion Matrix is:\",accuracy[0]*100)"
   ]
  }
 ],
 "metadata": {
  "kernelspec": {
   "display_name": "Python 3 (ipykernel)",
   "language": "python",
   "name": "python3"
  },
  "language_info": {
   "codemirror_mode": {
    "name": "ipython",
    "version": 3
   },
   "file_extension": ".py",
   "mimetype": "text/x-python",
   "name": "python",
   "nbconvert_exporter": "python",
   "pygments_lexer": "ipython3",
   "version": "3.9.12"
  }
 },
 "nbformat": 4,
 "nbformat_minor": 2
}
