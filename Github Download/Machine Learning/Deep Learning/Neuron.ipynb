{
 "cells": [
  {
   "cell_type": "markdown",
   "metadata": {},
   "source": [
    "# Python program to implement a Single Neuron Neural Network\n",
    "<br>\n",
    "--> Neural networks are artificial systems that were inspired by biological neural networks.<br><br>\n",
    "--> These systems learn to perform tasks by being exposed to various datasets and examples without any task-specific rules<br><br>.\n",
    "--> The idea is that the system generates identifying characteristics from the data they have been passed without being programmed with a pre-programmed understanding of these datasets.<br><br>\n",
    "--> Neural networks are based on computational models for threshold logic.<br><br>\n",
    "--> Threshold logic is a combination of algorithms and mathematics.<br><br>\n",
    "--> Neural networks are based either on the study of the brain or on the application of neural networks to artificial intelligence.<br><br>\n",
    "--> The work has led to improvements in finite automata theory. Components of a typical neural network involve neurons, connections which are known as synapses, weights, biases, propagation function, and a learning rule. <br><br>\n",
    "--> Neural network can be trained on both supervised and unsupervised learning.<br><br>"
   ]
  },
  {
   "cell_type": "code",
   "execution_count": 1,
   "metadata": {},
   "outputs": [],
   "source": [
    "# Importing Necessary functions from Numpy Library\n",
    "# exp is for exponential\n",
    "# array is for making numpy array\n",
    "# random is to generate a collection of random numbers\n",
    "# The dot() function will return the dot product of a and b.\n",
    "# If both a and b are scalars or if both are 1-D arrays then a scalar value is returned, otherwise an array is returned.\n",
    "# Tanh, short for hyperbolic tangent, is one of several activation functions that can be used in neural networks.\n",
    "# It is a non-linear function that maps the input to an output in the range of -1 to +1.\n",
    "from numpy import exp, array, random, dot, tanh"
   ]
  },
  {
   "cell_type": "markdown",
   "metadata": {},
   "source": [
    "# Elements of a Neural Network <br>\n",
    "\n",
    "--> Input Layer: This layer accepts input features. It provides information from the outside world to the network, no computation is performed at this layer, nodes here just pass on the information(features) to the hidden layer. <br><br>\n",
    "\n",
    "--> Hidden Layer: Nodes of this layer are not exposed to the outer world, they are part of the abstraction provided by any neural network. The hidden layer performs all sorts of computation on the features entered through the input layer and transfers the result to the output layer. <br><br>\n",
    "\n",
    "--> Output Layer: This layer bring up the information learned by the network to the outer world. <br><br>"
   ]
  },
  {
   "cell_type": "markdown",
   "metadata": {},
   "source": [
    "## Class to create a Neural network with Single Neuron and training it using Supervised Learning"
   ]
  },
  {
   "cell_type": "code",
   "execution_count": 2,
   "metadata": {},
   "outputs": [],
   "source": [
    "# Creating Class for Neural Network\n",
    "class NeuralNetwork():\n",
    "    \n",
    "    # Initializing using constructor or init function\n",
    "    def __init__(self):\n",
    "        \n",
    "        # Using seed to make sure it will generate same weights in every run\n",
    "        random.seed(1)\n",
    "\n",
    "        # 3x1 Weight matrix generated using random\n",
    "        # It will create a 3 rows one column matrix\n",
    "        self.weight_matrix = 2 * random.random((3, 1)) - 1\n",
    "\n",
    "    # An activation function is a mathematical function that is applied to the output of a neural network node.\n",
    "    # The activation function decides whether a neuron should be activated or not by calculating the weighted sum and further adding bias to it. \n",
    "    # tanh as activation function\n",
    "    # Here tanh is used as activation function to activate the neural network\n",
    "    def tanh(self, x):\n",
    "        \n",
    "        # Returning value from tanh function\n",
    "        return tanh(x)\n",
    "   \n",
    "    # A gradient is just a way of quantifying the relationship between error and the weights of the neural network. The relationship between these two things can be graphed as a slope, with incorrect weights producing more error.\n",
    "    # The steepness of the slope/gradient represents how fast the model is learning.\n",
    "    # Derivative of tanh function.\n",
    "    # Needed to calculate the gradients.\n",
    "    def tanh_derivative(self, x):\n",
    "        \n",
    "        # Returning value from tanh_derivative function\n",
    "        return 1.0 - tanh(x) ** 2\n",
    "\n",
    "    # Forward propagation\n",
    "    # As the name suggests, the input data is fed in the forward direction through the network.\n",
    "    # Each hidden layer accepts the input data, processes it as per the activation function and passes to the successive layer.\n",
    "    def forward_propagation(self, inputs):\n",
    "        \n",
    "        # Returning value from forward propagation function\n",
    "        return self.tanh(dot(inputs, self.weight_matrix))\n",
    "\n",
    "    # Training the Neural Network.\n",
    "    # self is positional argument, train_inputs is the inputs given, train_outputs is the output received from the network and num_train_iterations is the number of iterations of the network\n",
    "    def train(self, train_inputs, train_outputs,\n",
    "              num_train_iterations):\n",
    "        \n",
    "        # Number of iterations we want to perform for this set of input.\n",
    "        for iteration in range(num_train_iterations):\n",
    "            \n",
    "            # Calling forward_propagation function for output\n",
    "            output = self.forward_propagation(train_inputs)\n",
    "\n",
    "            # Calculating the error in the output\n",
    "            error = train_outputs - output\n",
    "\n",
    "            # A neural network is able to generalize and model a problem in the real world (which is nothing more than a mathematical function)\n",
    "            # thanks to the constant adjustment of weights and bias, which modulate the output and the input of each single neuron\n",
    "            # until the network does not approach an acceptable solution.\n",
    "            # Multiplying the error by input and then by gradient of tanh function to calculate the adjustment needs to be made in weights\n",
    "            adjustment = dot(train_inputs.T, error *\n",
    "                             self.tanh_derivative(output))\n",
    "\n",
    "            # Adjusting the weight matrix\n",
    "            self.weight_matrix += adjustment"
   ]
  },
  {
   "cell_type": "markdown",
   "metadata": {},
   "source": [
    "# Driver Code of the program\n",
    "## The execution will begin from main function"
   ]
  },
  {
   "cell_type": "code",
   "execution_count": 3,
   "metadata": {},
   "outputs": [
    {
     "name": "stdout",
     "output_type": "stream",
     "text": [
      "Random weights at the Start of Training are: \n",
      "[[-0.16595599]\n",
      " [ 0.44064899]\n",
      " [-0.99977125]]\n",
      "\n",
      "New Weights after Traininga are: \n",
      "[[5.39428067]\n",
      " [0.19482422]\n",
      " [0.34317086]]\n",
      "\n",
      "Testing Neural Network on New Example is: \n",
      "[0.99995873]\n"
     ]
    }
   ],
   "source": [
    "# Main Function\n",
    "if __name__ == \"__main__\":\n",
    "    \n",
    "    # Creating object of Neural Network Class\n",
    "    neural_network = NeuralNetwork()\n",
    "    \n",
    "    # Before Training or the start of training\n",
    "    print('Random weights at the Start of Training are: ')\n",
    "    print(neural_network.weight_matrix)\n",
    "    \n",
    "    # Giving inputs to Neural Network\n",
    "    train_inputs = array([[0, 0, 1], [1, 1, 1], [1, 0, 1], [0, 1, 1]])\n",
    "    \n",
    "    # Desired or Training Output\n",
    "    train_outputs = array([[0, 1, 1, 0]]).T\n",
    "    \n",
    "    # Training Neural Network\n",
    "    neural_network.train(train_inputs, train_outputs, 10000)\n",
    "    \n",
    "    # Weights after training\n",
    "    print('\\nNew Weights after Traininga are: ')\n",
    "    print(neural_network.weight_matrix)\n",
    "\n",
    "    # Testing the Neural Network with a New Situation.\n",
    "    print(\"\\nTesting Neural Network on New Example is: \")\n",
    "    print(neural_network.forward_propagation(array([1, 0, 0])))"
   ]
  }
 ],
 "metadata": {
  "kernelspec": {
   "display_name": "Python 3 (ipykernel)",
   "language": "python",
   "name": "python3"
  },
  "language_info": {
   "codemirror_mode": {
    "name": "ipython",
    "version": 3
   },
   "file_extension": ".py",
   "mimetype": "text/x-python",
   "name": "python",
   "nbconvert_exporter": "python",
   "pygments_lexer": "ipython3",
   "version": "3.9.12"
  }
 },
 "nbformat": 4,
 "nbformat_minor": 2
}
