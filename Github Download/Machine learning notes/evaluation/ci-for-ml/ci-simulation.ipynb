{
 "cells": [
  {
   "cell_type": "markdown",
   "id": "59c0fbea-9eda-4477-be6c-32647cef1ec7",
   "metadata": {},
   "source": [
    "# CI Simulation (Supplementary Material)"
   ]
  },
  {
   "cell_type": "markdown",
   "id": "12618aaa-7980-4ed3-8cd8-cd7ce3d3809a",
   "metadata": {},
   "source": [
    "- This notebook supplements the [confidence-intervals-for-ml.ipynb](confidence-intervals-for-ml.ipynb) with a case study.\n",
    "\n",
    "- Here, we are interested in seeing whether the true model accuracy (generalization accuracy) is actually contained in the confidence intervals.\n",
    "\n",
    "- For this, we create a synthetic dataset consiting of 10 million and 2 thousand data points for classification as shown in the next section."
   ]
  },
  {
   "cell_type": "markdown",
   "id": "e8412450-153d-4788-89ed-0e5caa6e7b7b",
   "metadata": {},
   "source": [
    "## Large Synthetic Training and Test Sets"
   ]
  },
  {
   "cell_type": "code",
   "execution_count": 1,
   "id": "91d86525-404f-4c82-80b5-38eafc26955f",
   "metadata": {},
   "outputs": [],
   "source": [
    "from sklearn.datasets import make_classification\n",
    "\n",
    "X, y = make_classification(\n",
    "    n_samples=10_002_000,\n",
    "    n_features=5,\n",
    "    n_redundant=2,\n",
    "    n_classes=2,\n",
    "    n_clusters_per_class=1,\n",
    "    random_state=123,\n",
    "    flip_y=0.25,\n",
    ")"
   ]
  },
  {
   "cell_type": "code",
   "execution_count": 2,
   "id": "fd6fb5cc-24d1-47bd-8682-f4fd25f1eda4",
   "metadata": {},
   "outputs": [],
   "source": [
    "X_train = X[:1_000]\n",
    "y_train = y[:1_000]\n",
    "\n",
    "X_test = X[1_000:2_000]\n",
    "y_test = y[1_000:2_000]\n",
    "\n",
    "X_huge_test = X[2_000:]\n",
    "y_huge_test = y[2_000:]"
   ]
  },
  {
   "cell_type": "markdown",
   "id": "9c018df3-637b-41bd-b270-4935527fff94",
   "metadata": {},
   "source": [
    "- Note that the 1000 data points are used for training, the second 1000 data points are used for testing, and the remaining 10,000,000 data points represent the dataset we use to calculate the true performance of the model."
   ]
  },
  {
   "cell_type": "markdown",
   "id": "a391f1e1-d3ab-45fe-81ee-bf5a48600afd",
   "metadata": {},
   "source": [
    "## True Generalization Performance"
   ]
  },
  {
   "cell_type": "code",
   "execution_count": 3,
   "id": "7ce712bf-e9ba-4764-a3af-e03e1261939b",
   "metadata": {},
   "outputs": [
    {
     "data": {
      "text/plain": [
       "0.8472259"
      ]
     },
     "execution_count": 3,
     "metadata": {},
     "output_type": "execute_result"
    }
   ],
   "source": [
    "from sklearn.tree import DecisionTreeClassifier\n",
    "\n",
    "clf = DecisionTreeClassifier(random_state=123, max_depth=3)\n",
    "clf.fit(X_train, y_train)\n",
    "\n",
    "acc_test_true = clf.score(X_huge_test, y_huge_test)\n",
    "acc_test_true"
   ]
  },
  {
   "cell_type": "markdown",
   "id": "68a4eee6-2422-4b9d-9d89-a7ffef36d730",
   "metadata": {},
   "source": [
    "## 1) Normal Approximation Interval Based on the Test Set"
   ]
  },
  {
   "cell_type": "code",
   "execution_count": 4,
   "id": "98aad95f-e372-4766-9912-5828f2f83720",
   "metadata": {},
   "outputs": [
    {
     "name": "stdout",
     "output_type": "stream",
     "text": [
      "0.8289298133898874 0.8730701866101126\n"
     ]
    }
   ],
   "source": [
    "import numpy as np\n",
    "import scipy.stats\n",
    "\n",
    "confidence = 0.95  # Change to your desired confidence level\n",
    "z_value = scipy.stats.norm.ppf((1 + confidence) / 2.0)\n",
    "\n",
    "\n",
    "clf.fit(X_train, y_train)\n",
    "\n",
    "acc_test = clf.score(X_test, y_test)\n",
    "ci_length = z_value * np.sqrt((acc_test * (1 - acc_test)) / y_test.shape[0])\n",
    "\n",
    "ci_lower = acc_test - ci_length\n",
    "ci_upper = acc_test + ci_length\n",
    "\n",
    "print(ci_lower, ci_upper)"
   ]
  },
  {
   "cell_type": "code",
   "execution_count": 5,
   "id": "9a7f37e8-2bf5-447f-be9c-9306c6881a60",
   "metadata": {},
   "outputs": [],
   "source": [
    "results = {\n",
    "    \"Method 1: Normal approximation\": {\n",
    "        \"Test accuracy\": acc_test,\n",
    "        \"Lower 95% CI\": ci_lower,\n",
    "        \"Upper 95% CI\": ci_upper,\n",
    "    }\n",
    "}"
   ]
  },
  {
   "cell_type": "markdown",
   "id": "e3e93a0b-db9a-4b84-ad5b-3e230d4e3a38",
   "metadata": {},
   "source": [
    "### 2) Out-of-Bag (OOB) Bootstrap; Bootstrapping Training Sets -- Setup Step"
   ]
  },
  {
   "cell_type": "code",
   "execution_count": 6,
   "id": "3cdd76d5-d7be-4fe4-9f08-29e81e6ae3d9",
   "metadata": {},
   "outputs": [],
   "source": [
    "rng = np.random.RandomState(seed=12345)\n",
    "idx = np.arange(y_train.shape[0])\n",
    "\n",
    "bootstrap_train_accuracies = []\n",
    "bootstrap_rounds = 200\n",
    "\n",
    "\n",
    "for i in range(bootstrap_rounds):\n",
    "\n",
    "    train_idx = rng.choice(idx, size=idx.shape[0], replace=True)\n",
    "    valid_idx = np.setdiff1d(idx, train_idx, assume_unique=False)\n",
    "\n",
    "    boot_train_X, boot_train_y = X_train[train_idx], y_train[train_idx]\n",
    "    boot_valid_X, boot_valid_y = X_train[valid_idx], y_train[valid_idx]\n",
    "\n",
    "    clf.fit(boot_train_X, boot_train_y)\n",
    "    acc = clf.score(boot_valid_X, boot_valid_y)\n",
    "    bootstrap_train_accuracies.append(acc)\n",
    "\n",
    "bootstrap_train_mean = np.mean(bootstrap_train_accuracies)\n",
    "\n",
    "\n",
    "confidence = 0.95  # Change to your desired confidence level\n",
    "t_value = scipy.stats.t.ppf((1 + confidence) / 2.0, df=bootstrap_rounds - 1)\n",
    "\n",
    "\n",
    "se = 0.0\n",
    "for acc in bootstrap_train_accuracies:\n",
    "    se += (acc - bootstrap_train_mean) ** 2\n",
    "se = np.sqrt((1.0 / (bootstrap_rounds - 1)) * se)\n",
    "\n",
    "ci_length = t_value * se\n",
    "\n",
    "ci_lower_21 = bootstrap_train_mean - ci_length\n",
    "ci_upper_21 = bootstrap_train_mean + ci_length"
   ]
  },
  {
   "cell_type": "code",
   "execution_count": 7,
   "id": "4d8e2ba4-c453-4978-a215-55a6fcabfc6c",
   "metadata": {},
   "outputs": [],
   "source": [
    "results[\"Method 2.1: Bootstrap, 1-sample CI\"] = {\n",
    "    \"Test accuracy\": bootstrap_train_mean,\n",
    "    \"Lower 95% CI\": ci_lower_21,\n",
    "    \"Upper 95% CI\": ci_upper_21,\n",
    "}"
   ]
  },
  {
   "cell_type": "markdown",
   "id": "f0959f31-e2a0-4aca-818b-0e7315ec2faf",
   "metadata": {},
   "source": [
    "### 2.2) Bootstrap Percentile Method"
   ]
  },
  {
   "cell_type": "code",
   "execution_count": 8,
   "id": "88c69d47-1cca-42e0-ac10-4e069b678be0",
   "metadata": {},
   "outputs": [],
   "source": [
    "ci_lower_22 = np.percentile(bootstrap_train_accuracies, 2.5)\n",
    "ci_upper_22 = np.percentile(bootstrap_train_accuracies, 97.5)"
   ]
  },
  {
   "cell_type": "code",
   "execution_count": 9,
   "id": "18c7fcbd-958b-4942-9cef-fe6aa7dbcdb4",
   "metadata": {},
   "outputs": [],
   "source": [
    "results[\"Method 2.2: Bootstrap, percentile\"] = {\n",
    "    \"Test accuracy\": bootstrap_train_mean,\n",
    "    \"Lower 95% CI\": ci_lower_22,\n",
    "    \"Upper 95% CI\": ci_upper_22,\n",
    "}"
   ]
  },
  {
   "cell_type": "markdown",
   "id": "76172a2c-c24e-4fba-8653-fa6da4d45b43",
   "metadata": {},
   "source": [
    "### 2.3) .632 Bootstrap"
   ]
  },
  {
   "cell_type": "code",
   "execution_count": 10,
   "id": "946f60f0-b2af-43fb-9a56-34b46786a494",
   "metadata": {},
   "outputs": [],
   "source": [
    "rng = np.random.RandomState(seed=12345)\n",
    "idx = np.arange(y_train.shape[0])\n",
    "\n",
    "bootstrap_train_accuracies = []\n",
    "bootstrap_rounds = 200\n",
    "weight = 0.632\n",
    "\n",
    "for i in range(bootstrap_rounds):\n",
    "\n",
    "    train_idx = rng.choice(idx, size=idx.shape[0], replace=True)\n",
    "    valid_idx = np.setdiff1d(idx, train_idx, assume_unique=False)\n",
    "\n",
    "    boot_train_X, boot_train_y = X_train[train_idx], y_train[train_idx]\n",
    "    boot_valid_X, boot_valid_y = X_train[valid_idx], y_train[valid_idx]\n",
    "\n",
    "    clf.fit(boot_train_X, boot_train_y)\n",
    "    train_acc = clf.score(X_train, y_train)\n",
    "    valid_acc = clf.score(boot_valid_X, boot_valid_y)\n",
    "    acc = weight * train_acc + (1.0 - weight) * valid_acc\n",
    "\n",
    "    bootstrap_train_accuracies.append(acc)\n",
    "\n",
    "bootstrap_train_mean = np.mean(bootstrap_train_accuracies)"
   ]
  },
  {
   "cell_type": "code",
   "execution_count": 11,
   "id": "da458747-9f9e-47ee-a410-261e0c69ef01",
   "metadata": {},
   "outputs": [],
   "source": [
    "ci_lower_23 = np.percentile(bootstrap_train_accuracies, 2.5)\n",
    "ci_upper_23 = np.percentile(bootstrap_train_accuracies, 97.5)\n",
    "\n",
    "\n",
    "results[\"Method 2.3: Bootstrap, .632\"] = {\n",
    "    \"Test accuracy\": bootstrap_train_mean,\n",
    "    \"Lower 95% CI\": ci_lower_23,\n",
    "    \"Upper 95% CI\": ci_upper_23,\n",
    "}"
   ]
  },
  {
   "cell_type": "markdown",
   "id": "46d4d29b-6e4b-42db-b50f-6b8d6750c87a",
   "metadata": {},
   "source": [
    "### 2.4) .632+ Bootstrap"
   ]
  },
  {
   "cell_type": "markdown",
   "id": "c3483410-c40c-4efe-aa63-d7a7467659c4",
   "metadata": {},
   "source": [
    "- Unfortunately, this method is too computationally expensive for this dataset on a regular computer, which is why we skip it."
   ]
  },
  {
   "cell_type": "code",
   "execution_count": 12,
   "id": "0ac8e342-0d99-4c1f-ad4b-5217748f158e",
   "metadata": {},
   "outputs": [
    {
     "data": {
      "text/plain": [
       "'\\nfrom itertools import product\\nfrom sklearn.base import clone\\nfrom sklearn.metrics import accuracy_score\\n\\n\\ndef no_information_rate(targets, predictions, loss_fn):\\n    combinations = np.array(list(product(targets, predictions)))\\n    return loss_fn(combinations[:, 0], combinations[:, 1])\\n\\nrng = np.random.RandomState(seed=12345)\\nidx = np.arange(y_train.shape[0])\\n\\nbootstrap_train_accuracies = []\\nbootstrap_rounds = 200\\nweight = 0.632\\n\\n\\ncloned_clf = clone(clf)\\nfor i in range(bootstrap_rounds):\\n    \\n    train_idx = rng.choice(idx, size=idx.shape[0], replace=True)\\n    valid_idx = np.setdiff1d(idx, train_idx, assume_unique=False)\\n    \\n    boot_train_X, boot_train_y = X_train[train_idx], y_train[train_idx]\\n    boot_valid_X, boot_valid_y = X_train[valid_idx], y_train[valid_idx]\\n    \\n    cloned_clf.fit(boot_train_X, boot_train_y) \\n    train_acc = clf.score(X_train, y_train)\\n    valid_acc = cloned_clf.score(boot_valid_X, boot_valid_y)\\n    \\n    gamma = (no_information_rate(\\n        y, cloned_clf.predict(X),\\n        accuracy_score))\\n    R = (valid_acc - train_acc) / (\\n        gamma - train_acc)\\n\\n    weight = 0.632 / (1 - 0.368*R)\\n    \\n    \\n    acc = (weight*train_acc + (1. - weight)*valid_acc)\\n    \\n    bootstrap_train_accuracies.append(acc)\\n\\nbootstrap_train_mean = np.mean(bootstrap_train_accuracies)\\n\\n'"
      ]
     },
     "execution_count": 12,
     "metadata": {},
     "output_type": "execute_result"
    }
   ],
   "source": [
    "\"\"\"\n",
    "from itertools import product\n",
    "from sklearn.base import clone\n",
    "from sklearn.metrics import accuracy_score\n",
    "\n",
    "\n",
    "def no_information_rate(targets, predictions, loss_fn):\n",
    "    combinations = np.array(list(product(targets, predictions)))\n",
    "    return loss_fn(combinations[:, 0], combinations[:, 1])\n",
    "\n",
    "rng = np.random.RandomState(seed=12345)\n",
    "idx = np.arange(y_train.shape[0])\n",
    "\n",
    "bootstrap_train_accuracies = []\n",
    "bootstrap_rounds = 200\n",
    "weight = 0.632\n",
    "\n",
    "\n",
    "cloned_clf = clone(clf)\n",
    "for i in range(bootstrap_rounds):\n",
    "    \n",
    "    train_idx = rng.choice(idx, size=idx.shape[0], replace=True)\n",
    "    valid_idx = np.setdiff1d(idx, train_idx, assume_unique=False)\n",
    "    \n",
    "    boot_train_X, boot_train_y = X_train[train_idx], y_train[train_idx]\n",
    "    boot_valid_X, boot_valid_y = X_train[valid_idx], y_train[valid_idx]\n",
    "    \n",
    "    cloned_clf.fit(boot_train_X, boot_train_y) \n",
    "    train_acc = clf.score(X_train, y_train)\n",
    "    valid_acc = cloned_clf.score(boot_valid_X, boot_valid_y)\n",
    "    \n",
    "    gamma = (no_information_rate(\n",
    "        y, cloned_clf.predict(X),\n",
    "        accuracy_score))\n",
    "    R = (valid_acc - train_acc) / (\n",
    "        gamma - train_acc)\n",
    "\n",
    "    weight = 0.632 / (1 - 0.368*R)\n",
    "    \n",
    "    \n",
    "    acc = (weight*train_acc + (1. - weight)*valid_acc)\n",
    "    \n",
    "    bootstrap_train_accuracies.append(acc)\n",
    "\n",
    "bootstrap_train_mean = np.mean(bootstrap_train_accuracies)\n",
    "\n",
    "\"\"\""
   ]
  },
  {
   "cell_type": "code",
   "execution_count": 13,
   "id": "dc273eb5-62bc-40f7-853d-c77346ed4840",
   "metadata": {},
   "outputs": [
    {
     "data": {
      "text/plain": [
       "\"\\nci_lower = np.percentile(bootstrap_train_accuracies, 2.5)\\nci_upper = np.percentile(bootstrap_train_accuracies, 97.5)\\n\\n\\nresults['Bootstrap, .632'] =            {'Test accuracy': bootstrap_train_mean,\\n            'Lower 95% CI': ci_lower,\\n            'Upper 95% CI': ci_upper}\\n\\n\""
      ]
     },
     "execution_count": 13,
     "metadata": {},
     "output_type": "execute_result"
    }
   ],
   "source": [
    "\"\"\"\n",
    "ci_lower = np.percentile(bootstrap_train_accuracies, 2.5)\n",
    "ci_upper = np.percentile(bootstrap_train_accuracies, 97.5)\n",
    "\n",
    "\n",
    "results['Bootstrap, .632'] = \\\n",
    "           {'Test accuracy': bootstrap_train_mean,\n",
    "            'Lower 95% CI': ci_lower,\n",
    "            'Upper 95% CI': ci_upper}\n",
    "\n",
    "\"\"\""
   ]
  },
  {
   "cell_type": "markdown",
   "id": "19cc7408-461a-4e39-90ee-5cd7bf48c8af",
   "metadata": {},
   "source": [
    "### 3) Bootstrapping the Test Set predictions"
   ]
  },
  {
   "cell_type": "code",
   "execution_count": 14,
   "id": "f1ef995a-65c3-402d-8664-db29cb67f576",
   "metadata": {},
   "outputs": [],
   "source": [
    "clf.fit(X_train, y_train)\n",
    "\n",
    "predictions_test = clf.predict(X_test)\n",
    "acc_test = np.mean(predictions_test == y_test)\n",
    "\n",
    "rng = np.random.RandomState(seed=12345)\n",
    "idx = np.arange(y_test.shape[0])\n",
    "\n",
    "test_accuracies = []\n",
    "\n",
    "for i in range(200):\n",
    "\n",
    "    pred_idx = rng.choice(idx, size=idx.shape[0], replace=True)\n",
    "    acc_test_boot = np.mean(predictions_test[pred_idx] == y_test[pred_idx])\n",
    "    test_accuracies.append(acc_test_boot)\n",
    "\n",
    "bootstrap_train_mean = np.mean(test_accuracies)"
   ]
  },
  {
   "cell_type": "code",
   "execution_count": 15,
   "id": "6f6fdfb8-38d0-45a6-a554-ee25543e2d4f",
   "metadata": {},
   "outputs": [],
   "source": [
    "ci_lower_3 = np.percentile(test_accuracies, 2.5)\n",
    "ci_upper_3 = np.percentile(test_accuracies, 97.5)\n",
    "\n",
    "results[\"Method 3: Bootstrap test set\"] = {\n",
    "    \"Test accuracy\": bootstrap_train_mean,\n",
    "    \"Lower 95% CI\": ci_lower_3,\n",
    "    \"Upper 95% CI\": ci_upper_3,\n",
    "}"
   ]
  },
  {
   "cell_type": "markdown",
   "id": "cb4ec325-61b9-4862-acf4-0bfa523d228d",
   "metadata": {},
   "source": [
    "## Comparison"
   ]
  },
  {
   "cell_type": "code",
   "execution_count": 16,
   "id": "3be3ae62-a57d-4183-bcf4-b80593e1f7e2",
   "metadata": {},
   "outputs": [
    {
     "data": {
      "image/png": "[encoded data removed]",
      "text/plain": [
       "<Figure size 504x216 with 1 Axes>"
      ]
     },
     "metadata": {
      "needs_background": "light"
     },
     "output_type": "display_data"
    }
   ],
   "source": [
    "%matplotlib inline\n",
    "import matplotlib.pyplot as plt\n",
    "\n",
    "labels = list(results.keys())\n",
    "\n",
    "means = np.array([results[k][\"Test accuracy\"] for k in labels])\n",
    "lower_error = np.array([results[k][\"Lower 95% CI\"] for k in labels])\n",
    "upper_error = np.array([results[k][\"Upper 95% CI\"] for k in labels])\n",
    "\n",
    "asymmetric_error = [means - lower_error, upper_error - means]\n",
    "\n",
    "\n",
    "fig, ax = plt.subplots(figsize=(7, 3))\n",
    "ax.errorbar(means, np.arange(len(means)), xerr=asymmetric_error, fmt=\"o\")\n",
    "ax.set_xlim([0.7, 1.0])\n",
    "ax.set_yticks(np.arange(len(means)))\n",
    "ax.set_yticklabels(labels)\n",
    "ax.set_xlabel(\"Prediction accuracy\")\n",
    "ax.set_title(\"95% confidence intervals\")\n",
    "\n",
    "ax.vlines(acc_test_true, [0], 5, lw=1.5, color=\"red\", linestyle=\"-\", label=\"True value\")\n",
    "\n",
    "plt.grid()\n",
    "plt.tight_layout()\n",
    "plt.savefig(\"matplotlib-figures/comparison-simulation.pdf\")\n",
    "plt.show()"
   ]
  },
  {
   "cell_type": "markdown",
   "id": "5011b685-be7d-42ac-b2a1-ca6d5a8a2d37",
   "metadata": {},
   "source": [
    "- As it turns out all methods' 95% confidence intervals contain the true test accuracy, which is great. However, I noticed that changing the parameters of the data generating function slightly will have a huge effect on this outcome, so take it with a grain of salt.\n",
    "\n",
    "- Ok, ideally we also want to repeat this simulation many times and see if the confidence intervals really contain the true parameter 95% of the time. I originally wanted to leave this as an exercise to the reader, but then I couldn't resist 😛; see [ci-simulation-repeated.ipynb](ci-simulation-repeated.ipynb)."
   ]
  }
 ],
 "metadata": {
  "kernelspec": {
   "display_name": "Python 3 (ipykernel)",
   "language": "python",
   "name": "python3"
  },
  "language_info": {
   "codemirror_mode": {
    "name": "ipython",
    "version": 3
   },
   "file_extension": ".py",
   "mimetype": "text/x-python",
   "name": "python",
   "nbconvert_exporter": "python",
   "pygments_lexer": "ipython3",
   "version": "3.9.7"
  }
 },
 "nbformat": 4,
 "nbformat_minor": 5
}
