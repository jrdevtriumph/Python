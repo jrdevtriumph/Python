{
 "cells": [
  {
   "cell_type": "code",
   "execution_count": 3,
   "id": "e81dfbff-473b-4917-92f2-853e5f5cd43e",
   "metadata": {},
   "outputs": [
    {
     "name": "stdout",
     "output_type": "stream",
     "text": [
      "Sending message to Nahid at +8801714040866 with image...\n",
      "Waiting for 10 seconds before sending the next message...\n",
      "Sending message to Khalil at +8801909251398 with image...\n",
      "Waiting for 15 seconds before sending the next message...\n",
      "All messages sent successfully!\n"
     ]
    }
   ],
   "source": [
    "import pandas as pd\n",
    "import pywhatkit\n",
    "import time\n",
    "import random\n",
    "import os\n",
    "\n",
    "# Function to send WhatsApp messages with an optional image\n",
    "def send_whatsapp_messages_with_image(file_path, image_path):\n",
    "    try:\n",
    "        # Check if the image file exists\n",
    "        if not os.path.exists(image_path):\n",
    "            print(f\"Error: The image file at {image_path} does not exist.\")\n",
    "            return\n",
    "\n",
    "        # Read the Excel file\n",
    "        data = pd.read_excel(file_path)\n",
    "\n",
    "        # Check if the required columns exist\n",
    "        if 'name' not in data.columns or 'number' not in data.columns:\n",
    "            print(\"Error: Excel file must contain 'name' and 'number' columns.\")\n",
    "            return\n",
    "\n",
    "        # Loop through each row in the Excel file\n",
    "        for index, row in data.iterrows():\n",
    "            name = row['name']\n",
    "            \n",
    "            number = str(row['number']).strip()  # Ensure the number is a string\n",
    "\n",
    "            # Ensure the number includes the '+' sign\n",
    "            if not number.startswith('+'):\n",
    "                number = '+' + number\n",
    "\n",
    "            # Prepare the message\n",
    "            message = f\"Hi, {name}\\nHave a good day.\"\n",
    "\n",
    "            # Send the message with the image\n",
    "            print(f\"Sending message to {name} at {number} with image...\")\n",
    "\n",
    "            # Sending WhatsApp message with image\n",
    "            pywhatkit.sendwhats_image(\n",
    "                receiver=number, \n",
    "                img_path=image_path, \n",
    "                caption=message, \n",
    "                wait_time=10,  # Give a bit more time for WhatsApp to load\n",
    "                tab_close=True\n",
    "            )\n",
    "\n",
    "            # Introduce a random delay of 10 to 20 seconds\n",
    "            delay = random.randint(10, 20)\n",
    "            print(f\"Waiting for {delay} seconds before sending the next message...\")\n",
    "            time.sleep(delay)\n",
    "\n",
    "        print(\"All messages sent successfully!\")\n",
    "\n",
    "    except Exception as e:\n",
    "        print(f\"An error occurred: {e}\")\n",
    "\n",
    "\n",
    "# Replace 'your_file_path.xlsx' with the path to your Excel file\n",
    "file_path = \"Contacts.xlsx\"\n",
    "# Replace 'your_image_path.jpg' with the full path to the image you want to send\n",
    "image_path = \"logo.png\"  # Full absolute path to the image\n",
    "send_whatsapp_messages_with_image(file_path, image_path)"
   ]
  },
  {
   "cell_type": "code",
   "execution_count": null,
   "id": "36344ee3-e3e8-4b57-856a-986c02c23de2",
   "metadata": {},
   "outputs": [],
   "source": []
  }
 ],
 "metadata": {
  "kernelspec": {
   "display_name": "Python 3 (ipykernel)",
   "language": "python",
   "name": "python3"
  },
  "language_info": {
   "codemirror_mode": {
    "name": "ipython",
    "version": 3
   },
   "file_extension": ".py",
   "mimetype": "text/x-python",
   "name": "python",
   "nbconvert_exporter": "python",
   "pygments_lexer": "ipython3",
   "version": "3.12.7"
  }
 },
 "nbformat": 4,
 "nbformat_minor": 5
}
